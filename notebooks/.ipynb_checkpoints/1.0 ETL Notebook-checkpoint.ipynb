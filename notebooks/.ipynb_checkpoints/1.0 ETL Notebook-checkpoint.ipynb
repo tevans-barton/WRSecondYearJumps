{
 "cells": [
  {
   "cell_type": "markdown",
   "metadata": {},
   "source": [
    "<div style=\"text-align: right\"> Tommy Evans-Barton </div>\n",
    "<div style=\"text-align: right\"> WR Year 2 Jumps </div>\n",
    "\n",
    "# ETL Notebook"
   ]
  },
  {
   "cell_type": "code",
   "execution_count": 1,
   "metadata": {},
   "outputs": [],
   "source": [
    "import os\n",
    "import sys\n",
    "import pandas as pd\n",
    "import numpy as np\n",
    "import json\n",
    "import requests\n",
    "from bs4 import BeautifulSoup"
   ]
  },
  {
   "cell_type": "code",
   "execution_count": 2,
   "metadata": {},
   "outputs": [],
   "source": [
    "%load_ext autoreload\n",
    "%autoreload 2"
   ]
  },
  {
   "cell_type": "code",
   "execution_count": 3,
   "metadata": {},
   "outputs": [],
   "source": [
    "TOP_PATH = os.environ['PWD']"
   ]
  },
  {
   "cell_type": "code",
   "execution_count": 17,
   "metadata": {},
   "outputs": [],
   "source": [
    "sys.path.append(TOP_PATH + '/src')\n",
    "sys.path.append(TOP_PATH + '/src/upload_data')"
   ]
  },
  {
   "cell_type": "code",
   "execution_count": 19,
   "metadata": {},
   "outputs": [],
   "source": [
    "import etl\n",
    "import etl_upload_data as eud"
   ]
  },
  {
   "cell_type": "code",
   "execution_count": null,
   "metadata": {},
   "outputs": [],
   "source": [
    "with open(TOP_PATH + '/config/data-params.json') as fh:\n",
    "    data_cfg = json.load(fh)"
   ]
  },
  {
   "cell_type": "code",
   "execution_count": null,
   "metadata": {},
   "outputs": [],
   "source": [
    "#etl.get_data(**data_cfg)"
   ]
  },
  {
   "cell_type": "code",
   "execution_count": null,
   "metadata": {},
   "outputs": [],
   "source": [
    "pd.read_csv(TOP_PATH + '/data/raw/RECEIVERS.csv')"
   ]
  },
  {
   "cell_type": "code",
   "execution_count": null,
   "metadata": {},
   "outputs": [],
   "source": [
    "pd.read_csv(TOP_PATH + '/data/raw/REC_STATS.csv')"
   ]
  },
  {
   "cell_type": "code",
   "execution_count": null,
   "metadata": {},
   "outputs": [],
   "source": [
    "pd.read_csv(TOP_PATH + '/data/raw/ADV_REC_STATS.csv')"
   ]
  },
  {
   "cell_type": "code",
   "execution_count": 14,
   "metadata": {},
   "outputs": [],
   "source": [
    "df = pd.DataFrame(full_list)"
   ]
  },
  {
   "cell_type": "code",
   "execution_count": 54,
   "metadata": {
    "scrolled": false
   },
   "outputs": [],
   "source": [
    "df = eud.get_upload_data()"
   ]
  },
  {
   "cell_type": "code",
   "execution_count": 55,
   "metadata": {},
   "outputs": [],
   "source": [
    "players = df['Player']"
   ]
  },
  {
   "cell_type": "code",
   "execution_count": 56,
   "metadata": {},
   "outputs": [],
   "source": [
    "players = players.str.replace(' Jr', '')"
   ]
  },
  {
   "cell_type": "code",
   "execution_count": 57,
   "metadata": {},
   "outputs": [],
   "source": [
    "cap_ind = [[i for i, c in enumerate(s) if c.isupper()] for s in players]"
   ]
  },
  {
   "cell_type": "code",
   "execution_count": null,
   "metadata": {},
   "outputs": [],
   "source": []
  },
  {
   "cell_type": "code",
   "execution_count": 58,
   "metadata": {},
   "outputs": [
    {
     "data": {
      "text/plain": [
       "[[0, 4, 12],\n",
       " [0, 7, 16],\n",
       " [0, 8, 14],\n",
       " [0, 8, 16],\n",
       " [0, 7, 12],\n",
       " [0, 8, 14],\n",
       " [0, 8, 17],\n",
       " [0, 5, 11],\n",
       " [0, 4, 12],\n",
       " [0, 6, 13],\n",
       " [0, 7, 13],\n",
       " [0, 8, 15],\n",
       " [0, 3, 11],\n",
       " [0, 7, 16],\n",
       " [0, 5, 12],\n",
       " [0, 7, 12],\n",
       " [0, 7, 15],\n",
       " [0, 7, 14],\n",
       " [0, 6, 12],\n",
       " [0, 6, 11],\n",
       " [0, 2, 8, 15, 17],\n",
       " [0, 8, 15],\n",
       " [0, 6, 14],\n",
       " [0, 7, 15],\n",
       " [0, 9, 16],\n",
       " [0, 6, 11],\n",
       " [0, 4, 11],\n",
       " [0, 7, 14],\n",
       " [0, 5, 7, 14],\n",
       " [0, 8, 14],\n",
       " [0, 6, 12],\n",
       " [0, 5, 12],\n",
       " [0, 8, 14],\n",
       " [0, 6, 12],\n",
       " [0, 8, 15],\n",
       " [0, 2, 7, 11, 15, 17],\n",
       " [0, 5, 11],\n",
       " [0, 5, 14],\n",
       " [0, 4, 11],\n",
       " [0, 5, 11],\n",
       " [0, 6, 12],\n",
       " [0, 6, 12],\n",
       " [0, 5, 15],\n",
       " [0, 6, 12],\n",
       " [0, 10, 14],\n",
       " [0, 7, 13],\n",
       " [0, 6, 15],\n",
       " [0, 6, 12],\n",
       " [0, 6, 10],\n",
       " [0, 6, 12],\n",
       " [0, 7, 14],\n",
       " [0, 6, 14],\n",
       " [0, 5, 11],\n",
       " [0, 5, 9],\n",
       " [0, 8, 14],\n",
       " [0, 6, 12],\n",
       " [0, 6, 10],\n",
       " [0, 6, 13],\n",
       " [0, 6, 11],\n",
       " [0, 6, 11],\n",
       " [0, 5, 11],\n",
       " [0, 7, 12],\n",
       " [0, 7, 14],\n",
       " [0, 5, 9, 13, 18],\n",
       " [0, 5, 11],\n",
       " [0, 7, 13],\n",
       " [0, 7, 13],\n",
       " [0, 8, 16, 23, 31],\n",
       " [0, 8, 15],\n",
       " [0, 6, 13],\n",
       " [0, 5, 13],\n",
       " [0, 9, 16],\n",
       " [0, 7, 13],\n",
       " [0, 5, 11],\n",
       " [0, 9, 15],\n",
       " [0, 5, 10],\n",
       " [0, 6, 12],\n",
       " [0, 6, 9, 15],\n",
       " [0, 4, 11],\n",
       " [0, 8, 15],\n",
       " [0, 6, 10],\n",
       " [0, 2, 8, 14, 16],\n",
       " [0, 6, 10],\n",
       " [0, 5, 9],\n",
       " [0, 5, 11],\n",
       " [0, 5, 9],\n",
       " [0, 8, 12],\n",
       " [0, 6, 13],\n",
       " [0, 9, 14],\n",
       " [0, 4, 9],\n",
       " [0, 8, 13],\n",
       " [0, 6, 12],\n",
       " [0, 7, 13],\n",
       " [0, 7, 14],\n",
       " [0, 7, 11],\n",
       " [0, 6, 10],\n",
       " [0, 11, 16],\n",
       " [0, 9, 14],\n",
       " [0, 6, 14],\n",
       " [0, 6, 11],\n",
       " [0, 6, 9],\n",
       " [0, 5, 7, 14],\n",
       " [0, 5, 8],\n",
       " [0, 7, 11],\n",
       " [0, 5, 12],\n",
       " [0, 7, 11]]"
      ]
     },
     "execution_count": 58,
     "metadata": {},
     "output_type": "execute_result"
    }
   ],
   "source": [
    "cap_ind"
   ]
  },
  {
   "cell_type": "code",
   "execution_count": 59,
   "metadata": {},
   "outputs": [],
   "source": [
    "players = [players[i][cap_ind[i][-2]:] for i in range(len(cap_ind))]"
   ]
  },
  {
   "cell_type": "code",
   "execution_count": 60,
   "metadata": {},
   "outputs": [
    {
     "data": {
      "text/plain": [
       "['Randall Cobb',\n",
       " 'Emmanuel Sanders',\n",
       " 'Robby Anderson',\n",
       " 'Breshad Perriman',\n",
       " 'Seth Roberts',\n",
       " 'Devin Funchess',\n",
       " 'Demarcus Robinson',\n",
       " 'Chris Moore',\n",
       " 'Damiere Byrd',\n",
       " 'Pharoh Cooper',\n",
       " 'Corey Coleman',\n",
       " 'Travis Benjamin',\n",
       " 'Marqise Lee',\n",
       " 'Geronimo Allison',\n",
       " 'Geremy Davis',\n",
       " 'Cody Latimer',\n",
       " 'Phillip Dorsett',\n",
       " 'Nelson Agholor',\n",
       " 'Tajae Sharpe',\n",
       " 'Jojo Natson',\n",
       " 'McKenzie',\n",
       " 'Darius Jennings',\n",
       " 'Chester Rogers',\n",
       " 'Rashard Higgins',\n",
       " 'Laquon Treadwell',\n",
       " 'Mike Thomas',\n",
       " 'Austin Carr',\n",
       " 'Marcus Johnson',\n",
       " 'Andrew White',\n",
       " 'Keith Kirkwood',\n",
       " 'Malik Turner',\n",
       " 'Trevor Davis',\n",
       " 'Dylan Cantrell',\n",
       " 'Terry Godwin',\n",
       " 'Bryant Mitchell',\n",
       " 'McCloud',\n",
       " 'Jaron Brown',\n",
       " 'Krishawn Hogan',\n",
       " 'Marcus Kemp',\n",
       " 'Chris Hogan',\n",
       " 'Tavon Austin',\n",
       " 'Andre Patton',\n",
       " 'Dontrelle Inman',\n",
       " 'QuincyEnunwa',\n",
       " 'PaulRichardson',\n",
       " 'TaylorGabriel',\n",
       " 'DemaryiusThomas',\n",
       " 'JariusWright',\n",
       " 'JoshGordon',\n",
       " 'DwayneHarris',\n",
       " 'RussellShepard',\n",
       " 'JermaineKearse',\n",
       " 'JustinHardy',\n",
       " 'RyanGrant',\n",
       " 'JordanMatthews',\n",
       " 'JohnnyHolton',\n",
       " 'JoshMalone',\n",
       " 'SheltonGibson',\n",
       " 'LanceLenoir',\n",
       " 'AhmadThomas',\n",
       " 'FeltonDavis',\n",
       " 'SteveIshmael',\n",
       " 'SpencerSchnell',\n",
       " 'Etta-Tawo',\n",
       " 'DavionDavis',\n",
       " 'TaquanMizzell',\n",
       " 'GeorgeMariner',\n",
       " 'Ratliff-Williams',\n",
       " 'JermiahBraswell',\n",
       " 'MauriceHarris',\n",
       " 'TommyleeLewis',\n",
       " 'QuadreeHenderson',\n",
       " 'RashadMedaris',\n",
       " 'RodneyAdams',\n",
       " 'DamionJeanpiere',\n",
       " 'MalikHenry',\n",
       " 'TravisJonsen',\n",
       " 'VontaeHights',\n",
       " 'BrandonPolk',\n",
       " 'TrevionThompson',\n",
       " 'AlexWesley',\n",
       " 'McKnight',\n",
       " 'NickEasley',\n",
       " 'SeanRiley',\n",
       " 'IsaiahZuber',\n",
       " 'CodyWhite',\n",
       " 'KyleWilliams',\n",
       " 'MichaelDereus',\n",
       " 'AndreBaccellia',\n",
       " 'AlevaHifo',\n",
       " 'RiverCracraft',\n",
       " 'MarkenMichel',\n",
       " 'BralonAddison',\n",
       " 'DarrellStewart',\n",
       " 'SeanModster',\n",
       " 'GregDortch',\n",
       " 'ShaneLeatherbury',\n",
       " 'SaeedBlacknall',\n",
       " 'KendrickRogers',\n",
       " 'DevinPhelps',\n",
       " 'BugHoward',\n",
       " 'Reggie White',\n",
       " 'TimWhite',\n",
       " 'KeonHatcher',\n",
       " 'CharonePeake',\n",
       " 'ToddRahming']"
      ]
     },
     "execution_count": 60,
     "metadata": {},
     "output_type": "execute_result"
    }
   ],
   "source": [
    "players"
   ]
  },
  {
   "cell_type": "code",
   "execution_count": 61,
   "metadata": {},
   "outputs": [],
   "source": [
    "df['Player'] = players"
   ]
  },
  {
   "cell_type": "code",
   "execution_count": 62,
   "metadata": {},
   "outputs": [
    {
     "data": {
      "text/html": [
       "<div>\n",
       "<style scoped>\n",
       "    .dataframe tbody tr th:only-of-type {\n",
       "        vertical-align: middle;\n",
       "    }\n",
       "\n",
       "    .dataframe tbody tr th {\n",
       "        vertical-align: top;\n",
       "    }\n",
       "\n",
       "    .dataframe thead th {\n",
       "        text-align: right;\n",
       "    }\n",
       "</style>\n",
       "<table border=\"1\" class=\"dataframe\">\n",
       "  <thead>\n",
       "    <tr style=\"text-align: right;\">\n",
       "      <th></th>\n",
       "      <th>Player</th>\n",
       "      <th>Pos</th>\n",
       "      <th>From</th>\n",
       "      <th>To</th>\n",
       "    </tr>\n",
       "  </thead>\n",
       "  <tbody>\n",
       "    <tr>\n",
       "      <td>0</td>\n",
       "      <td>Randall Cobb</td>\n",
       "      <td>WR</td>\n",
       "      <td>DAL</td>\n",
       "      <td>HOU</td>\n",
       "    </tr>\n",
       "    <tr>\n",
       "      <td>1</td>\n",
       "      <td>Emmanuel Sanders</td>\n",
       "      <td>WR</td>\n",
       "      <td>SF</td>\n",
       "      <td>NO</td>\n",
       "    </tr>\n",
       "    <tr>\n",
       "      <td>2</td>\n",
       "      <td>Robby Anderson</td>\n",
       "      <td>WR</td>\n",
       "      <td>NYJ</td>\n",
       "      <td>CAR</td>\n",
       "    </tr>\n",
       "    <tr>\n",
       "      <td>3</td>\n",
       "      <td>Breshad Perriman</td>\n",
       "      <td>WR</td>\n",
       "      <td>TB</td>\n",
       "      <td>NYJ</td>\n",
       "    </tr>\n",
       "    <tr>\n",
       "      <td>4</td>\n",
       "      <td>Seth Roberts</td>\n",
       "      <td>WR</td>\n",
       "      <td>BAL</td>\n",
       "      <td>CAR</td>\n",
       "    </tr>\n",
       "    <tr>\n",
       "      <td>...</td>\n",
       "      <td>...</td>\n",
       "      <td>...</td>\n",
       "      <td>...</td>\n",
       "      <td>...</td>\n",
       "    </tr>\n",
       "    <tr>\n",
       "      <td>101</td>\n",
       "      <td>Reggie White</td>\n",
       "      <td>WR</td>\n",
       "      <td>NYG</td>\n",
       "      <td>TBD</td>\n",
       "    </tr>\n",
       "    <tr>\n",
       "      <td>102</td>\n",
       "      <td>TimWhite</td>\n",
       "      <td>WR</td>\n",
       "      <td>NO</td>\n",
       "      <td>TBD</td>\n",
       "    </tr>\n",
       "    <tr>\n",
       "      <td>103</td>\n",
       "      <td>KeonHatcher</td>\n",
       "      <td>WR</td>\n",
       "      <td>NYJ</td>\n",
       "      <td>TBD</td>\n",
       "    </tr>\n",
       "    <tr>\n",
       "      <td>104</td>\n",
       "      <td>CharonePeake</td>\n",
       "      <td>WR</td>\n",
       "      <td>JAC</td>\n",
       "      <td>TBD</td>\n",
       "    </tr>\n",
       "    <tr>\n",
       "      <td>105</td>\n",
       "      <td>ToddRahming</td>\n",
       "      <td>WR</td>\n",
       "      <td>MIA</td>\n",
       "      <td>TBD</td>\n",
       "    </tr>\n",
       "  </tbody>\n",
       "</table>\n",
       "<p>106 rows × 4 columns</p>\n",
       "</div>"
      ],
      "text/plain": [
       "               Player Pos From   To\n",
       "0        Randall Cobb  WR  DAL  HOU\n",
       "1    Emmanuel Sanders  WR   SF   NO\n",
       "2      Robby Anderson  WR  NYJ  CAR\n",
       "3    Breshad Perriman  WR   TB  NYJ\n",
       "4        Seth Roberts  WR  BAL  CAR\n",
       "..                ...  ..  ...  ...\n",
       "101      Reggie White  WR  NYG  TBD\n",
       "102          TimWhite  WR   NO  TBD\n",
       "103       KeonHatcher  WR  NYJ  TBD\n",
       "104      CharonePeake  WR  JAC  TBD\n",
       "105       ToddRahming  WR  MIA  TBD\n",
       "\n",
       "[106 rows x 4 columns]"
      ]
     },
     "execution_count": 62,
     "metadata": {},
     "output_type": "execute_result"
    }
   ],
   "source": [
    "df"
   ]
  },
  {
   "cell_type": "code",
   "execution_count": null,
   "metadata": {},
   "outputs": [],
   "source": []
  }
 ],
 "metadata": {
  "kernelspec": {
   "display_name": "Python 3",
   "language": "python",
   "name": "python3"
  },
  "language_info": {
   "codemirror_mode": {
    "name": "ipython",
    "version": 3
   },
   "file_extension": ".py",
   "mimetype": "text/x-python",
   "name": "python",
   "nbconvert_exporter": "python",
   "pygments_lexer": "ipython3",
   "version": "3.7.4"
  }
 },
 "nbformat": 4,
 "nbformat_minor": 2
}
