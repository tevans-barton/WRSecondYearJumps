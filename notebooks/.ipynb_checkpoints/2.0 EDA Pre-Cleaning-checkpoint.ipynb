{
 "cells": [
  {
   "cell_type": "markdown",
   "metadata": {},
   "source": [
    "<div style=\"text-align: right\"> Tommy Evans-Barton </div>\n",
    "<div style=\"text-align: right\"> WR Year 2 Jumps </div>\n",
    "\n",
    "# EDA of Wide Receiver Data Pre-Cleaning\n",
    "\n",
    "The purpose of this notebook is to do a technical analysis of the **raw** data that will be used in the main report, along with some justifications for future cleaning approaches. Most of this work will be academic and mainly to perform due diligence, and only useful for deeper dives into the work of this project. Data courtesy of Pro Football Reference and Football Outsiders."
   ]
  },
  {
   "cell_type": "code",
   "execution_count": 1,
   "metadata": {},
   "outputs": [],
   "source": [
    "import os\n",
    "import sys\n",
    "import pandas as pd\n",
    "import numpy as np\n",
    "import json\n",
    "import matplotlib.pyplot as plt"
   ]
  },
  {
   "cell_type": "code",
   "execution_count": 2,
   "metadata": {},
   "outputs": [],
   "source": [
    "%load_ext autoreload\n",
    "%autoreload 2"
   ]
  },
  {
   "cell_type": "code",
   "execution_count": 3,
   "metadata": {},
   "outputs": [],
   "source": [
    "TOP_PATH = os.environ['PWD']"
   ]
  },
  {
   "cell_type": "code",
   "execution_count": 4,
   "metadata": {},
   "outputs": [],
   "source": [
    "sys.path.append(TOP_PATH + '/src')\n",
    "sys.path.append(TOP_PATH + '/src/viz')"
   ]
  },
  {
   "cell_type": "code",
   "execution_count": 5,
   "metadata": {},
   "outputs": [],
   "source": [
    "import eda_viz_pre"
   ]
  },
  {
   "cell_type": "code",
   "execution_count": 6,
   "metadata": {},
   "outputs": [],
   "source": [
    "receivers = pd.read_csv(TOP_PATH + '/data/raw/RECEIVERS.csv')\n",
    "rec_stats = pd.read_csv(TOP_PATH + '/data/raw/REC_STATS.csv')\n",
    "adv_stats = pd.read_csv(TOP_PATH + '/data/raw/ADV_REC_STATS.csv')"
   ]
  },
  {
   "cell_type": "markdown",
   "metadata": {},
   "source": [
    "## Receivers Drafted Data\n",
    "This data is being used in order to isolate the receivers drafted in the first three rounds from 2010 to 2019, as well as identify which years are their first and second in the league."
   ]
  },
  {
   "cell_type": "code",
   "execution_count": 7,
   "metadata": {
    "scrolled": true
   },
   "outputs": [
    {
     "data": {
      "text/html": [
       "<div>\n",
       "<style scoped>\n",
       "    .dataframe tbody tr th:only-of-type {\n",
       "        vertical-align: middle;\n",
       "    }\n",
       "\n",
       "    .dataframe tbody tr th {\n",
       "        vertical-align: top;\n",
       "    }\n",
       "\n",
       "    .dataframe thead th {\n",
       "        text-align: right;\n",
       "    }\n",
       "</style>\n",
       "<table border=\"1\" class=\"dataframe\">\n",
       "  <thead>\n",
       "    <tr style=\"text-align: right;\">\n",
       "      <th></th>\n",
       "      <th>Rnd</th>\n",
       "      <th>Pick</th>\n",
       "      <th>Tm</th>\n",
       "      <th>Player</th>\n",
       "      <th>Pos</th>\n",
       "      <th>Age</th>\n",
       "      <th>YEAR</th>\n",
       "    </tr>\n",
       "  </thead>\n",
       "  <tbody>\n",
       "    <tr>\n",
       "      <td>0</td>\n",
       "      <td>1</td>\n",
       "      <td>3</td>\n",
       "      <td>CLE</td>\n",
       "      <td>Braylon Edwards</td>\n",
       "      <td>WR</td>\n",
       "      <td>22</td>\n",
       "      <td>2005</td>\n",
       "    </tr>\n",
       "    <tr>\n",
       "      <td>1</td>\n",
       "      <td>1</td>\n",
       "      <td>7</td>\n",
       "      <td>MIN</td>\n",
       "      <td>Troy Williamson</td>\n",
       "      <td>WR</td>\n",
       "      <td>22</td>\n",
       "      <td>2005</td>\n",
       "    </tr>\n",
       "    <tr>\n",
       "      <td>2</td>\n",
       "      <td>1</td>\n",
       "      <td>10</td>\n",
       "      <td>DET</td>\n",
       "      <td>Mike Williams</td>\n",
       "      <td>WR</td>\n",
       "      <td>21</td>\n",
       "      <td>2005</td>\n",
       "    </tr>\n",
       "    <tr>\n",
       "      <td>3</td>\n",
       "      <td>1</td>\n",
       "      <td>21</td>\n",
       "      <td>JAX</td>\n",
       "      <td>Matt Jones</td>\n",
       "      <td>WR</td>\n",
       "      <td>22</td>\n",
       "      <td>2005</td>\n",
       "    </tr>\n",
       "    <tr>\n",
       "      <td>4</td>\n",
       "      <td>1</td>\n",
       "      <td>22</td>\n",
       "      <td>BAL</td>\n",
       "      <td>Mark Clayton</td>\n",
       "      <td>WR</td>\n",
       "      <td>23</td>\n",
       "      <td>2005</td>\n",
       "    </tr>\n",
       "  </tbody>\n",
       "</table>\n",
       "</div>"
      ],
      "text/plain": [
       "   Rnd  Pick   Tm           Player Pos  Age  YEAR\n",
       "0    1     3  CLE  Braylon Edwards  WR   22  2005\n",
       "1    1     7  MIN  Troy Williamson  WR   22  2005\n",
       "2    1    10  DET    Mike Williams  WR   21  2005\n",
       "3    1    21  JAX       Matt Jones  WR   22  2005\n",
       "4    1    22  BAL     Mark Clayton  WR   23  2005"
      ]
     },
     "execution_count": 7,
     "metadata": {},
     "output_type": "execute_result"
    }
   ],
   "source": [
    "receivers.head()"
   ]
  },
  {
   "cell_type": "markdown",
   "metadata": {},
   "source": [
    "### Feature Types\n",
    "Initially, it seems that the typing of the receivers data is fairly reasonable, as all numeric data are integers and all other data are strings."
   ]
  },
  {
   "cell_type": "code",
   "execution_count": 8,
   "metadata": {
    "scrolled": false
   },
   "outputs": [
    {
     "data": {
      "text/plain": [
       "Rnd        int64\n",
       "Pick       int64\n",
       "Tm        object\n",
       "Player    object\n",
       "Pos       object\n",
       "Age        int64\n",
       "YEAR       int64\n",
       "dtype: object"
      ]
     },
     "execution_count": 8,
     "metadata": {},
     "output_type": "execute_result"
    }
   ],
   "source": [
    "receivers.dtypes"
   ]
  },
  {
   "cell_type": "markdown",
   "metadata": {},
   "source": [
    "### Missingness\n",
    "There seem to be no missing entries for this dataset, which is in line with initial assumptions."
   ]
  },
  {
   "cell_type": "code",
   "execution_count": 9,
   "metadata": {
    "scrolled": true
   },
   "outputs": [
    {
     "data": {
      "text/plain": [
       "Rnd       0.0\n",
       "Pick      0.0\n",
       "Tm        0.0\n",
       "Player    0.0\n",
       "Pos       0.0\n",
       "Age       0.0\n",
       "YEAR      0.0\n",
       "dtype: float64"
      ]
     },
     "execution_count": 9,
     "metadata": {},
     "output_type": "execute_result"
    }
   ],
   "source": [
    "receivers.isnull().mean()"
   ]
  },
  {
   "cell_type": "markdown",
   "metadata": {},
   "source": [
    "### Categoric Features"
   ]
  },
  {
   "cell_type": "markdown",
   "metadata": {},
   "source": [
    "#### Team\n",
    "\n",
    "This data seems to use a fairly standard 3 letter encoding of the teams, with all teams accounted for, including former franchises the St. Louis Rams and the San Diego Chargers, who will probably be combined into their L.A. counterparts."
   ]
  },
  {
   "cell_type": "code",
   "execution_count": 10,
   "metadata": {},
   "outputs": [
    {
     "data": {
      "text/plain": [
       "34"
      ]
     },
     "execution_count": 10,
     "metadata": {},
     "output_type": "execute_result"
    }
   ],
   "source": [
    "receivers['Tm'].nunique()"
   ]
  },
  {
   "cell_type": "code",
   "execution_count": 11,
   "metadata": {},
   "outputs": [
    {
     "data": {
      "text/plain": [
       "TEN    11\n",
       "PIT    11\n",
       "NYG     9\n",
       "CIN     8\n",
       "PHI     7\n",
       "BUF     7\n",
       "GNB     7\n",
       "SFO     7\n",
       "ARI     7\n",
       "HOU     6\n",
       "DEN     6\n",
       "BAL     6\n",
       "DET     6\n",
       "JAX     6\n",
       "CLE     6\n",
       "SEA     6\n",
       "MIA     6\n",
       "CAR     6\n",
       "CHI     6\n",
       "ATL     5\n",
       "IND     5\n",
       "STL     5\n",
       "KAN     5\n",
       "MIN     5\n",
       "WAS     5\n",
       "NWE     5\n",
       "TAM     5\n",
       "NOR     4\n",
       "SDG     4\n",
       "NYJ     3\n",
       "DAL     3\n",
       "OAK     3\n",
       "LAR     1\n",
       "LAC     1\n",
       "Name: Tm, dtype: int64"
      ]
     },
     "execution_count": 11,
     "metadata": {},
     "output_type": "execute_result"
    }
   ],
   "source": [
    "receivers['Tm'].value_counts()"
   ]
  },
  {
   "cell_type": "markdown",
   "metadata": {},
   "source": [
    "### Distribution of Numeric Features"
   ]
  },
  {
   "cell_type": "markdown",
   "metadata": {},
   "source": [
    "#### Rounds\n",
    "Over the three rounds, the number of receivers selected increases by round. However, there are more picks in the third round, due to compensatory selections, which will also affect the distribution of receivers by pick in the chart that follows this one."
   ]
  },
  {
   "cell_type": "code",
   "execution_count": 12,
   "metadata": {
    "scrolled": false
   },
   "outputs": [
    {
     "data": {
      "image/png": "[encoded data removed]",
      "text/plain": [
       "<Figure size 612x396 with 1 Axes>"
      ]
     },
     "metadata": {},
     "output_type": "display_data"
    }
   ],
   "source": [
    "eda_viz_pre.round_distribution(savefig = True)"
   ]
  },
  {
   "cell_type": "markdown",
   "metadata": {},
   "source": [
    "#### Picks\n",
    "In terms of the distribution of receivers drafted by 10 picks, there is an odd dip in the middle of each round, i.e. around the 11th to 20th pick of each round with spikes at the beginning and end of rounds. However, while interesting in it's own right, this will not be have an effect on this analysis."
   ]
  },
  {
   "cell_type": "code",
   "execution_count": 13,
   "metadata": {},
   "outputs": [
    {
     "data": {
      "image/png": "[encoded data removed]",
      "text/plain": [
       "<Figure size 612x396 with 1 Axes>"
      ]
     },
     "metadata": {},
     "output_type": "display_data"
    }
   ],
   "source": [
    "eda_viz_pre.pick_distribution(savefig = True)"
   ]
  },
  {
   "cell_type": "markdown",
   "metadata": {},
   "source": [
    "#### Age\n",
    "The distribution of the ages of the players is as expected: a fairly normal distribution with a peak at 22 years old, a fairly standard age to be finishing college at."
   ]
  },
  {
   "cell_type": "code",
   "execution_count": 14,
   "metadata": {},
   "outputs": [
    {
     "data": {
      "image/png": "[encoded data removed]",
      "text/plain": [
       "<Figure size 612x396 with 1 Axes>"
      ]
     },
     "metadata": {},
     "output_type": "display_data"
    }
   ],
   "source": [
    "eda_viz_pre.age_distribution(savefig = True)"
   ]
  },
  {
   "cell_type": "markdown",
   "metadata": {},
   "source": [
    "## Receiver Stats Data\n",
    "These fairly standard statistics (courtesy of Pro Football Reference) for receivers will be used for the projections of second year jumps. They will need to be trimmed down to only the rookie and second year players for each year. (*Note:* a Glossary of this dataset's features is available in the reference section)"
   ]
  },
  {
   "cell_type": "code",
   "execution_count": 15,
   "metadata": {},
   "outputs": [
    {
     "data": {
      "text/html": [
       "<div>\n",
       "<style scoped>\n",
       "    .dataframe tbody tr th:only-of-type {\n",
       "        vertical-align: middle;\n",
       "    }\n",
       "\n",
       "    .dataframe tbody tr th {\n",
       "        vertical-align: top;\n",
       "    }\n",
       "\n",
       "    .dataframe thead th {\n",
       "        text-align: right;\n",
       "    }\n",
       "</style>\n",
       "<table border=\"1\" class=\"dataframe\">\n",
       "  <thead>\n",
       "    <tr style=\"text-align: right;\">\n",
       "      <th></th>\n",
       "      <th>Player</th>\n",
       "      <th>Tm</th>\n",
       "      <th>Age</th>\n",
       "      <th>Pos</th>\n",
       "      <th>G</th>\n",
       "      <th>GS</th>\n",
       "      <th>Tgt</th>\n",
       "      <th>Rec</th>\n",
       "      <th>Ctch%</th>\n",
       "      <th>Yds</th>\n",
       "      <th>Y/R</th>\n",
       "      <th>TD</th>\n",
       "      <th>1D</th>\n",
       "      <th>Lng</th>\n",
       "      <th>Y/Tgt</th>\n",
       "      <th>R/G</th>\n",
       "      <th>Y/G</th>\n",
       "      <th>Fmb</th>\n",
       "      <th>YEAR</th>\n",
       "    </tr>\n",
       "  </thead>\n",
       "  <tbody>\n",
       "    <tr>\n",
       "      <td>0</td>\n",
       "      <td>Larry Fitzgerald*</td>\n",
       "      <td>ARI</td>\n",
       "      <td>22</td>\n",
       "      <td>WR</td>\n",
       "      <td>16</td>\n",
       "      <td>16</td>\n",
       "      <td>165.0</td>\n",
       "      <td>103</td>\n",
       "      <td>62.4%</td>\n",
       "      <td>1409</td>\n",
       "      <td>13.7</td>\n",
       "      <td>10</td>\n",
       "      <td>68</td>\n",
       "      <td>47</td>\n",
       "      <td>8.5</td>\n",
       "      <td>6.4</td>\n",
       "      <td>88.1</td>\n",
       "      <td>0</td>\n",
       "      <td>2005</td>\n",
       "    </tr>\n",
       "    <tr>\n",
       "      <td>1</td>\n",
       "      <td>Steve Smith*+</td>\n",
       "      <td>CAR</td>\n",
       "      <td>26</td>\n",
       "      <td>WR</td>\n",
       "      <td>16</td>\n",
       "      <td>16</td>\n",
       "      <td>150.0</td>\n",
       "      <td>103</td>\n",
       "      <td>68.7%</td>\n",
       "      <td>1563</td>\n",
       "      <td>15.2</td>\n",
       "      <td>12</td>\n",
       "      <td>72</td>\n",
       "      <td>80</td>\n",
       "      <td>10.4</td>\n",
       "      <td>6.4</td>\n",
       "      <td>97.7</td>\n",
       "      <td>2</td>\n",
       "      <td>2005</td>\n",
       "    </tr>\n",
       "    <tr>\n",
       "      <td>2</td>\n",
       "      <td>Anquan Boldin</td>\n",
       "      <td>ARI</td>\n",
       "      <td>25</td>\n",
       "      <td>WR</td>\n",
       "      <td>14</td>\n",
       "      <td>14</td>\n",
       "      <td>171.0</td>\n",
       "      <td>102</td>\n",
       "      <td>59.6%</td>\n",
       "      <td>1402</td>\n",
       "      <td>13.7</td>\n",
       "      <td>7</td>\n",
       "      <td>69</td>\n",
       "      <td>54</td>\n",
       "      <td>8.2</td>\n",
       "      <td>7.3</td>\n",
       "      <td>100.1</td>\n",
       "      <td>2</td>\n",
       "      <td>2005</td>\n",
       "    </tr>\n",
       "    <tr>\n",
       "      <td>3</td>\n",
       "      <td>Torry Holt*</td>\n",
       "      <td>STL</td>\n",
       "      <td>29</td>\n",
       "      <td>WR</td>\n",
       "      <td>14</td>\n",
       "      <td>14</td>\n",
       "      <td>163.0</td>\n",
       "      <td>102</td>\n",
       "      <td>62.6%</td>\n",
       "      <td>1331</td>\n",
       "      <td>13.0</td>\n",
       "      <td>9</td>\n",
       "      <td>63</td>\n",
       "      <td>44</td>\n",
       "      <td>8.2</td>\n",
       "      <td>7.3</td>\n",
       "      <td>95.1</td>\n",
       "      <td>2</td>\n",
       "      <td>2005</td>\n",
       "    </tr>\n",
       "    <tr>\n",
       "      <td>4</td>\n",
       "      <td>Chad Johnson *+</td>\n",
       "      <td>CIN</td>\n",
       "      <td>27</td>\n",
       "      <td>WR</td>\n",
       "      <td>16</td>\n",
       "      <td>16</td>\n",
       "      <td>155.0</td>\n",
       "      <td>97</td>\n",
       "      <td>62.6%</td>\n",
       "      <td>1432</td>\n",
       "      <td>14.8</td>\n",
       "      <td>9</td>\n",
       "      <td>74</td>\n",
       "      <td>70</td>\n",
       "      <td>9.2</td>\n",
       "      <td>6.1</td>\n",
       "      <td>89.5</td>\n",
       "      <td>1</td>\n",
       "      <td>2005</td>\n",
       "    </tr>\n",
       "  </tbody>\n",
       "</table>\n",
       "</div>"
      ],
      "text/plain": [
       "              Player   Tm  Age Pos   G  GS    Tgt  Rec  Ctch%   Yds   Y/R  TD  \\\n",
       "0  Larry Fitzgerald*  ARI   22  WR  16  16  165.0  103  62.4%  1409  13.7  10   \n",
       "1      Steve Smith*+  CAR   26  WR  16  16  150.0  103  68.7%  1563  15.2  12   \n",
       "2      Anquan Boldin  ARI   25  WR  14  14  171.0  102  59.6%  1402  13.7   7   \n",
       "3        Torry Holt*  STL   29  WR  14  14  163.0  102  62.6%  1331  13.0   9   \n",
       "4    Chad Johnson *+  CIN   27  WR  16  16  155.0   97  62.6%  1432  14.8   9   \n",
       "\n",
       "   1D  Lng  Y/Tgt  R/G    Y/G  Fmb  YEAR  \n",
       "0  68   47    8.5  6.4   88.1    0  2005  \n",
       "1  72   80   10.4  6.4   97.7    2  2005  \n",
       "2  69   54    8.2  7.3  100.1    2  2005  \n",
       "3  63   44    8.2  7.3   95.1    2  2005  \n",
       "4  74   70    9.2  6.1   89.5    1  2005  "
      ]
     },
     "execution_count": 15,
     "metadata": {},
     "output_type": "execute_result"
    }
   ],
   "source": [
    "rec_stats.head()"
   ]
  },
  {
   "cell_type": "markdown",
   "metadata": {},
   "source": [
    "### Feature Types\n",
    "For the typing of our features, while the `Catch Percentage` column is a string and will need to be converted to a float, the rest of the features are in the correct format for analysis. Additionally, on viewing the `Player Name` column, there will need to be some slight cleaning of extra characters."
   ]
  },
  {
   "cell_type": "code",
   "execution_count": 16,
   "metadata": {},
   "outputs": [
    {
     "data": {
      "text/plain": [
       "Player     object\n",
       "Tm         object\n",
       "Age         int64\n",
       "Pos        object\n",
       "G           int64\n",
       "GS          int64\n",
       "Tgt       float64\n",
       "Rec         int64\n",
       "Ctch%      object\n",
       "Yds         int64\n",
       "Y/R       float64\n",
       "TD          int64\n",
       "1D          int64\n",
       "Lng         int64\n",
       "Y/Tgt     float64\n",
       "R/G       float64\n",
       "Y/G       float64\n",
       "Fmb         int64\n",
       "YEAR        int64\n",
       "dtype: object"
      ]
     },
     "execution_count": 16,
     "metadata": {},
     "output_type": "execute_result"
    }
   ],
   "source": [
    "rec_stats.dtypes"
   ]
  },
  {
   "cell_type": "markdown",
   "metadata": {},
   "source": [
    "### Missingness\n",
    "The only column that has a substantial amount of missing variables is the Position column, and since we will later be merging on a list of only receivers, it won't matter. Certain target numbers are also missing, and therefore their yards per target are also missing. However, this only applies to three individuals, and shouldn't greatly affect the model."
   ]
  },
  {
   "cell_type": "code",
   "execution_count": 17,
   "metadata": {
    "scrolled": true
   },
   "outputs": [
    {
     "data": {
      "text/plain": [
       "Player    0.000000\n",
       "Tm        0.000000\n",
       "Age       0.000000\n",
       "Pos       0.729063\n",
       "G         0.000000\n",
       "GS        0.000000\n",
       "Tgt       0.000622\n",
       "Rec       0.000000\n",
       "Ctch%     0.000000\n",
       "Yds       0.000000\n",
       "Y/R       0.000000\n",
       "TD        0.000000\n",
       "1D        0.000000\n",
       "Lng       0.000000\n",
       "Y/Tgt     0.000622\n",
       "R/G       0.000000\n",
       "Y/G       0.000000\n",
       "Fmb       0.000000\n",
       "YEAR      0.000000\n",
       "dtype: float64"
      ]
     },
     "execution_count": 17,
     "metadata": {},
     "output_type": "execute_result"
    }
   ],
   "source": [
    "rec_stats.isnull().mean()"
   ]
  },
  {
   "cell_type": "code",
   "execution_count": 18,
   "metadata": {},
   "outputs": [
    {
     "data": {
      "text/html": [
       "<div>\n",
       "<style scoped>\n",
       "    .dataframe tbody tr th:only-of-type {\n",
       "        vertical-align: middle;\n",
       "    }\n",
       "\n",
       "    .dataframe tbody tr th {\n",
       "        vertical-align: top;\n",
       "    }\n",
       "\n",
       "    .dataframe thead th {\n",
       "        text-align: right;\n",
       "    }\n",
       "</style>\n",
       "<table border=\"1\" class=\"dataframe\">\n",
       "  <thead>\n",
       "    <tr style=\"text-align: right;\">\n",
       "      <th></th>\n",
       "      <th>Player</th>\n",
       "      <th>Tm</th>\n",
       "      <th>Age</th>\n",
       "      <th>Pos</th>\n",
       "      <th>G</th>\n",
       "      <th>GS</th>\n",
       "      <th>Tgt</th>\n",
       "      <th>Rec</th>\n",
       "      <th>Ctch%</th>\n",
       "      <th>Yds</th>\n",
       "      <th>Y/R</th>\n",
       "      <th>TD</th>\n",
       "      <th>1D</th>\n",
       "      <th>Lng</th>\n",
       "      <th>Y/Tgt</th>\n",
       "      <th>R/G</th>\n",
       "      <th>Y/G</th>\n",
       "      <th>Fmb</th>\n",
       "      <th>YEAR</th>\n",
       "    </tr>\n",
       "  </thead>\n",
       "  <tbody>\n",
       "    <tr>\n",
       "      <td>2052</td>\n",
       "      <td>Clyde Gates</td>\n",
       "      <td>MIA</td>\n",
       "      <td>25</td>\n",
       "      <td>NaN</td>\n",
       "      <td>15</td>\n",
       "      <td>0</td>\n",
       "      <td>NaN</td>\n",
       "      <td>2</td>\n",
       "      <td>0.0%</td>\n",
       "      <td>19</td>\n",
       "      <td>9.5</td>\n",
       "      <td>0</td>\n",
       "      <td>1</td>\n",
       "      <td>11</td>\n",
       "      <td>NaN</td>\n",
       "      <td>0.1</td>\n",
       "      <td>1.3</td>\n",
       "      <td>0</td>\n",
       "      <td>2011</td>\n",
       "    </tr>\n",
       "    <tr>\n",
       "      <td>3073</td>\n",
       "      <td>David Johnson</td>\n",
       "      <td>SDG</td>\n",
       "      <td>27</td>\n",
       "      <td>NaN</td>\n",
       "      <td>14</td>\n",
       "      <td>2</td>\n",
       "      <td>NaN</td>\n",
       "      <td>1</td>\n",
       "      <td>0.0%</td>\n",
       "      <td>4</td>\n",
       "      <td>4.0</td>\n",
       "      <td>0</td>\n",
       "      <td>0</td>\n",
       "      <td>4</td>\n",
       "      <td>NaN</td>\n",
       "      <td>0.1</td>\n",
       "      <td>0.3</td>\n",
       "      <td>0</td>\n",
       "      <td>2014</td>\n",
       "    </tr>\n",
       "    <tr>\n",
       "      <td>3084</td>\n",
       "      <td>Aldrick Robinson</td>\n",
       "      <td>2TM</td>\n",
       "      <td>26</td>\n",
       "      <td>NaN</td>\n",
       "      <td>7</td>\n",
       "      <td>0</td>\n",
       "      <td>NaN</td>\n",
       "      <td>1</td>\n",
       "      <td>0.0%</td>\n",
       "      <td>6</td>\n",
       "      <td>6.0</td>\n",
       "      <td>0</td>\n",
       "      <td>0</td>\n",
       "      <td>6</td>\n",
       "      <td>NaN</td>\n",
       "      <td>0.1</td>\n",
       "      <td>0.9</td>\n",
       "      <td>0</td>\n",
       "      <td>2014</td>\n",
       "    </tr>\n",
       "  </tbody>\n",
       "</table>\n",
       "</div>"
      ],
      "text/plain": [
       "                Player   Tm  Age  Pos   G  GS  Tgt  Rec Ctch%  Yds  Y/R  TD  \\\n",
       "2052       Clyde Gates  MIA   25  NaN  15   0  NaN    2  0.0%   19  9.5   0   \n",
       "3073     David Johnson  SDG   27  NaN  14   2  NaN    1  0.0%    4  4.0   0   \n",
       "3084  Aldrick Robinson  2TM   26  NaN   7   0  NaN    1  0.0%    6  6.0   0   \n",
       "\n",
       "      1D  Lng  Y/Tgt  R/G  Y/G  Fmb  YEAR  \n",
       "2052   1   11    NaN  0.1  1.3    0  2011  \n",
       "3073   0    4    NaN  0.1  0.3    0  2014  \n",
       "3084   0    6    NaN  0.1  0.9    0  2014  "
      ]
     },
     "execution_count": 18,
     "metadata": {},
     "output_type": "execute_result"
    }
   ],
   "source": [
    "rec_stats[rec_stats['Tgt'].isnull()]"
   ]
  },
  {
   "cell_type": "markdown",
   "metadata": {},
   "source": [
    "### Categorical Features"
   ]
  },
  {
   "cell_type": "markdown",
   "metadata": {},
   "source": [
    "#### Team\n",
    "This data seems to use a similar 3 character encoding of the teams as described previously. When the team encodings in this dataset are compared to the drafted receivers dataset, it can be seen that they are the same, and therefore won't need to be changed, albeit the encodings for a player being on multiple teams will most likely need to be replaced with NaNs."
   ]
  },
  {
   "cell_type": "code",
   "execution_count": 19,
   "metadata": {},
   "outputs": [
    {
     "data": {
      "text/plain": [
       "37"
      ]
     },
     "execution_count": 19,
     "metadata": {},
     "output_type": "execute_result"
    }
   ],
   "source": [
    "rec_stats['Tm'].nunique()"
   ]
  },
  {
   "cell_type": "code",
   "execution_count": 20,
   "metadata": {},
   "outputs": [
    {
     "data": {
      "text/plain": [
       "2TM    215\n",
       "JAX    160\n",
       "SEA    158\n",
       "GNB    157\n",
       "ARI    155\n",
       "TAM    154\n",
       "OAK    153\n",
       "IND    152\n",
       "KAN    151\n",
       "NYG    151\n",
       "BUF    150\n",
       "NYJ    150\n",
       "DET    149\n",
       "WAS    149\n",
       "TEN    146\n",
       "PIT    146\n",
       "NOR    144\n",
       "CLE    143\n",
       "CIN    143\n",
       "SFO    142\n",
       "BAL    141\n",
       "ATL    138\n",
       "CHI    136\n",
       "MIN    136\n",
       "NWE    136\n",
       "HOU    134\n",
       "PHI    134\n",
       "DEN    134\n",
       "DAL    126\n",
       "MIA    126\n",
       "CAR    117\n",
       "STL    112\n",
       "SDG    107\n",
       "LAR     41\n",
       "LAC     24\n",
       "3TM     13\n",
       "4TM      1\n",
       "Name: Tm, dtype: int64"
      ]
     },
     "execution_count": 20,
     "metadata": {},
     "output_type": "execute_result"
    }
   ],
   "source": [
    "rec_stats['Tm'].value_counts()"
   ]
  },
  {
   "cell_type": "code",
   "execution_count": 21,
   "metadata": {},
   "outputs": [
    {
     "data": {
      "text/plain": [
       "set()"
      ]
     },
     "execution_count": 21,
     "metadata": {},
     "output_type": "execute_result"
    }
   ],
   "source": [
    "set(receivers['Tm']) - set(rec_stats['Tm'])"
   ]
  },
  {
   "cell_type": "code",
   "execution_count": 22,
   "metadata": {},
   "outputs": [
    {
     "data": {
      "text/plain": [
       "{'2TM', '3TM', '4TM'}"
      ]
     },
     "execution_count": 22,
     "metadata": {},
     "output_type": "execute_result"
    }
   ],
   "source": [
    "set(rec_stats['Tm']) - set(receivers['Tm'])"
   ]
  },
  {
   "cell_type": "markdown",
   "metadata": {},
   "source": [
    "#### Position\n",
    "Since every position in the receivers data is WR the nulls don't matter, and this column may just end up being dropped."
   ]
  },
  {
   "cell_type": "code",
   "execution_count": 23,
   "metadata": {},
   "outputs": [
    {
     "data": {
      "text/plain": [
       "NaN    3517\n",
       "WR     1036\n",
       "wr      271\n",
       "Name: Pos, dtype: int64"
      ]
     },
     "execution_count": 23,
     "metadata": {},
     "output_type": "execute_result"
    }
   ],
   "source": [
    "rec_stats['Pos'].value_counts(dropna = False)"
   ]
  },
  {
   "cell_type": "markdown",
   "metadata": {},
   "source": [
    "### Distribution of Numeric Features"
   ]
  },
  {
   "cell_type": "markdown",
   "metadata": {},
   "source": [
    "#### Games\n",
    "Most players played in the majority of games, with very few playing in less than 2 games, probably due to an artifact of the recording (a player is less likely to have receiving stats recorded if they didn't play many games)."
   ]
  },
  {
   "cell_type": "code",
   "execution_count": 24,
   "metadata": {},
   "outputs": [
    {
     "data": {
      "image/png": "[encoded data removed]",
      "text/plain": [
       "<Figure size 612x396 with 1 Axes>"
      ]
     },
     "metadata": {},
     "output_type": "display_data"
    }
   ],
   "source": [
    "eda_viz_pre.game_distribution(savefig = True)"
   ]
  },
  {
   "cell_type": "markdown",
   "metadata": {},
   "source": [
    "#### Games Started\n",
    "Interestingly, while the Games feature is far more dense at the top of its range, the games started distribution seems to be a far more uniform distribution from 5 to 14, with an uptick again at 15. It also makes sense that the majority of players did not start a game."
   ]
  },
  {
   "cell_type": "code",
   "execution_count": 25,
   "metadata": {
    "scrolled": false
   },
   "outputs": [
    {
     "data": {
      "image/png": "[encoded data removed]",
      "text/plain": [
       "<Figure size 612x396 with 1 Axes>"
      ]
     },
     "metadata": {},
     "output_type": "display_data"
    }
   ],
   "source": [
    "eda_viz_pre.gs_distribution(savefig = True)"
   ]
  },
  {
   "cell_type": "markdown",
   "metadata": {},
   "source": [
    "#### Targets\n",
    "Targets seems to be an inversely related distribution with a large spike in the 0-25 range, which makes sense as most players will not receive much playing time (i.e. snaps so their targets will be low). This distribution also has a very large outlier in the 200 range. Upon further investigation, there are 2 receivers who have ever put up 200 receptions in a single season (Calvin Johnson and Julio Jones), both of whom put up historical seasons in these years."
   ]
  },
  {
   "cell_type": "code",
   "execution_count": 26,
   "metadata": {},
   "outputs": [
    {
     "data": {
      "image/png": "[encoded data removed]",
      "text/plain": [
       "<Figure size 612x396 with 1 Axes>"
      ]
     },
     "metadata": {},
     "output_type": "display_data"
    }
   ],
   "source": [
    "eda_viz_pre.tgt_distribution(savefig = True)"
   ]
  },
  {
   "cell_type": "code",
   "execution_count": 27,
   "metadata": {},
   "outputs": [
    {
     "data": {
      "text/html": [
       "<div>\n",
       "<style scoped>\n",
       "    .dataframe tbody tr th:only-of-type {\n",
       "        vertical-align: middle;\n",
       "    }\n",
       "\n",
       "    .dataframe tbody tr th {\n",
       "        vertical-align: top;\n",
       "    }\n",
       "\n",
       "    .dataframe thead th {\n",
       "        text-align: right;\n",
       "    }\n",
       "</style>\n",
       "<table border=\"1\" class=\"dataframe\">\n",
       "  <thead>\n",
       "    <tr style=\"text-align: right;\">\n",
       "      <th></th>\n",
       "      <th>Player</th>\n",
       "      <th>Tm</th>\n",
       "      <th>Age</th>\n",
       "      <th>Pos</th>\n",
       "      <th>G</th>\n",
       "      <th>GS</th>\n",
       "      <th>Tgt</th>\n",
       "      <th>Rec</th>\n",
       "      <th>Ctch%</th>\n",
       "      <th>Yds</th>\n",
       "      <th>Y/R</th>\n",
       "      <th>TD</th>\n",
       "      <th>1D</th>\n",
       "      <th>Lng</th>\n",
       "      <th>Y/Tgt</th>\n",
       "      <th>R/G</th>\n",
       "      <th>Y/G</th>\n",
       "      <th>Fmb</th>\n",
       "      <th>YEAR</th>\n",
       "    </tr>\n",
       "  </thead>\n",
       "  <tbody>\n",
       "    <tr>\n",
       "      <td>2107</td>\n",
       "      <td>Calvin Johnson *+</td>\n",
       "      <td>DET</td>\n",
       "      <td>27</td>\n",
       "      <td>WR</td>\n",
       "      <td>16</td>\n",
       "      <td>16</td>\n",
       "      <td>204.0</td>\n",
       "      <td>122</td>\n",
       "      <td>59.8%</td>\n",
       "      <td>1964</td>\n",
       "      <td>16.1</td>\n",
       "      <td>5</td>\n",
       "      <td>92</td>\n",
       "      <td>53</td>\n",
       "      <td>9.6</td>\n",
       "      <td>7.6</td>\n",
       "      <td>122.8</td>\n",
       "      <td>3</td>\n",
       "      <td>2012</td>\n",
       "    </tr>\n",
       "    <tr>\n",
       "      <td>3093</td>\n",
       "      <td>Julio Jones *+</td>\n",
       "      <td>ATL</td>\n",
       "      <td>26</td>\n",
       "      <td>WR</td>\n",
       "      <td>16</td>\n",
       "      <td>16</td>\n",
       "      <td>203.0</td>\n",
       "      <td>136</td>\n",
       "      <td>67.0%</td>\n",
       "      <td>1871</td>\n",
       "      <td>13.8</td>\n",
       "      <td>8</td>\n",
       "      <td>93</td>\n",
       "      <td>70</td>\n",
       "      <td>9.2</td>\n",
       "      <td>8.5</td>\n",
       "      <td>116.9</td>\n",
       "      <td>3</td>\n",
       "      <td>2015</td>\n",
       "    </tr>\n",
       "  </tbody>\n",
       "</table>\n",
       "</div>"
      ],
      "text/plain": [
       "                 Player   Tm  Age Pos   G  GS    Tgt  Rec  Ctch%   Yds   Y/R  \\\n",
       "2107  Calvin Johnson *+  DET   27  WR  16  16  204.0  122  59.8%  1964  16.1   \n",
       "3093     Julio Jones *+  ATL   26  WR  16  16  203.0  136  67.0%  1871  13.8   \n",
       "\n",
       "      TD  1D  Lng  Y/Tgt  R/G    Y/G  Fmb  YEAR  \n",
       "2107   5  92   53    9.6  7.6  122.8    3  2012  \n",
       "3093   8  93   70    9.2  8.5  116.9    3  2015  "
      ]
     },
     "execution_count": 27,
     "metadata": {},
     "output_type": "execute_result"
    }
   ],
   "source": [
    "rec_stats[rec_stats['Tgt'] >= 200]"
   ]
  },
  {
   "cell_type": "markdown",
   "metadata": {},
   "source": [
    "#### Receptions\n",
    "The Receptions distribution has a very similar shape to the Targets which intuitively makes some sense. There is one rather large outlier, which has been a bit washed out by the size of the zero bin, and upon inspection that is Michael Thomas, who broke the record for receptions in a season in 2019."
   ]
  },
  {
   "cell_type": "code",
   "execution_count": 28,
   "metadata": {},
   "outputs": [
    {
     "data": {
      "image/png": "[encoded data removed]",
      "text/plain": [
       "<Figure size 612x396 with 1 Axes>"
      ]
     },
     "metadata": {},
     "output_type": "display_data"
    }
   ],
   "source": [
    "eda_viz_pre.rec_distribution(savefig = True)"
   ]
  },
  {
   "cell_type": "code",
   "execution_count": 29,
   "metadata": {},
   "outputs": [
    {
     "data": {
      "text/html": [
       "<div>\n",
       "<style scoped>\n",
       "    .dataframe tbody tr th:only-of-type {\n",
       "        vertical-align: middle;\n",
       "    }\n",
       "\n",
       "    .dataframe tbody tr th {\n",
       "        vertical-align: top;\n",
       "    }\n",
       "\n",
       "    .dataframe thead th {\n",
       "        text-align: right;\n",
       "    }\n",
       "</style>\n",
       "<table border=\"1\" class=\"dataframe\">\n",
       "  <thead>\n",
       "    <tr style=\"text-align: right;\">\n",
       "      <th></th>\n",
       "      <th>Player</th>\n",
       "      <th>Tm</th>\n",
       "      <th>Age</th>\n",
       "      <th>Pos</th>\n",
       "      <th>G</th>\n",
       "      <th>GS</th>\n",
       "      <th>Tgt</th>\n",
       "      <th>Rec</th>\n",
       "      <th>Ctch%</th>\n",
       "      <th>Yds</th>\n",
       "      <th>Y/R</th>\n",
       "      <th>TD</th>\n",
       "      <th>1D</th>\n",
       "      <th>Lng</th>\n",
       "      <th>Y/Tgt</th>\n",
       "      <th>R/G</th>\n",
       "      <th>Y/G</th>\n",
       "      <th>Fmb</th>\n",
       "      <th>YEAR</th>\n",
       "    </tr>\n",
       "  </thead>\n",
       "  <tbody>\n",
       "    <tr>\n",
       "      <td>4486</td>\n",
       "      <td>Michael Thomas*+</td>\n",
       "      <td>NOR</td>\n",
       "      <td>26</td>\n",
       "      <td>WR</td>\n",
       "      <td>16</td>\n",
       "      <td>15</td>\n",
       "      <td>185.0</td>\n",
       "      <td>149</td>\n",
       "      <td>80.5%</td>\n",
       "      <td>1725</td>\n",
       "      <td>11.6</td>\n",
       "      <td>9</td>\n",
       "      <td>91</td>\n",
       "      <td>49</td>\n",
       "      <td>9.3</td>\n",
       "      <td>9.3</td>\n",
       "      <td>107.8</td>\n",
       "      <td>1</td>\n",
       "      <td>2019</td>\n",
       "    </tr>\n",
       "  </tbody>\n",
       "</table>\n",
       "</div>"
      ],
      "text/plain": [
       "                Player   Tm  Age Pos   G  GS    Tgt  Rec  Ctch%   Yds   Y/R  \\\n",
       "4486  Michael Thomas*+  NOR   26  WR  16  15  185.0  149  80.5%  1725  11.6   \n",
       "\n",
       "      TD  1D  Lng  Y/Tgt  R/G    Y/G  Fmb  YEAR  \n",
       "4486   9  91   49    9.3  9.3  107.8    1  2019  "
      ]
     },
     "execution_count": 29,
     "metadata": {},
     "output_type": "execute_result"
    }
   ],
   "source": [
    "rec_stats[rec_stats['Rec'] >= 140]"
   ]
  },
  {
   "cell_type": "markdown",
   "metadata": {},
   "source": [
    "#### Catch Rate\n",
    "The Catch Rate of each receiver has a fairly tight normal distribution, with a peak around 50%. There is also a very large spike in the range above 90%, and upon further investigation, while there are many individuals in this bin, almost none of them had significant target levels, and therefore their presence is fairly misrepresentative of the data as a whole. Those entries with catch rates lower than 10 percent are shown to be those players with out any targets listed, making these entries meaningless."
   ]
  },
  {
   "cell_type": "code",
   "execution_count": 30,
   "metadata": {},
   "outputs": [
    {
     "data": {
      "image/png": "[encoded data removed]",
      "text/plain": [
       "<Figure size 612x396 with 1 Axes>"
      ]
     },
     "metadata": {},
     "output_type": "display_data"
    }
   ],
   "source": [
    "eda_viz_pre.ctr_distribution(savefig = True)"
   ]
  },
  {
   "cell_type": "code",
   "execution_count": 31,
   "metadata": {},
   "outputs": [
    {
     "data": {
      "text/plain": [
       "1.0     282\n",
       "2.0     117\n",
       "3.0      56\n",
       "4.0      26\n",
       "5.0      15\n",
       "6.0      24\n",
       "7.0       8\n",
       "8.0       7\n",
       "9.0       2\n",
       "10.0     14\n",
       "11.0      6\n",
       "12.0      1\n",
       "13.0      6\n",
       "14.0      1\n",
       "16.0      2\n",
       "17.0      1\n",
       "20.0      2\n",
       "21.0      2\n",
       "23.0      2\n",
       "24.0      2\n",
       "26.0      1\n",
       "29.0      1\n",
       "36.0      1\n",
       "39.0      1\n",
       "Name: Tgt, dtype: int64"
      ]
     },
     "execution_count": 31,
     "metadata": {},
     "output_type": "execute_result"
    }
   ],
   "source": [
    "rec_stats[pd.to_numeric(rec_stats['Ctch%'].str.replace('%', '')) >= 90]['Tgt'].value_counts().sort_index()"
   ]
  },
  {
   "cell_type": "code",
   "execution_count": 32,
   "metadata": {},
   "outputs": [
    {
     "data": {
      "text/html": [
       "<div>\n",
       "<style scoped>\n",
       "    .dataframe tbody tr th:only-of-type {\n",
       "        vertical-align: middle;\n",
       "    }\n",
       "\n",
       "    .dataframe tbody tr th {\n",
       "        vertical-align: top;\n",
       "    }\n",
       "\n",
       "    .dataframe thead th {\n",
       "        text-align: right;\n",
       "    }\n",
       "</style>\n",
       "<table border=\"1\" class=\"dataframe\">\n",
       "  <thead>\n",
       "    <tr style=\"text-align: right;\">\n",
       "      <th></th>\n",
       "      <th>Player</th>\n",
       "      <th>Tm</th>\n",
       "      <th>Age</th>\n",
       "      <th>Pos</th>\n",
       "      <th>G</th>\n",
       "      <th>GS</th>\n",
       "      <th>Tgt</th>\n",
       "      <th>Rec</th>\n",
       "      <th>Ctch%</th>\n",
       "      <th>Yds</th>\n",
       "      <th>Y/R</th>\n",
       "      <th>TD</th>\n",
       "      <th>1D</th>\n",
       "      <th>Lng</th>\n",
       "      <th>Y/Tgt</th>\n",
       "      <th>R/G</th>\n",
       "      <th>Y/G</th>\n",
       "      <th>Fmb</th>\n",
       "      <th>YEAR</th>\n",
       "    </tr>\n",
       "  </thead>\n",
       "  <tbody>\n",
       "    <tr>\n",
       "      <td>2052</td>\n",
       "      <td>Clyde Gates</td>\n",
       "      <td>MIA</td>\n",
       "      <td>25</td>\n",
       "      <td>NaN</td>\n",
       "      <td>15</td>\n",
       "      <td>0</td>\n",
       "      <td>NaN</td>\n",
       "      <td>2</td>\n",
       "      <td>0.0%</td>\n",
       "      <td>19</td>\n",
       "      <td>9.5</td>\n",
       "      <td>0</td>\n",
       "      <td>1</td>\n",
       "      <td>11</td>\n",
       "      <td>NaN</td>\n",
       "      <td>0.1</td>\n",
       "      <td>1.3</td>\n",
       "      <td>0</td>\n",
       "      <td>2011</td>\n",
       "    </tr>\n",
       "    <tr>\n",
       "      <td>3073</td>\n",
       "      <td>David Johnson</td>\n",
       "      <td>SDG</td>\n",
       "      <td>27</td>\n",
       "      <td>NaN</td>\n",
       "      <td>14</td>\n",
       "      <td>2</td>\n",
       "      <td>NaN</td>\n",
       "      <td>1</td>\n",
       "      <td>0.0%</td>\n",
       "      <td>4</td>\n",
       "      <td>4.0</td>\n",
       "      <td>0</td>\n",
       "      <td>0</td>\n",
       "      <td>4</td>\n",
       "      <td>NaN</td>\n",
       "      <td>0.1</td>\n",
       "      <td>0.3</td>\n",
       "      <td>0</td>\n",
       "      <td>2014</td>\n",
       "    </tr>\n",
       "    <tr>\n",
       "      <td>3084</td>\n",
       "      <td>Aldrick Robinson</td>\n",
       "      <td>2TM</td>\n",
       "      <td>26</td>\n",
       "      <td>NaN</td>\n",
       "      <td>7</td>\n",
       "      <td>0</td>\n",
       "      <td>NaN</td>\n",
       "      <td>1</td>\n",
       "      <td>0.0%</td>\n",
       "      <td>6</td>\n",
       "      <td>6.0</td>\n",
       "      <td>0</td>\n",
       "      <td>0</td>\n",
       "      <td>6</td>\n",
       "      <td>NaN</td>\n",
       "      <td>0.1</td>\n",
       "      <td>0.9</td>\n",
       "      <td>0</td>\n",
       "      <td>2014</td>\n",
       "    </tr>\n",
       "  </tbody>\n",
       "</table>\n",
       "</div>"
      ],
      "text/plain": [
       "                Player   Tm  Age  Pos   G  GS  Tgt  Rec Ctch%  Yds  Y/R  TD  \\\n",
       "2052       Clyde Gates  MIA   25  NaN  15   0  NaN    2  0.0%   19  9.5   0   \n",
       "3073     David Johnson  SDG   27  NaN  14   2  NaN    1  0.0%    4  4.0   0   \n",
       "3084  Aldrick Robinson  2TM   26  NaN   7   0  NaN    1  0.0%    6  6.0   0   \n",
       "\n",
       "      1D  Lng  Y/Tgt  R/G  Y/G  Fmb  YEAR  \n",
       "2052   1   11    NaN  0.1  1.3    0  2011  \n",
       "3073   0    4    NaN  0.1  0.3    0  2014  \n",
       "3084   0    6    NaN  0.1  0.9    0  2014  "
      ]
     },
     "execution_count": 32,
     "metadata": {},
     "output_type": "execute_result"
    }
   ],
   "source": [
    "rec_stats[pd.to_numeric(rec_stats['Ctch%'].str.replace('%', '')) < 10]"
   ]
  },
  {
   "cell_type": "markdown",
   "metadata": {},
   "source": [
    "#### Yards\n",
    "The Yards distribution again follows the patterns of the Receptions and Targets distributions (this makes sense that they would be related). There are a few outliers (Calvin Johnson's and Julio Jones's seasons that were mentioned previously, as well as a very prolific Antonio Brown season), but none that need to be corrected or that will dramatically affect an analysis. Again most players, being non-starters, had low receiving yard numbers."
   ]
  },
  {
   "cell_type": "code",
   "execution_count": 33,
   "metadata": {},
   "outputs": [
    {
     "data": {
      "image/png": "[encoded data removed]",
      "text/plain": [
       "<Figure size 612x396 with 1 Axes>"
      ]
     },
     "metadata": {},
     "output_type": "display_data"
    }
   ],
   "source": [
    "eda_viz_pre.yards_distribution(savefig = True)"
   ]
  },
  {
   "cell_type": "code",
   "execution_count": 34,
   "metadata": {},
   "outputs": [
    {
     "data": {
      "text/html": [
       "<div>\n",
       "<style scoped>\n",
       "    .dataframe tbody tr th:only-of-type {\n",
       "        vertical-align: middle;\n",
       "    }\n",
       "\n",
       "    .dataframe tbody tr th {\n",
       "        vertical-align: top;\n",
       "    }\n",
       "\n",
       "    .dataframe thead th {\n",
       "        text-align: right;\n",
       "    }\n",
       "</style>\n",
       "<table border=\"1\" class=\"dataframe\">\n",
       "  <thead>\n",
       "    <tr style=\"text-align: right;\">\n",
       "      <th></th>\n",
       "      <th>Player</th>\n",
       "      <th>Tm</th>\n",
       "      <th>Age</th>\n",
       "      <th>Pos</th>\n",
       "      <th>G</th>\n",
       "      <th>GS</th>\n",
       "      <th>Tgt</th>\n",
       "      <th>Rec</th>\n",
       "      <th>Ctch%</th>\n",
       "      <th>Yds</th>\n",
       "      <th>Y/R</th>\n",
       "      <th>TD</th>\n",
       "      <th>1D</th>\n",
       "      <th>Lng</th>\n",
       "      <th>Y/Tgt</th>\n",
       "      <th>R/G</th>\n",
       "      <th>Y/G</th>\n",
       "      <th>Fmb</th>\n",
       "      <th>YEAR</th>\n",
       "    </tr>\n",
       "  </thead>\n",
       "  <tbody>\n",
       "    <tr>\n",
       "      <td>2107</td>\n",
       "      <td>Calvin Johnson *+</td>\n",
       "      <td>DET</td>\n",
       "      <td>27</td>\n",
       "      <td>WR</td>\n",
       "      <td>16</td>\n",
       "      <td>16</td>\n",
       "      <td>204.0</td>\n",
       "      <td>122</td>\n",
       "      <td>59.8%</td>\n",
       "      <td>1964</td>\n",
       "      <td>16.1</td>\n",
       "      <td>5</td>\n",
       "      <td>92</td>\n",
       "      <td>53</td>\n",
       "      <td>9.6</td>\n",
       "      <td>7.6</td>\n",
       "      <td>122.8</td>\n",
       "      <td>3</td>\n",
       "      <td>2012</td>\n",
       "    </tr>\n",
       "    <tr>\n",
       "      <td>3092</td>\n",
       "      <td>Antonio Brown *+</td>\n",
       "      <td>PIT</td>\n",
       "      <td>27</td>\n",
       "      <td>WR</td>\n",
       "      <td>16</td>\n",
       "      <td>16</td>\n",
       "      <td>193.0</td>\n",
       "      <td>136</td>\n",
       "      <td>70.5%</td>\n",
       "      <td>1834</td>\n",
       "      <td>13.5</td>\n",
       "      <td>10</td>\n",
       "      <td>84</td>\n",
       "      <td>59</td>\n",
       "      <td>9.5</td>\n",
       "      <td>8.5</td>\n",
       "      <td>114.6</td>\n",
       "      <td>3</td>\n",
       "      <td>2015</td>\n",
       "    </tr>\n",
       "    <tr>\n",
       "      <td>3093</td>\n",
       "      <td>Julio Jones *+</td>\n",
       "      <td>ATL</td>\n",
       "      <td>26</td>\n",
       "      <td>WR</td>\n",
       "      <td>16</td>\n",
       "      <td>16</td>\n",
       "      <td>203.0</td>\n",
       "      <td>136</td>\n",
       "      <td>67.0%</td>\n",
       "      <td>1871</td>\n",
       "      <td>13.8</td>\n",
       "      <td>8</td>\n",
       "      <td>93</td>\n",
       "      <td>70</td>\n",
       "      <td>9.2</td>\n",
       "      <td>8.5</td>\n",
       "      <td>116.9</td>\n",
       "      <td>3</td>\n",
       "      <td>2015</td>\n",
       "    </tr>\n",
       "  </tbody>\n",
       "</table>\n",
       "</div>"
      ],
      "text/plain": [
       "                 Player   Tm  Age Pos   G  GS    Tgt  Rec  Ctch%   Yds   Y/R  \\\n",
       "2107  Calvin Johnson *+  DET   27  WR  16  16  204.0  122  59.8%  1964  16.1   \n",
       "3092   Antonio Brown *+  PIT   27  WR  16  16  193.0  136  70.5%  1834  13.5   \n",
       "3093     Julio Jones *+  ATL   26  WR  16  16  203.0  136  67.0%  1871  13.8   \n",
       "\n",
       "      TD  1D  Lng  Y/Tgt  R/G    Y/G  Fmb  YEAR  \n",
       "2107   5  92   53    9.6  7.6  122.8    3  2012  \n",
       "3092  10  84   59    9.5  8.5  114.6    3  2015  \n",
       "3093   8  93   70    9.2  8.5  116.9    3  2015  "
      ]
     },
     "execution_count": 34,
     "metadata": {},
     "output_type": "execute_result"
    }
   ],
   "source": [
    "rec_stats[rec_stats['Yds'] >= 1800]"
   ]
  },
  {
   "cell_type": "markdown",
   "metadata": {},
   "source": [
    "#### Yards per Reception\n",
    "Yards per Reception displays a normal distribution with a peak in the 10-12 bin. On the upper end, while it may initially seem that there are many players with more than 20 yards per reception, many of these players only had about 1 to 4 receptions in an entire year, a similar issue as previously seen in the other rate statistics."
   ]
  },
  {
   "cell_type": "code",
   "execution_count": 35,
   "metadata": {},
   "outputs": [
    {
     "data": {
      "image/png": "[encoded data removed]",
      "text/plain": [
       "<Figure size 612x396 with 1 Axes>"
      ]
     },
     "metadata": {},
     "output_type": "display_data"
    }
   ],
   "source": [
    "eda_viz_pre.ypr_distribution(savefig = True)"
   ]
  },
  {
   "cell_type": "code",
   "execution_count": 36,
   "metadata": {},
   "outputs": [
    {
     "data": {
      "text/plain": [
       "1     61\n",
       "2     31\n",
       "3     11\n",
       "4     10\n",
       "5      8\n",
       "6      4\n",
       "7      4\n",
       "8      3\n",
       "9      5\n",
       "10     1\n",
       "11     3\n",
       "12     3\n",
       "13     3\n",
       "14     2\n",
       "15     1\n",
       "16     3\n",
       "17     1\n",
       "18     1\n",
       "20     1\n",
       "21     1\n",
       "22     1\n",
       "26     2\n",
       "27     1\n",
       "32     3\n",
       "33     1\n",
       "47     1\n",
       "48     1\n",
       "49     1\n",
       "52     1\n",
       "56     1\n",
       "60     1\n",
       "Name: Rec, dtype: int64"
      ]
     },
     "execution_count": 36,
     "metadata": {},
     "output_type": "execute_result"
    }
   ],
   "source": [
    "rec_stats[rec_stats['Y/R'] >= 20]['Rec'].value_counts().sort_index()"
   ]
  },
  {
   "cell_type": "markdown",
   "metadata": {},
   "source": [
    "#### Touchdowns\n",
    "Touchdowns has an inverse relationship, again due to the lower cap and presence of part-time players, with a peak at 0. The right tail makes sense, as there are very few stars putting up large touchdown numbers."
   ]
  },
  {
   "cell_type": "code",
   "execution_count": 37,
   "metadata": {},
   "outputs": [
    {
     "data": {
      "image/png": "[encoded data removed]",
      "text/plain": [
       "<Figure size 612x396 with 1 Axes>"
      ]
     },
     "metadata": {},
     "output_type": "display_data"
    }
   ],
   "source": [
    "eda_viz_pre.td_distribution(savefig = True)"
   ]
  },
  {
   "cell_type": "markdown",
   "metadata": {},
   "source": [
    "#### First Downs\n",
    "First Downs again demonstrates an inverse distribution (peak at around 0-10), with similar reasoning to the other right skews. When looking at the outliers on the high side, each came from historical wide receiver seasons (Calvin Johnson, Julio Jones, Michael Thomas)."
   ]
  },
  {
   "cell_type": "code",
   "execution_count": 38,
   "metadata": {},
   "outputs": [
    {
     "data": {
      "image/png": "[encoded data removed]",
      "text/plain": [
       "<Figure size 612x396 with 1 Axes>"
      ]
     },
     "metadata": {},
     "output_type": "display_data"
    }
   ],
   "source": [
    "eda_viz_pre.fd_distribution(savefig = True)"
   ]
  },
  {
   "cell_type": "code",
   "execution_count": 39,
   "metadata": {},
   "outputs": [
    {
     "data": {
      "text/html": [
       "<div>\n",
       "<style scoped>\n",
       "    .dataframe tbody tr th:only-of-type {\n",
       "        vertical-align: middle;\n",
       "    }\n",
       "\n",
       "    .dataframe tbody tr th {\n",
       "        vertical-align: top;\n",
       "    }\n",
       "\n",
       "    .dataframe thead th {\n",
       "        text-align: right;\n",
       "    }\n",
       "</style>\n",
       "<table border=\"1\" class=\"dataframe\">\n",
       "  <thead>\n",
       "    <tr style=\"text-align: right;\">\n",
       "      <th></th>\n",
       "      <th>Player</th>\n",
       "      <th>Tm</th>\n",
       "      <th>Age</th>\n",
       "      <th>Pos</th>\n",
       "      <th>G</th>\n",
       "      <th>GS</th>\n",
       "      <th>Tgt</th>\n",
       "      <th>Rec</th>\n",
       "      <th>Ctch%</th>\n",
       "      <th>Yds</th>\n",
       "      <th>Y/R</th>\n",
       "      <th>TD</th>\n",
       "      <th>1D</th>\n",
       "      <th>Lng</th>\n",
       "      <th>Y/Tgt</th>\n",
       "      <th>R/G</th>\n",
       "      <th>Y/G</th>\n",
       "      <th>Fmb</th>\n",
       "      <th>YEAR</th>\n",
       "    </tr>\n",
       "  </thead>\n",
       "  <tbody>\n",
       "    <tr>\n",
       "      <td>2107</td>\n",
       "      <td>Calvin Johnson *+</td>\n",
       "      <td>DET</td>\n",
       "      <td>27</td>\n",
       "      <td>WR</td>\n",
       "      <td>16</td>\n",
       "      <td>16</td>\n",
       "      <td>204.0</td>\n",
       "      <td>122</td>\n",
       "      <td>59.8%</td>\n",
       "      <td>1964</td>\n",
       "      <td>16.1</td>\n",
       "      <td>5</td>\n",
       "      <td>92</td>\n",
       "      <td>53</td>\n",
       "      <td>9.6</td>\n",
       "      <td>7.6</td>\n",
       "      <td>122.8</td>\n",
       "      <td>3</td>\n",
       "      <td>2012</td>\n",
       "    </tr>\n",
       "    <tr>\n",
       "      <td>3093</td>\n",
       "      <td>Julio Jones *+</td>\n",
       "      <td>ATL</td>\n",
       "      <td>26</td>\n",
       "      <td>WR</td>\n",
       "      <td>16</td>\n",
       "      <td>16</td>\n",
       "      <td>203.0</td>\n",
       "      <td>136</td>\n",
       "      <td>67.0%</td>\n",
       "      <td>1871</td>\n",
       "      <td>13.8</td>\n",
       "      <td>8</td>\n",
       "      <td>93</td>\n",
       "      <td>70</td>\n",
       "      <td>9.2</td>\n",
       "      <td>8.5</td>\n",
       "      <td>116.9</td>\n",
       "      <td>3</td>\n",
       "      <td>2015</td>\n",
       "    </tr>\n",
       "    <tr>\n",
       "      <td>4486</td>\n",
       "      <td>Michael Thomas*+</td>\n",
       "      <td>NOR</td>\n",
       "      <td>26</td>\n",
       "      <td>WR</td>\n",
       "      <td>16</td>\n",
       "      <td>15</td>\n",
       "      <td>185.0</td>\n",
       "      <td>149</td>\n",
       "      <td>80.5%</td>\n",
       "      <td>1725</td>\n",
       "      <td>11.6</td>\n",
       "      <td>9</td>\n",
       "      <td>91</td>\n",
       "      <td>49</td>\n",
       "      <td>9.3</td>\n",
       "      <td>9.3</td>\n",
       "      <td>107.8</td>\n",
       "      <td>1</td>\n",
       "      <td>2019</td>\n",
       "    </tr>\n",
       "  </tbody>\n",
       "</table>\n",
       "</div>"
      ],
      "text/plain": [
       "                 Player   Tm  Age Pos   G  GS    Tgt  Rec  Ctch%   Yds   Y/R  \\\n",
       "2107  Calvin Johnson *+  DET   27  WR  16  16  204.0  122  59.8%  1964  16.1   \n",
       "3093     Julio Jones *+  ATL   26  WR  16  16  203.0  136  67.0%  1871  13.8   \n",
       "4486   Michael Thomas*+  NOR   26  WR  16  15  185.0  149  80.5%  1725  11.6   \n",
       "\n",
       "      TD  1D  Lng  Y/Tgt  R/G    Y/G  Fmb  YEAR  \n",
       "2107   5  92   53    9.6  7.6  122.8    3  2012  \n",
       "3093   8  93   70    9.2  8.5  116.9    3  2015  \n",
       "4486   9  91   49    9.3  9.3  107.8    1  2019  "
      ]
     },
     "execution_count": 39,
     "metadata": {},
     "output_type": "execute_result"
    }
   ],
   "source": [
    "rec_stats[rec_stats['1D'] >= 90]"
   ]
  },
  {
   "cell_type": "markdown",
   "metadata": {},
   "source": [
    "#### Long\n",
    "The Long distribution is a normal one with a right skew, with a peak around 10-20."
   ]
  },
  {
   "cell_type": "code",
   "execution_count": 40,
   "metadata": {},
   "outputs": [
    {
     "data": {
      "image/png": "[encoded data removed]",
      "text/plain": [
       "<Figure size 612x396 with 1 Axes>"
      ]
     },
     "metadata": {},
     "output_type": "display_data"
    }
   ],
   "source": [
    "eda_viz_pre.long_distribution(savefig = True)"
   ]
  },
  {
   "cell_type": "markdown",
   "metadata": {},
   "source": [
    "#### Yards per Target\n",
    "Yards per Target displays a normal distribution centered around 6 with a right skew. However, when you look at the numbers out on the right tail, almost all of them have almost no receptions, showing that this tail is a bit misrepresentative of this data."
   ]
  },
  {
   "cell_type": "code",
   "execution_count": 41,
   "metadata": {
    "scrolled": false
   },
   "outputs": [
    {
     "data": {
      "image/png": "[encoded data removed]",
      "text/plain": [
       "<Figure size 612x396 with 1 Axes>"
      ]
     },
     "metadata": {},
     "output_type": "display_data"
    }
   ],
   "source": [
    "eda_viz_pre.ypt_distribution(savefig = True)"
   ]
  },
  {
   "cell_type": "code",
   "execution_count": 42,
   "metadata": {},
   "outputs": [
    {
     "data": {
      "text/plain": [
       "1     67\n",
       "2     27\n",
       "3     12\n",
       "4      4\n",
       "5      4\n",
       "6      3\n",
       "7      4\n",
       "8      2\n",
       "9      4\n",
       "10     1\n",
       "12     1\n",
       "13     1\n",
       "32     1\n",
       "Name: Rec, dtype: int64"
      ]
     },
     "execution_count": 42,
     "metadata": {},
     "output_type": "execute_result"
    }
   ],
   "source": [
    "rec_stats[rec_stats['Y/Tgt'] >= 14]['Rec'].value_counts().sort_index()"
   ]
  },
  {
   "cell_type": "markdown",
   "metadata": {},
   "source": [
    "#### Receptions per Game\n",
    "Receptions per Game displays an inverse relationship with a few high outliers from players who had elite seasons (Michael Thomas, Wes Welker, Julio Jones, Antonio Brown, Keenan Allen). Most players did not have any receptions per game."
   ]
  },
  {
   "cell_type": "code",
   "execution_count": 43,
   "metadata": {
    "scrolled": false
   },
   "outputs": [
    {
     "data": {
      "image/png": "[encoded data removed]",
      "text/plain": [
       "<Figure size 612x396 with 1 Axes>"
      ]
     },
     "metadata": {},
     "output_type": "display_data"
    }
   ],
   "source": [
    "eda_viz_pre.rpg_distribution(savefig = True)"
   ]
  },
  {
   "cell_type": "code",
   "execution_count": 44,
   "metadata": {},
   "outputs": [
    {
     "data": {
      "text/html": [
       "<div>\n",
       "<style scoped>\n",
       "    .dataframe tbody tr th:only-of-type {\n",
       "        vertical-align: middle;\n",
       "    }\n",
       "\n",
       "    .dataframe tbody tr th {\n",
       "        vertical-align: top;\n",
       "    }\n",
       "\n",
       "    .dataframe thead th {\n",
       "        text-align: right;\n",
       "    }\n",
       "</style>\n",
       "<table border=\"1\" class=\"dataframe\">\n",
       "  <thead>\n",
       "    <tr style=\"text-align: right;\">\n",
       "      <th></th>\n",
       "      <th>Player</th>\n",
       "      <th>Tm</th>\n",
       "      <th>Age</th>\n",
       "      <th>Pos</th>\n",
       "      <th>G</th>\n",
       "      <th>GS</th>\n",
       "      <th>Tgt</th>\n",
       "      <th>Rec</th>\n",
       "      <th>Ctch%</th>\n",
       "      <th>Yds</th>\n",
       "      <th>Y/R</th>\n",
       "      <th>TD</th>\n",
       "      <th>1D</th>\n",
       "      <th>Lng</th>\n",
       "      <th>Y/Tgt</th>\n",
       "      <th>R/G</th>\n",
       "      <th>Y/G</th>\n",
       "      <th>Fmb</th>\n",
       "      <th>YEAR</th>\n",
       "    </tr>\n",
       "  </thead>\n",
       "  <tbody>\n",
       "    <tr>\n",
       "      <td>1187</td>\n",
       "      <td>Wes Welker*+</td>\n",
       "      <td>NWE</td>\n",
       "      <td>28</td>\n",
       "      <td>WR</td>\n",
       "      <td>14</td>\n",
       "      <td>13</td>\n",
       "      <td>162.0</td>\n",
       "      <td>123</td>\n",
       "      <td>75.9%</td>\n",
       "      <td>1348</td>\n",
       "      <td>11.0</td>\n",
       "      <td>4</td>\n",
       "      <td>71</td>\n",
       "      <td>58</td>\n",
       "      <td>8.3</td>\n",
       "      <td>8.8</td>\n",
       "      <td>96.3</td>\n",
       "      <td>2</td>\n",
       "      <td>2009</td>\n",
       "    </tr>\n",
       "    <tr>\n",
       "      <td>2504</td>\n",
       "      <td>Julio Jones</td>\n",
       "      <td>ATL</td>\n",
       "      <td>24</td>\n",
       "      <td>wr</td>\n",
       "      <td>5</td>\n",
       "      <td>5</td>\n",
       "      <td>59.0</td>\n",
       "      <td>41</td>\n",
       "      <td>69.5%</td>\n",
       "      <td>580</td>\n",
       "      <td>14.1</td>\n",
       "      <td>2</td>\n",
       "      <td>25</td>\n",
       "      <td>81</td>\n",
       "      <td>9.8</td>\n",
       "      <td>8.2</td>\n",
       "      <td>116.0</td>\n",
       "      <td>2</td>\n",
       "      <td>2013</td>\n",
       "    </tr>\n",
       "    <tr>\n",
       "      <td>2770</td>\n",
       "      <td>Antonio Brown *+</td>\n",
       "      <td>PIT</td>\n",
       "      <td>26</td>\n",
       "      <td>WR</td>\n",
       "      <td>16</td>\n",
       "      <td>16</td>\n",
       "      <td>181.0</td>\n",
       "      <td>129</td>\n",
       "      <td>71.3%</td>\n",
       "      <td>1698</td>\n",
       "      <td>13.2</td>\n",
       "      <td>13</td>\n",
       "      <td>87</td>\n",
       "      <td>63</td>\n",
       "      <td>9.4</td>\n",
       "      <td>8.1</td>\n",
       "      <td>106.1</td>\n",
       "      <td>2</td>\n",
       "      <td>2014</td>\n",
       "    </tr>\n",
       "    <tr>\n",
       "      <td>3092</td>\n",
       "      <td>Antonio Brown *+</td>\n",
       "      <td>PIT</td>\n",
       "      <td>27</td>\n",
       "      <td>WR</td>\n",
       "      <td>16</td>\n",
       "      <td>16</td>\n",
       "      <td>193.0</td>\n",
       "      <td>136</td>\n",
       "      <td>70.5%</td>\n",
       "      <td>1834</td>\n",
       "      <td>13.5</td>\n",
       "      <td>10</td>\n",
       "      <td>84</td>\n",
       "      <td>59</td>\n",
       "      <td>9.5</td>\n",
       "      <td>8.5</td>\n",
       "      <td>114.6</td>\n",
       "      <td>3</td>\n",
       "      <td>2015</td>\n",
       "    </tr>\n",
       "    <tr>\n",
       "      <td>3093</td>\n",
       "      <td>Julio Jones *+</td>\n",
       "      <td>ATL</td>\n",
       "      <td>26</td>\n",
       "      <td>WR</td>\n",
       "      <td>16</td>\n",
       "      <td>16</td>\n",
       "      <td>203.0</td>\n",
       "      <td>136</td>\n",
       "      <td>67.0%</td>\n",
       "      <td>1871</td>\n",
       "      <td>13.8</td>\n",
       "      <td>8</td>\n",
       "      <td>93</td>\n",
       "      <td>70</td>\n",
       "      <td>9.2</td>\n",
       "      <td>8.5</td>\n",
       "      <td>116.9</td>\n",
       "      <td>3</td>\n",
       "      <td>2015</td>\n",
       "    </tr>\n",
       "    <tr>\n",
       "      <td>3121</td>\n",
       "      <td>Keenan Allen</td>\n",
       "      <td>SDG</td>\n",
       "      <td>23</td>\n",
       "      <td>WR</td>\n",
       "      <td>8</td>\n",
       "      <td>8</td>\n",
       "      <td>89.0</td>\n",
       "      <td>67</td>\n",
       "      <td>75.3%</td>\n",
       "      <td>725</td>\n",
       "      <td>10.8</td>\n",
       "      <td>4</td>\n",
       "      <td>34</td>\n",
       "      <td>38</td>\n",
       "      <td>8.1</td>\n",
       "      <td>8.4</td>\n",
       "      <td>90.6</td>\n",
       "      <td>1</td>\n",
       "      <td>2015</td>\n",
       "    </tr>\n",
       "    <tr>\n",
       "      <td>4486</td>\n",
       "      <td>Michael Thomas*+</td>\n",
       "      <td>NOR</td>\n",
       "      <td>26</td>\n",
       "      <td>WR</td>\n",
       "      <td>16</td>\n",
       "      <td>15</td>\n",
       "      <td>185.0</td>\n",
       "      <td>149</td>\n",
       "      <td>80.5%</td>\n",
       "      <td>1725</td>\n",
       "      <td>11.6</td>\n",
       "      <td>9</td>\n",
       "      <td>91</td>\n",
       "      <td>49</td>\n",
       "      <td>9.3</td>\n",
       "      <td>9.3</td>\n",
       "      <td>107.8</td>\n",
       "      <td>1</td>\n",
       "      <td>2019</td>\n",
       "    </tr>\n",
       "  </tbody>\n",
       "</table>\n",
       "</div>"
      ],
      "text/plain": [
       "                Player   Tm  Age Pos   G  GS    Tgt  Rec  Ctch%   Yds   Y/R  \\\n",
       "1187      Wes Welker*+  NWE   28  WR  14  13  162.0  123  75.9%  1348  11.0   \n",
       "2504       Julio Jones  ATL   24  wr   5   5   59.0   41  69.5%   580  14.1   \n",
       "2770  Antonio Brown *+  PIT   26  WR  16  16  181.0  129  71.3%  1698  13.2   \n",
       "3092  Antonio Brown *+  PIT   27  WR  16  16  193.0  136  70.5%  1834  13.5   \n",
       "3093    Julio Jones *+  ATL   26  WR  16  16  203.0  136  67.0%  1871  13.8   \n",
       "3121      Keenan Allen  SDG   23  WR   8   8   89.0   67  75.3%   725  10.8   \n",
       "4486  Michael Thomas*+  NOR   26  WR  16  15  185.0  149  80.5%  1725  11.6   \n",
       "\n",
       "      TD  1D  Lng  Y/Tgt  R/G    Y/G  Fmb  YEAR  \n",
       "1187   4  71   58    8.3  8.8   96.3    2  2009  \n",
       "2504   2  25   81    9.8  8.2  116.0    2  2013  \n",
       "2770  13  87   63    9.4  8.1  106.1    2  2014  \n",
       "3092  10  84   59    9.5  8.5  114.6    3  2015  \n",
       "3093   8  93   70    9.2  8.5  116.9    3  2015  \n",
       "3121   4  34   38    8.1  8.4   90.6    1  2015  \n",
       "4486   9  91   49    9.3  9.3  107.8    1  2019  "
      ]
     },
     "execution_count": 44,
     "metadata": {},
     "output_type": "execute_result"
    }
   ],
   "source": [
    "rec_stats[rec_stats['R/G'] >= 8]"
   ]
  },
  {
   "cell_type": "markdown",
   "metadata": {},
   "source": [
    "#### Receiving Yards per Game\n",
    "Receiving Yards per Game displays an inverse relationship with a very long right tail as well, with a high outlier for a historic receiving season (Calvin Johnson)."
   ]
  },
  {
   "cell_type": "code",
   "execution_count": 45,
   "metadata": {},
   "outputs": [
    {
     "data": {
      "image/png": "[encoded data removed]",
      "text/plain": [
       "<Figure size 612x396 with 1 Axes>"
      ]
     },
     "metadata": {},
     "output_type": "display_data"
    }
   ],
   "source": [
    "eda_viz_pre.ypg_distribution(savefig = True)"
   ]
  },
  {
   "cell_type": "code",
   "execution_count": 46,
   "metadata": {},
   "outputs": [
    {
     "data": {
      "text/html": [
       "<div>\n",
       "<style scoped>\n",
       "    .dataframe tbody tr th:only-of-type {\n",
       "        vertical-align: middle;\n",
       "    }\n",
       "\n",
       "    .dataframe tbody tr th {\n",
       "        vertical-align: top;\n",
       "    }\n",
       "\n",
       "    .dataframe thead th {\n",
       "        text-align: right;\n",
       "    }\n",
       "</style>\n",
       "<table border=\"1\" class=\"dataframe\">\n",
       "  <thead>\n",
       "    <tr style=\"text-align: right;\">\n",
       "      <th></th>\n",
       "      <th>Player</th>\n",
       "      <th>Tm</th>\n",
       "      <th>Age</th>\n",
       "      <th>Pos</th>\n",
       "      <th>G</th>\n",
       "      <th>GS</th>\n",
       "      <th>Tgt</th>\n",
       "      <th>Rec</th>\n",
       "      <th>Ctch%</th>\n",
       "      <th>Yds</th>\n",
       "      <th>Y/R</th>\n",
       "      <th>TD</th>\n",
       "      <th>1D</th>\n",
       "      <th>Lng</th>\n",
       "      <th>Y/Tgt</th>\n",
       "      <th>R/G</th>\n",
       "      <th>Y/G</th>\n",
       "      <th>Fmb</th>\n",
       "      <th>YEAR</th>\n",
       "    </tr>\n",
       "  </thead>\n",
       "  <tbody>\n",
       "    <tr>\n",
       "      <td>2107</td>\n",
       "      <td>Calvin Johnson *+</td>\n",
       "      <td>DET</td>\n",
       "      <td>27</td>\n",
       "      <td>WR</td>\n",
       "      <td>16</td>\n",
       "      <td>16</td>\n",
       "      <td>204.0</td>\n",
       "      <td>122</td>\n",
       "      <td>59.8%</td>\n",
       "      <td>1964</td>\n",
       "      <td>16.1</td>\n",
       "      <td>5</td>\n",
       "      <td>92</td>\n",
       "      <td>53</td>\n",
       "      <td>9.6</td>\n",
       "      <td>7.6</td>\n",
       "      <td>122.8</td>\n",
       "      <td>3</td>\n",
       "      <td>2012</td>\n",
       "    </tr>\n",
       "  </tbody>\n",
       "</table>\n",
       "</div>"
      ],
      "text/plain": [
       "                 Player   Tm  Age Pos   G  GS    Tgt  Rec  Ctch%   Yds   Y/R  \\\n",
       "2107  Calvin Johnson *+  DET   27  WR  16  16  204.0  122  59.8%  1964  16.1   \n",
       "\n",
       "      TD  1D  Lng  Y/Tgt  R/G    Y/G  Fmb  YEAR  \n",
       "2107   5  92   53    9.6  7.6  122.8    3  2012  "
      ]
     },
     "execution_count": 46,
     "metadata": {},
     "output_type": "execute_result"
    }
   ],
   "source": [
    "rec_stats[rec_stats['Y/G'] >= 120]"
   ]
  },
  {
   "cell_type": "markdown",
   "metadata": {},
   "source": [
    "#### Fumbles\n",
    "Fumbles display an inverse relationship, which is expected. However, there are several players with very high fumble numbers. Upon investigation however, many of the fumbles recorded were on special teams plays (e.g. punt returns). Therefore, including this statistic in this analysis will overly punish players asked to play special teams, and it might be cut from this dataset, as most players have negligible fumble counts anyways."
   ]
  },
  {
   "cell_type": "code",
   "execution_count": 47,
   "metadata": {},
   "outputs": [
    {
     "data": {
      "image/png": "[encoded data removed]",
      "text/plain": [
       "<Figure size 612x396 with 1 Axes>"
      ]
     },
     "metadata": {},
     "output_type": "display_data"
    }
   ],
   "source": [
    "eda_viz_pre.fmb_distribution(savefig = True)"
   ]
  },
  {
   "cell_type": "code",
   "execution_count": 48,
   "metadata": {},
   "outputs": [
    {
     "data": {
      "text/html": [
       "<div>\n",
       "<style scoped>\n",
       "    .dataframe tbody tr th:only-of-type {\n",
       "        vertical-align: middle;\n",
       "    }\n",
       "\n",
       "    .dataframe tbody tr th {\n",
       "        vertical-align: top;\n",
       "    }\n",
       "\n",
       "    .dataframe thead th {\n",
       "        text-align: right;\n",
       "    }\n",
       "</style>\n",
       "<table border=\"1\" class=\"dataframe\">\n",
       "  <thead>\n",
       "    <tr style=\"text-align: right;\">\n",
       "      <th></th>\n",
       "      <th>Player</th>\n",
       "      <th>Tm</th>\n",
       "      <th>Age</th>\n",
       "      <th>Pos</th>\n",
       "      <th>G</th>\n",
       "      <th>GS</th>\n",
       "      <th>Tgt</th>\n",
       "      <th>Rec</th>\n",
       "      <th>Ctch%</th>\n",
       "      <th>Yds</th>\n",
       "      <th>Y/R</th>\n",
       "      <th>TD</th>\n",
       "      <th>1D</th>\n",
       "      <th>Lng</th>\n",
       "      <th>Y/Tgt</th>\n",
       "      <th>R/G</th>\n",
       "      <th>Y/G</th>\n",
       "      <th>Fmb</th>\n",
       "      <th>YEAR</th>\n",
       "    </tr>\n",
       "  </thead>\n",
       "  <tbody>\n",
       "    <tr>\n",
       "      <td>134</td>\n",
       "      <td>Bobby Wade</td>\n",
       "      <td>2TM</td>\n",
       "      <td>24</td>\n",
       "      <td>NaN</td>\n",
       "      <td>14</td>\n",
       "      <td>1</td>\n",
       "      <td>29.0</td>\n",
       "      <td>14</td>\n",
       "      <td>48.3%</td>\n",
       "      <td>120</td>\n",
       "      <td>8.6</td>\n",
       "      <td>0</td>\n",
       "      <td>0</td>\n",
       "      <td>17</td>\n",
       "      <td>4.1</td>\n",
       "      <td>1.0</td>\n",
       "      <td>8.6</td>\n",
       "      <td>10</td>\n",
       "      <td>2005</td>\n",
       "    </tr>\n",
       "    <tr>\n",
       "      <td>696</td>\n",
       "      <td>Devin Hester*+</td>\n",
       "      <td>CHI</td>\n",
       "      <td>25</td>\n",
       "      <td>NaN</td>\n",
       "      <td>16</td>\n",
       "      <td>0</td>\n",
       "      <td>38.0</td>\n",
       "      <td>20</td>\n",
       "      <td>52.6%</td>\n",
       "      <td>299</td>\n",
       "      <td>15.0</td>\n",
       "      <td>2</td>\n",
       "      <td>11</td>\n",
       "      <td>81</td>\n",
       "      <td>7.9</td>\n",
       "      <td>1.3</td>\n",
       "      <td>18.7</td>\n",
       "      <td>7</td>\n",
       "      <td>2007</td>\n",
       "    </tr>\n",
       "    <tr>\n",
       "      <td>792</td>\n",
       "      <td>Chris Davis</td>\n",
       "      <td>TEN</td>\n",
       "      <td>23</td>\n",
       "      <td>NaN</td>\n",
       "      <td>12</td>\n",
       "      <td>0</td>\n",
       "      <td>9.0</td>\n",
       "      <td>5</td>\n",
       "      <td>55.6%</td>\n",
       "      <td>38</td>\n",
       "      <td>7.6</td>\n",
       "      <td>0</td>\n",
       "      <td>1</td>\n",
       "      <td>13</td>\n",
       "      <td>4.2</td>\n",
       "      <td>0.4</td>\n",
       "      <td>3.2</td>\n",
       "      <td>6</td>\n",
       "      <td>2007</td>\n",
       "    </tr>\n",
       "    <tr>\n",
       "      <td>1201</td>\n",
       "      <td>Davone Bess</td>\n",
       "      <td>MIA</td>\n",
       "      <td>24</td>\n",
       "      <td>NaN</td>\n",
       "      <td>16</td>\n",
       "      <td>2</td>\n",
       "      <td>113.0</td>\n",
       "      <td>76</td>\n",
       "      <td>67.3%</td>\n",
       "      <td>758</td>\n",
       "      <td>10.0</td>\n",
       "      <td>2</td>\n",
       "      <td>48</td>\n",
       "      <td>34</td>\n",
       "      <td>6.7</td>\n",
       "      <td>4.8</td>\n",
       "      <td>47.4</td>\n",
       "      <td>6</td>\n",
       "      <td>2009</td>\n",
       "    </tr>\n",
       "    <tr>\n",
       "      <td>1298</td>\n",
       "      <td>Josh Cribbs*+</td>\n",
       "      <td>CLE</td>\n",
       "      <td>26</td>\n",
       "      <td>WR</td>\n",
       "      <td>16</td>\n",
       "      <td>12</td>\n",
       "      <td>37.0</td>\n",
       "      <td>20</td>\n",
       "      <td>54.1%</td>\n",
       "      <td>135</td>\n",
       "      <td>6.8</td>\n",
       "      <td>1</td>\n",
       "      <td>4</td>\n",
       "      <td>35</td>\n",
       "      <td>3.6</td>\n",
       "      <td>1.3</td>\n",
       "      <td>8.4</td>\n",
       "      <td>6</td>\n",
       "      <td>2009</td>\n",
       "    </tr>\n",
       "    <tr>\n",
       "      <td>1390</td>\n",
       "      <td>Arnaz Battle</td>\n",
       "      <td>SFO</td>\n",
       "      <td>29</td>\n",
       "      <td>NaN</td>\n",
       "      <td>15</td>\n",
       "      <td>0</td>\n",
       "      <td>5.0</td>\n",
       "      <td>5</td>\n",
       "      <td>100.0%</td>\n",
       "      <td>40</td>\n",
       "      <td>8.0</td>\n",
       "      <td>0</td>\n",
       "      <td>2</td>\n",
       "      <td>12</td>\n",
       "      <td>8.0</td>\n",
       "      <td>0.3</td>\n",
       "      <td>2.7</td>\n",
       "      <td>6</td>\n",
       "      <td>2009</td>\n",
       "    </tr>\n",
       "    <tr>\n",
       "      <td>1596</td>\n",
       "      <td>Josh Cribbs</td>\n",
       "      <td>CLE</td>\n",
       "      <td>27</td>\n",
       "      <td>WR</td>\n",
       "      <td>15</td>\n",
       "      <td>5</td>\n",
       "      <td>39.0</td>\n",
       "      <td>23</td>\n",
       "      <td>59.0%</td>\n",
       "      <td>292</td>\n",
       "      <td>12.7</td>\n",
       "      <td>1</td>\n",
       "      <td>11</td>\n",
       "      <td>65</td>\n",
       "      <td>7.5</td>\n",
       "      <td>1.5</td>\n",
       "      <td>19.5</td>\n",
       "      <td>7</td>\n",
       "      <td>2010</td>\n",
       "    </tr>\n",
       "    <tr>\n",
       "      <td>1854</td>\n",
       "      <td>Preston Parker</td>\n",
       "      <td>TAM</td>\n",
       "      <td>24</td>\n",
       "      <td>NaN</td>\n",
       "      <td>16</td>\n",
       "      <td>0</td>\n",
       "      <td>65.0</td>\n",
       "      <td>40</td>\n",
       "      <td>61.5%</td>\n",
       "      <td>554</td>\n",
       "      <td>13.9</td>\n",
       "      <td>3</td>\n",
       "      <td>26</td>\n",
       "      <td>51</td>\n",
       "      <td>8.5</td>\n",
       "      <td>2.5</td>\n",
       "      <td>34.6</td>\n",
       "      <td>8</td>\n",
       "      <td>2011</td>\n",
       "    </tr>\n",
       "    <tr>\n",
       "      <td>1914</td>\n",
       "      <td>Tashard Choice</td>\n",
       "      <td>3TM</td>\n",
       "      <td>27</td>\n",
       "      <td>NaN</td>\n",
       "      <td>13</td>\n",
       "      <td>1</td>\n",
       "      <td>30.0</td>\n",
       "      <td>19</td>\n",
       "      <td>63.3%</td>\n",
       "      <td>124</td>\n",
       "      <td>6.5</td>\n",
       "      <td>0</td>\n",
       "      <td>0</td>\n",
       "      <td>18</td>\n",
       "      <td>4.1</td>\n",
       "      <td>1.5</td>\n",
       "      <td>9.5</td>\n",
       "      <td>6</td>\n",
       "      <td>2011</td>\n",
       "    </tr>\n",
       "    <tr>\n",
       "      <td>2069</td>\n",
       "      <td>Brandon Banks</td>\n",
       "      <td>WAS</td>\n",
       "      <td>24</td>\n",
       "      <td>NaN</td>\n",
       "      <td>16</td>\n",
       "      <td>0</td>\n",
       "      <td>1.0</td>\n",
       "      <td>1</td>\n",
       "      <td>100.0%</td>\n",
       "      <td>10</td>\n",
       "      <td>10.0</td>\n",
       "      <td>0</td>\n",
       "      <td>1</td>\n",
       "      <td>10</td>\n",
       "      <td>10.0</td>\n",
       "      <td>0.1</td>\n",
       "      <td>0.6</td>\n",
       "      <td>7</td>\n",
       "      <td>2011</td>\n",
       "    </tr>\n",
       "    <tr>\n",
       "      <td>2084</td>\n",
       "      <td>Stefan Logan</td>\n",
       "      <td>DET</td>\n",
       "      <td>30</td>\n",
       "      <td>NaN</td>\n",
       "      <td>16</td>\n",
       "      <td>1</td>\n",
       "      <td>1.0</td>\n",
       "      <td>1</td>\n",
       "      <td>100.0%</td>\n",
       "      <td>19</td>\n",
       "      <td>19.0</td>\n",
       "      <td>0</td>\n",
       "      <td>1</td>\n",
       "      <td>19</td>\n",
       "      <td>19.0</td>\n",
       "      <td>0.1</td>\n",
       "      <td>1.2</td>\n",
       "      <td>6</td>\n",
       "      <td>2011</td>\n",
       "    </tr>\n",
       "    <tr>\n",
       "      <td>2295</td>\n",
       "      <td>Josh Cribbs*</td>\n",
       "      <td>CLE</td>\n",
       "      <td>29</td>\n",
       "      <td>NaN</td>\n",
       "      <td>16</td>\n",
       "      <td>2</td>\n",
       "      <td>11.0</td>\n",
       "      <td>7</td>\n",
       "      <td>63.6%</td>\n",
       "      <td>63</td>\n",
       "      <td>9.0</td>\n",
       "      <td>0</td>\n",
       "      <td>3</td>\n",
       "      <td>24</td>\n",
       "      <td>5.7</td>\n",
       "      <td>0.4</td>\n",
       "      <td>3.9</td>\n",
       "      <td>6</td>\n",
       "      <td>2012</td>\n",
       "    </tr>\n",
       "    <tr>\n",
       "      <td>2306</td>\n",
       "      <td>Stefan Logan</td>\n",
       "      <td>DET</td>\n",
       "      <td>31</td>\n",
       "      <td>NaN</td>\n",
       "      <td>16</td>\n",
       "      <td>0</td>\n",
       "      <td>7.0</td>\n",
       "      <td>6</td>\n",
       "      <td>85.7%</td>\n",
       "      <td>28</td>\n",
       "      <td>4.7</td>\n",
       "      <td>0</td>\n",
       "      <td>2</td>\n",
       "      <td>10</td>\n",
       "      <td>4.0</td>\n",
       "      <td>0.4</td>\n",
       "      <td>1.8</td>\n",
       "      <td>6</td>\n",
       "      <td>2012</td>\n",
       "    </tr>\n",
       "    <tr>\n",
       "      <td>2378</td>\n",
       "      <td>Trindon Holliday</td>\n",
       "      <td>2TM</td>\n",
       "      <td>26</td>\n",
       "      <td>NaN</td>\n",
       "      <td>15</td>\n",
       "      <td>0</td>\n",
       "      <td>2.0</td>\n",
       "      <td>2</td>\n",
       "      <td>100.0%</td>\n",
       "      <td>17</td>\n",
       "      <td>8.5</td>\n",
       "      <td>0</td>\n",
       "      <td>0</td>\n",
       "      <td>15</td>\n",
       "      <td>8.5</td>\n",
       "      <td>0.1</td>\n",
       "      <td>1.1</td>\n",
       "      <td>6</td>\n",
       "      <td>2012</td>\n",
       "    </tr>\n",
       "    <tr>\n",
       "      <td>2441</td>\n",
       "      <td>Julian Edelman</td>\n",
       "      <td>NWE</td>\n",
       "      <td>27</td>\n",
       "      <td>WR</td>\n",
       "      <td>16</td>\n",
       "      <td>11</td>\n",
       "      <td>151.0</td>\n",
       "      <td>105</td>\n",
       "      <td>69.5%</td>\n",
       "      <td>1056</td>\n",
       "      <td>10.1</td>\n",
       "      <td>6</td>\n",
       "      <td>54</td>\n",
       "      <td>44</td>\n",
       "      <td>7.0</td>\n",
       "      <td>6.6</td>\n",
       "      <td>66.0</td>\n",
       "      <td>6</td>\n",
       "      <td>2013</td>\n",
       "    </tr>\n",
       "    <tr>\n",
       "      <td>2783</td>\n",
       "      <td>Jarvis Landry</td>\n",
       "      <td>MIA</td>\n",
       "      <td>22</td>\n",
       "      <td>WR</td>\n",
       "      <td>16</td>\n",
       "      <td>11</td>\n",
       "      <td>112.0</td>\n",
       "      <td>84</td>\n",
       "      <td>75.0%</td>\n",
       "      <td>758</td>\n",
       "      <td>9.0</td>\n",
       "      <td>5</td>\n",
       "      <td>50</td>\n",
       "      <td>25</td>\n",
       "      <td>6.8</td>\n",
       "      <td>5.3</td>\n",
       "      <td>47.4</td>\n",
       "      <td>7</td>\n",
       "      <td>2014</td>\n",
       "    </tr>\n",
       "    <tr>\n",
       "      <td>3364</td>\n",
       "      <td>Bobby Rainey</td>\n",
       "      <td>TAM</td>\n",
       "      <td>28</td>\n",
       "      <td>NaN</td>\n",
       "      <td>16</td>\n",
       "      <td>0</td>\n",
       "      <td>3.0</td>\n",
       "      <td>3</td>\n",
       "      <td>100.0%</td>\n",
       "      <td>16</td>\n",
       "      <td>5.3</td>\n",
       "      <td>0</td>\n",
       "      <td>1</td>\n",
       "      <td>8</td>\n",
       "      <td>5.3</td>\n",
       "      <td>0.2</td>\n",
       "      <td>1.0</td>\n",
       "      <td>8</td>\n",
       "      <td>2015</td>\n",
       "    </tr>\n",
       "    <tr>\n",
       "      <td>3801</td>\n",
       "      <td>Jamison Crowder</td>\n",
       "      <td>WAS</td>\n",
       "      <td>24</td>\n",
       "      <td>WR</td>\n",
       "      <td>15</td>\n",
       "      <td>6</td>\n",
       "      <td>103.0</td>\n",
       "      <td>66</td>\n",
       "      <td>64.1%</td>\n",
       "      <td>789</td>\n",
       "      <td>12.0</td>\n",
       "      <td>3</td>\n",
       "      <td>38</td>\n",
       "      <td>41</td>\n",
       "      <td>7.7</td>\n",
       "      <td>4.4</td>\n",
       "      <td>52.6</td>\n",
       "      <td>6</td>\n",
       "      <td>2017</td>\n",
       "    </tr>\n",
       "    <tr>\n",
       "      <td>3888</td>\n",
       "      <td>Jalen Richard</td>\n",
       "      <td>OAK</td>\n",
       "      <td>24</td>\n",
       "      <td>NaN</td>\n",
       "      <td>16</td>\n",
       "      <td>1</td>\n",
       "      <td>36.0</td>\n",
       "      <td>27</td>\n",
       "      <td>75.0%</td>\n",
       "      <td>256</td>\n",
       "      <td>9.5</td>\n",
       "      <td>1</td>\n",
       "      <td>13</td>\n",
       "      <td>39</td>\n",
       "      <td>7.1</td>\n",
       "      <td>1.7</td>\n",
       "      <td>16.0</td>\n",
       "      <td>8</td>\n",
       "      <td>2017</td>\n",
       "    </tr>\n",
       "    <tr>\n",
       "      <td>3954</td>\n",
       "      <td>Alex Erickson</td>\n",
       "      <td>CIN</td>\n",
       "      <td>25</td>\n",
       "      <td>NaN</td>\n",
       "      <td>16</td>\n",
       "      <td>0</td>\n",
       "      <td>16.0</td>\n",
       "      <td>12</td>\n",
       "      <td>75.0%</td>\n",
       "      <td>180</td>\n",
       "      <td>15.0</td>\n",
       "      <td>1</td>\n",
       "      <td>9</td>\n",
       "      <td>37</td>\n",
       "      <td>11.3</td>\n",
       "      <td>0.8</td>\n",
       "      <td>11.3</td>\n",
       "      <td>6</td>\n",
       "      <td>2017</td>\n",
       "    </tr>\n",
       "    <tr>\n",
       "      <td>4041</td>\n",
       "      <td>Isaiah McKenzie</td>\n",
       "      <td>DEN</td>\n",
       "      <td>22</td>\n",
       "      <td>NaN</td>\n",
       "      <td>11</td>\n",
       "      <td>0</td>\n",
       "      <td>13.0</td>\n",
       "      <td>4</td>\n",
       "      <td>30.8%</td>\n",
       "      <td>29</td>\n",
       "      <td>7.3</td>\n",
       "      <td>0</td>\n",
       "      <td>2</td>\n",
       "      <td>14</td>\n",
       "      <td>2.2</td>\n",
       "      <td>0.4</td>\n",
       "      <td>2.6</td>\n",
       "      <td>6</td>\n",
       "      <td>2017</td>\n",
       "    </tr>\n",
       "  </tbody>\n",
       "</table>\n",
       "</div>"
      ],
      "text/plain": [
       "                Player   Tm  Age  Pos   G  GS    Tgt  Rec   Ctch%   Yds   Y/R  \\\n",
       "134         Bobby Wade  2TM   24  NaN  14   1   29.0   14   48.3%   120   8.6   \n",
       "696     Devin Hester*+  CHI   25  NaN  16   0   38.0   20   52.6%   299  15.0   \n",
       "792        Chris Davis  TEN   23  NaN  12   0    9.0    5   55.6%    38   7.6   \n",
       "1201       Davone Bess  MIA   24  NaN  16   2  113.0   76   67.3%   758  10.0   \n",
       "1298     Josh Cribbs*+  CLE   26   WR  16  12   37.0   20   54.1%   135   6.8   \n",
       "1390      Arnaz Battle  SFO   29  NaN  15   0    5.0    5  100.0%    40   8.0   \n",
       "1596       Josh Cribbs  CLE   27   WR  15   5   39.0   23   59.0%   292  12.7   \n",
       "1854    Preston Parker  TAM   24  NaN  16   0   65.0   40   61.5%   554  13.9   \n",
       "1914    Tashard Choice  3TM   27  NaN  13   1   30.0   19   63.3%   124   6.5   \n",
       "2069     Brandon Banks  WAS   24  NaN  16   0    1.0    1  100.0%    10  10.0   \n",
       "2084      Stefan Logan  DET   30  NaN  16   1    1.0    1  100.0%    19  19.0   \n",
       "2295      Josh Cribbs*  CLE   29  NaN  16   2   11.0    7   63.6%    63   9.0   \n",
       "2306      Stefan Logan  DET   31  NaN  16   0    7.0    6   85.7%    28   4.7   \n",
       "2378  Trindon Holliday  2TM   26  NaN  15   0    2.0    2  100.0%    17   8.5   \n",
       "2441    Julian Edelman  NWE   27   WR  16  11  151.0  105   69.5%  1056  10.1   \n",
       "2783     Jarvis Landry  MIA   22   WR  16  11  112.0   84   75.0%   758   9.0   \n",
       "3364      Bobby Rainey  TAM   28  NaN  16   0    3.0    3  100.0%    16   5.3   \n",
       "3801   Jamison Crowder  WAS   24   WR  15   6  103.0   66   64.1%   789  12.0   \n",
       "3888     Jalen Richard  OAK   24  NaN  16   1   36.0   27   75.0%   256   9.5   \n",
       "3954     Alex Erickson  CIN   25  NaN  16   0   16.0   12   75.0%   180  15.0   \n",
       "4041   Isaiah McKenzie  DEN   22  NaN  11   0   13.0    4   30.8%    29   7.3   \n",
       "\n",
       "      TD  1D  Lng  Y/Tgt  R/G   Y/G  Fmb  YEAR  \n",
       "134    0   0   17    4.1  1.0   8.6   10  2005  \n",
       "696    2  11   81    7.9  1.3  18.7    7  2007  \n",
       "792    0   1   13    4.2  0.4   3.2    6  2007  \n",
       "1201   2  48   34    6.7  4.8  47.4    6  2009  \n",
       "1298   1   4   35    3.6  1.3   8.4    6  2009  \n",
       "1390   0   2   12    8.0  0.3   2.7    6  2009  \n",
       "1596   1  11   65    7.5  1.5  19.5    7  2010  \n",
       "1854   3  26   51    8.5  2.5  34.6    8  2011  \n",
       "1914   0   0   18    4.1  1.5   9.5    6  2011  \n",
       "2069   0   1   10   10.0  0.1   0.6    7  2011  \n",
       "2084   0   1   19   19.0  0.1   1.2    6  2011  \n",
       "2295   0   3   24    5.7  0.4   3.9    6  2012  \n",
       "2306   0   2   10    4.0  0.4   1.8    6  2012  \n",
       "2378   0   0   15    8.5  0.1   1.1    6  2012  \n",
       "2441   6  54   44    7.0  6.6  66.0    6  2013  \n",
       "2783   5  50   25    6.8  5.3  47.4    7  2014  \n",
       "3364   0   1    8    5.3  0.2   1.0    8  2015  \n",
       "3801   3  38   41    7.7  4.4  52.6    6  2017  \n",
       "3888   1  13   39    7.1  1.7  16.0    8  2017  \n",
       "3954   1   9   37   11.3  0.8  11.3    6  2017  \n",
       "4041   0   2   14    2.2  0.4   2.6    6  2017  "
      ]
     },
     "execution_count": 48,
     "metadata": {},
     "output_type": "execute_result"
    }
   ],
   "source": [
    "rec_stats[rec_stats['Fmb'] >= 6]"
   ]
  },
  {
   "cell_type": "markdown",
   "metadata": {},
   "source": [
    "## Advanced Receiver Stats Data\n",
    "These advanced statistics (courtesy of Football Outsiders) for receivers will be used for the projections of second year jumps. They will need to be trimmed down to only the rookie and second year players for each year. (Note: a Glossary of this dataset's features is available in the reference section)"
   ]
  },
  {
   "cell_type": "code",
   "execution_count": 49,
   "metadata": {},
   "outputs": [
    {
     "data": {
      "text/html": [
       "<div>\n",
       "<style scoped>\n",
       "    .dataframe tbody tr th:only-of-type {\n",
       "        vertical-align: middle;\n",
       "    }\n",
       "\n",
       "    .dataframe tbody tr th {\n",
       "        vertical-align: top;\n",
       "    }\n",
       "\n",
       "    .dataframe thead th {\n",
       "        text-align: right;\n",
       "    }\n",
       "</style>\n",
       "<table border=\"1\" class=\"dataframe\">\n",
       "  <thead>\n",
       "    <tr style=\"text-align: right;\">\n",
       "      <th></th>\n",
       "      <th>Player</th>\n",
       "      <th>Team</th>\n",
       "      <th>DYAR</th>\n",
       "      <th>YAR</th>\n",
       "      <th>DVOA</th>\n",
       "      <th>VOA</th>\n",
       "      <th>EYds</th>\n",
       "      <th>DPI</th>\n",
       "      <th>YEAR</th>\n",
       "    </tr>\n",
       "  </thead>\n",
       "  <tbody>\n",
       "    <tr>\n",
       "      <td>0</td>\n",
       "      <td>S.Smith</td>\n",
       "      <td>CAR</td>\n",
       "      <td>502</td>\n",
       "      <td>508</td>\n",
       "      <td>29.0%</td>\n",
       "      <td>29.6%</td>\n",
       "      <td>1720</td>\n",
       "      <td>2/44</td>\n",
       "      <td>2005</td>\n",
       "    </tr>\n",
       "    <tr>\n",
       "      <td>1</td>\n",
       "      <td>C.Johnson</td>\n",
       "      <td>CIN</td>\n",
       "      <td>415</td>\n",
       "      <td>412</td>\n",
       "      <td>19.9%</td>\n",
       "      <td>19.7%</td>\n",
       "      <td>1648</td>\n",
       "      <td>3/58</td>\n",
       "      <td>2005</td>\n",
       "    </tr>\n",
       "    <tr>\n",
       "      <td>2</td>\n",
       "      <td>S.Moss</td>\n",
       "      <td>WAS</td>\n",
       "      <td>402</td>\n",
       "      <td>390</td>\n",
       "      <td>25.6%</td>\n",
       "      <td>24.4%</td>\n",
       "      <td>1450</td>\n",
       "      <td>4/51</td>\n",
       "      <td>2005</td>\n",
       "    </tr>\n",
       "    <tr>\n",
       "      <td>3</td>\n",
       "      <td>D.Driver</td>\n",
       "      <td>GB</td>\n",
       "      <td>355</td>\n",
       "      <td>323</td>\n",
       "      <td>17.1%</td>\n",
       "      <td>14.4%</td>\n",
       "      <td>1496</td>\n",
       "      <td>6/175</td>\n",
       "      <td>2005</td>\n",
       "    </tr>\n",
       "    <tr>\n",
       "      <td>4</td>\n",
       "      <td>E.Kennison</td>\n",
       "      <td>KC</td>\n",
       "      <td>343</td>\n",
       "      <td>343</td>\n",
       "      <td>27.6%</td>\n",
       "      <td>27.7%</td>\n",
       "      <td>1199</td>\n",
       "      <td>3/67</td>\n",
       "      <td>2005</td>\n",
       "    </tr>\n",
       "  </tbody>\n",
       "</table>\n",
       "</div>"
      ],
      "text/plain": [
       "       Player Team  DYAR  YAR   DVOA    VOA  EYds    DPI  YEAR\n",
       "0     S.Smith  CAR   502  508  29.0%  29.6%  1720   2/44  2005\n",
       "1   C.Johnson  CIN   415  412  19.9%  19.7%  1648   3/58  2005\n",
       "2      S.Moss  WAS   402  390  25.6%  24.4%  1450   4/51  2005\n",
       "3    D.Driver   GB   355  323  17.1%  14.4%  1496  6/175  2005\n",
       "4  E.Kennison   KC   343  343  27.6%  27.7%  1199   3/67  2005"
      ]
     },
     "execution_count": 49,
     "metadata": {},
     "output_type": "execute_result"
    }
   ],
   "source": [
    "adv_stats.head()"
   ]
  },
  {
   "cell_type": "markdown",
   "metadata": {},
   "source": [
    "### Feature Types\n",
    "The typing is fairly reasonable, however both `DVOA` as well as `VOA` will need to be changed to floats. `DPI`, which is formatted in *number of penalties/yards*, will most likely need to be split up into two different columns. Additionally the `Player` column is formatted VERY differently from the other two datasets, going with a *firstinitial.lastname* format. This will most likely require the other datasets to be changed to this format, and instead of merging purely on name, merging on name and team."
   ]
  },
  {
   "cell_type": "code",
   "execution_count": 50,
   "metadata": {
    "scrolled": true
   },
   "outputs": [
    {
     "data": {
      "text/plain": [
       "Player    object\n",
       "Team      object\n",
       "DYAR       int64\n",
       "YAR        int64\n",
       "DVOA      object\n",
       "VOA       object\n",
       "EYds       int64\n",
       "DPI       object\n",
       "YEAR       int64\n",
       "dtype: object"
      ]
     },
     "execution_count": 50,
     "metadata": {},
     "output_type": "execute_result"
    }
   ],
   "source": [
    "adv_stats.dtypes"
   ]
  },
  {
   "cell_type": "markdown",
   "metadata": {},
   "source": [
    "### Missingness\n",
    "There seem to be no missing entries for this dataset, which is in line with initial assumptions."
   ]
  },
  {
   "cell_type": "code",
   "execution_count": 51,
   "metadata": {},
   "outputs": [
    {
     "data": {
      "text/plain": [
       "Player    0.0\n",
       "Team      0.0\n",
       "DYAR      0.0\n",
       "YAR       0.0\n",
       "DVOA      0.0\n",
       "VOA       0.0\n",
       "EYds      0.0\n",
       "DPI       0.0\n",
       "YEAR      0.0\n",
       "dtype: float64"
      ]
     },
     "execution_count": 51,
     "metadata": {},
     "output_type": "execute_result"
    }
   ],
   "source": [
    "adv_stats.isnull().mean()"
   ]
  },
  {
   "cell_type": "markdown",
   "metadata": {},
   "source": [
    "### Distribution of Categorical Features"
   ]
  },
  {
   "cell_type": "markdown",
   "metadata": {},
   "source": [
    "#### Team\n",
    "Team has a slightly different encoding than the other datasets, as well as being slightly inconsistent. When specifically comparing the encodings between this dataset and the previous two, it can be seen that some edits to the encodings will be required for certain teams."
   ]
  },
  {
   "cell_type": "code",
   "execution_count": 52,
   "metadata": {},
   "outputs": [
    {
     "data": {
      "text/plain": [
       "38"
      ]
     },
     "execution_count": 52,
     "metadata": {},
     "output_type": "execute_result"
    }
   ],
   "source": [
    "adv_stats['Team'].nunique()"
   ]
  },
  {
   "cell_type": "code",
   "execution_count": 53,
   "metadata": {},
   "outputs": [
    {
     "data": {
      "text/plain": [
       "ARI     77\n",
       "KC      75\n",
       "CIN     75\n",
       "WAS     75\n",
       "CLE     75\n",
       "GB      74\n",
       "MIN     73\n",
       "NYJ     72\n",
       "CHI     72\n",
       "SF      71\n",
       "PIT     71\n",
       "PHI     71\n",
       "OAK     71\n",
       "SEA     71\n",
       "TEN     70\n",
       "NYG     70\n",
       "NO      70\n",
       "DET     69\n",
       "BUF     69\n",
       "HOU     68\n",
       "MIA     68\n",
       "DEN     67\n",
       "JAC     67\n",
       "IND     67\n",
       "TB      65\n",
       "NE      65\n",
       "ATL     65\n",
       "BAL     64\n",
       "DAL     63\n",
       "CAR     63\n",
       "STL     60\n",
       "SD      50\n",
       "2TM     36\n",
       "LARM    10\n",
       "JAX      8\n",
       "LAC      8\n",
       "LAR      8\n",
       "LACH     4\n",
       "Name: Team, dtype: int64"
      ]
     },
     "execution_count": 53,
     "metadata": {},
     "output_type": "execute_result"
    }
   ],
   "source": [
    "adv_stats['Team'].value_counts()"
   ]
  },
  {
   "cell_type": "code",
   "execution_count": 54,
   "metadata": {},
   "outputs": [
    {
     "data": {
      "text/plain": [
       "{'GNB', 'KAN', 'NOR', 'NWE', 'SDG', 'SFO', 'TAM'}"
      ]
     },
     "execution_count": 54,
     "metadata": {},
     "output_type": "execute_result"
    }
   ],
   "source": [
    "set(receivers['Tm']) - set(adv_stats['Team'])"
   ]
  },
  {
   "cell_type": "code",
   "execution_count": 55,
   "metadata": {},
   "outputs": [
    {
     "data": {
      "text/plain": [
       "{'2TM', 'GB', 'JAC', 'KC', 'LACH', 'LARM', 'NE', 'NO', 'SD', 'SF', 'TB'}"
      ]
     },
     "execution_count": 55,
     "metadata": {},
     "output_type": "execute_result"
    }
   ],
   "source": [
    "set(adv_stats['Team']) - set(receivers['Tm'])"
   ]
  },
  {
   "cell_type": "markdown",
   "metadata": {},
   "source": [
    "### Distribution of Numeric Features"
   ]
  },
  {
   "cell_type": "markdown",
   "metadata": {},
   "source": [
    "#### DYAR (Defense-adjusted Yards Above Replacement)\n",
    "DYAR has a fairly normal distribution with a peak in the 0-100 bin. It has a few outliers at the high end, with star players such as Calvin Johnson, Jordy Nelson, Antonio Brown, and Michael Thomas, as well as others and two outliers on the low end in Tavon Austin and Chris Chambers. Each of these players also had very poor statistics in almost every other advanced metric as well."
   ]
  },
  {
   "cell_type": "code",
   "execution_count": 56,
   "metadata": {},
   "outputs": [
    {
     "data": {
      "image/png": "[encoded data removed]",
      "text/plain": [
       "<Figure size 612x396 with 1 Axes>"
      ]
     },
     "metadata": {},
     "output_type": "display_data"
    }
   ],
   "source": [
    "eda_viz_pre.dyar_distribution(savefig = True)"
   ]
  },
  {
   "cell_type": "code",
   "execution_count": 57,
   "metadata": {},
   "outputs": [
    {
     "data": {
      "text/html": [
       "<div>\n",
       "<style scoped>\n",
       "    .dataframe tbody tr th:only-of-type {\n",
       "        vertical-align: middle;\n",
       "    }\n",
       "\n",
       "    .dataframe tbody tr th {\n",
       "        vertical-align: top;\n",
       "    }\n",
       "\n",
       "    .dataframe thead th {\n",
       "        text-align: right;\n",
       "    }\n",
       "</style>\n",
       "<table border=\"1\" class=\"dataframe\">\n",
       "  <thead>\n",
       "    <tr style=\"text-align: right;\">\n",
       "      <th></th>\n",
       "      <th>Player</th>\n",
       "      <th>Team</th>\n",
       "      <th>DYAR</th>\n",
       "      <th>YAR</th>\n",
       "      <th>DVOA</th>\n",
       "      <th>VOA</th>\n",
       "      <th>EYds</th>\n",
       "      <th>DPI</th>\n",
       "      <th>YEAR</th>\n",
       "    </tr>\n",
       "  </thead>\n",
       "  <tbody>\n",
       "    <tr>\n",
       "      <td>0</td>\n",
       "      <td>S.Smith</td>\n",
       "      <td>CAR</td>\n",
       "      <td>502</td>\n",
       "      <td>508</td>\n",
       "      <td>29.0%</td>\n",
       "      <td>29.6%</td>\n",
       "      <td>1720</td>\n",
       "      <td>2/44</td>\n",
       "      <td>2005</td>\n",
       "    </tr>\n",
       "    <tr>\n",
       "      <td>142</td>\n",
       "      <td>M.Harrison</td>\n",
       "      <td>IND</td>\n",
       "      <td>513</td>\n",
       "      <td>491</td>\n",
       "      <td>30.6%</td>\n",
       "      <td>28.7%</td>\n",
       "      <td>1723</td>\n",
       "      <td>2/33</td>\n",
       "      <td>2006</td>\n",
       "    </tr>\n",
       "    <tr>\n",
       "      <td>279</td>\n",
       "      <td>R.Moss</td>\n",
       "      <td>NE</td>\n",
       "      <td>564</td>\n",
       "      <td>557</td>\n",
       "      <td>28.9%</td>\n",
       "      <td>28.4%</td>\n",
       "      <td>1935</td>\n",
       "      <td>6/72</td>\n",
       "      <td>2007</td>\n",
       "    </tr>\n",
       "    <tr>\n",
       "      <td>427</td>\n",
       "      <td>A.Johnson</td>\n",
       "      <td>HOU</td>\n",
       "      <td>510</td>\n",
       "      <td>480</td>\n",
       "      <td>23.5%</td>\n",
       "      <td>21.3%</td>\n",
       "      <td>1901</td>\n",
       "      <td>5/67</td>\n",
       "      <td>2008</td>\n",
       "    </tr>\n",
       "    <tr>\n",
       "      <td>854</td>\n",
       "      <td>C.Johnson</td>\n",
       "      <td>DET</td>\n",
       "      <td>570</td>\n",
       "      <td>577</td>\n",
       "      <td>31.9%</td>\n",
       "      <td>32.5%</td>\n",
       "      <td>1881</td>\n",
       "      <td>3/67</td>\n",
       "      <td>2011</td>\n",
       "    </tr>\n",
       "    <tr>\n",
       "      <td>855</td>\n",
       "      <td>J.Nelson</td>\n",
       "      <td>GB</td>\n",
       "      <td>517</td>\n",
       "      <td>525</td>\n",
       "      <td>52.5%</td>\n",
       "      <td>53.5%</td>\n",
       "      <td>1408</td>\n",
       "      <td>2/40</td>\n",
       "      <td>2011</td>\n",
       "    </tr>\n",
       "    <tr>\n",
       "      <td>1311</td>\n",
       "      <td>A.Brown</td>\n",
       "      <td>PIT</td>\n",
       "      <td>554</td>\n",
       "      <td>525</td>\n",
       "      <td>25.7%</td>\n",
       "      <td>23.7%</td>\n",
       "      <td>1992</td>\n",
       "      <td>5/97</td>\n",
       "      <td>2014</td>\n",
       "    </tr>\n",
       "    <tr>\n",
       "      <td>1470</td>\n",
       "      <td>A.Brown</td>\n",
       "      <td>PIT</td>\n",
       "      <td>517</td>\n",
       "      <td>490</td>\n",
       "      <td>19.7%</td>\n",
       "      <td>18.0%</td>\n",
       "      <td>2061</td>\n",
       "      <td>7/196</td>\n",
       "      <td>2015</td>\n",
       "    </tr>\n",
       "    <tr>\n",
       "      <td>2110</td>\n",
       "      <td>M.Thomas</td>\n",
       "      <td>NO</td>\n",
       "      <td>538</td>\n",
       "      <td>537</td>\n",
       "      <td>23.9%</td>\n",
       "      <td>23.8%</td>\n",
       "      <td>1993</td>\n",
       "      <td>3/46</td>\n",
       "      <td>2019</td>\n",
       "    </tr>\n",
       "  </tbody>\n",
       "</table>\n",
       "</div>"
      ],
      "text/plain": [
       "          Player Team  DYAR  YAR   DVOA    VOA  EYds    DPI  YEAR\n",
       "0        S.Smith  CAR   502  508  29.0%  29.6%  1720   2/44  2005\n",
       "142   M.Harrison  IND   513  491  30.6%  28.7%  1723   2/33  2006\n",
       "279       R.Moss   NE   564  557  28.9%  28.4%  1935   6/72  2007\n",
       "427    A.Johnson  HOU   510  480  23.5%  21.3%  1901   5/67  2008\n",
       "854    C.Johnson  DET   570  577  31.9%  32.5%  1881   3/67  2011\n",
       "855     J.Nelson   GB   517  525  52.5%  53.5%  1408   2/40  2011\n",
       "1311     A.Brown  PIT   554  525  25.7%  23.7%  1992   5/97  2014\n",
       "1470     A.Brown  PIT   517  490  19.7%  18.0%  2061  7/196  2015\n",
       "2110    M.Thomas   NO   538  537  23.9%  23.8%  1993   3/46  2019"
      ]
     },
     "execution_count": 57,
     "metadata": {},
     "output_type": "execute_result"
    }
   ],
   "source": [
    "adv_stats[adv_stats['DYAR'] >= 500]"
   ]
  },
  {
   "cell_type": "code",
   "execution_count": 58,
   "metadata": {},
   "outputs": [
    {
     "data": {
      "text/html": [
       "<div>\n",
       "<style scoped>\n",
       "    .dataframe tbody tr th:only-of-type {\n",
       "        vertical-align: middle;\n",
       "    }\n",
       "\n",
       "    .dataframe tbody tr th {\n",
       "        vertical-align: top;\n",
       "    }\n",
       "\n",
       "    .dataframe thead th {\n",
       "        text-align: right;\n",
       "    }\n",
       "</style>\n",
       "<table border=\"1\" class=\"dataframe\">\n",
       "  <thead>\n",
       "    <tr style=\"text-align: right;\">\n",
       "      <th></th>\n",
       "      <th>Player</th>\n",
       "      <th>Team</th>\n",
       "      <th>DYAR</th>\n",
       "      <th>YAR</th>\n",
       "      <th>DVOA</th>\n",
       "      <th>VOA</th>\n",
       "      <th>EYds</th>\n",
       "      <th>DPI</th>\n",
       "      <th>YEAR</th>\n",
       "    </tr>\n",
       "  </thead>\n",
       "  <tbody>\n",
       "    <tr>\n",
       "      <td>225</td>\n",
       "      <td>C.Chambers</td>\n",
       "      <td>MIA</td>\n",
       "      <td>-297</td>\n",
       "      <td>-312</td>\n",
       "      <td>-37.1%</td>\n",
       "      <td>-38.3%</td>\n",
       "      <td>551</td>\n",
       "      <td>0/0</td>\n",
       "      <td>2006</td>\n",
       "    </tr>\n",
       "    <tr>\n",
       "      <td>1726</td>\n",
       "      <td>T.Austin</td>\n",
       "      <td>LARM</td>\n",
       "      <td>-219</td>\n",
       "      <td>-199</td>\n",
       "      <td>-39.1%</td>\n",
       "      <td>-36.6%</td>\n",
       "      <td>352</td>\n",
       "      <td>2/43</td>\n",
       "      <td>2016</td>\n",
       "    </tr>\n",
       "  </tbody>\n",
       "</table>\n",
       "</div>"
      ],
      "text/plain": [
       "          Player  Team  DYAR  YAR    DVOA     VOA  EYds   DPI  YEAR\n",
       "225   C.Chambers   MIA  -297 -312  -37.1%  -38.3%   551   0/0  2006\n",
       "1726    T.Austin  LARM  -219 -199  -39.1%  -36.6%   352  2/43  2016"
      ]
     },
     "execution_count": 58,
     "metadata": {},
     "output_type": "execute_result"
    }
   ],
   "source": [
    "adv_stats[adv_stats['DYAR'] < -200]"
   ]
  },
  {
   "cell_type": "markdown",
   "metadata": {},
   "source": [
    "#### YAR (Yards Above Replacement)\n",
    "YAR has a similarly shaped distribution as DYAR (with a peak again in the 0-100 bin), which is to be expected as it is essentially the same statistic, except not accounting for the defenses played. Something interesting to note, however, is that Tavon Austin does not appear as an extremely low outlier, as he most likely played fairly poorly, but his performance was even worse when taking into account his opponents. Instead, Brandon Lloyd is down around the bottom. There are similar high outliers, except that Marvin Harrison, Andre Johnson, and an Antonio Brown season don't appear, while a Randall Cobb season does."
   ]
  },
  {
   "cell_type": "code",
   "execution_count": 59,
   "metadata": {},
   "outputs": [
    {
     "data": {
      "image/png": "[encoded data removed]",
      "text/plain": [
       "<Figure size 612x396 with 1 Axes>"
      ]
     },
     "metadata": {},
     "output_type": "display_data"
    }
   ],
   "source": [
    "eda_viz_pre.yar_distribution(savefig = True)"
   ]
  },
  {
   "cell_type": "code",
   "execution_count": 60,
   "metadata": {},
   "outputs": [
    {
     "data": {
      "text/html": [
       "<div>\n",
       "<style scoped>\n",
       "    .dataframe tbody tr th:only-of-type {\n",
       "        vertical-align: middle;\n",
       "    }\n",
       "\n",
       "    .dataframe tbody tr th {\n",
       "        vertical-align: top;\n",
       "    }\n",
       "\n",
       "    .dataframe thead th {\n",
       "        text-align: right;\n",
       "    }\n",
       "</style>\n",
       "<table border=\"1\" class=\"dataframe\">\n",
       "  <thead>\n",
       "    <tr style=\"text-align: right;\">\n",
       "      <th></th>\n",
       "      <th>Player</th>\n",
       "      <th>Team</th>\n",
       "      <th>DYAR</th>\n",
       "      <th>YAR</th>\n",
       "      <th>DVOA</th>\n",
       "      <th>VOA</th>\n",
       "      <th>EYds</th>\n",
       "      <th>DPI</th>\n",
       "      <th>YEAR</th>\n",
       "    </tr>\n",
       "  </thead>\n",
       "  <tbody>\n",
       "    <tr>\n",
       "      <td>0</td>\n",
       "      <td>S.Smith</td>\n",
       "      <td>CAR</td>\n",
       "      <td>502</td>\n",
       "      <td>508</td>\n",
       "      <td>29.0%</td>\n",
       "      <td>29.6%</td>\n",
       "      <td>1720</td>\n",
       "      <td>2/44</td>\n",
       "      <td>2005</td>\n",
       "    </tr>\n",
       "    <tr>\n",
       "      <td>279</td>\n",
       "      <td>R.Moss</td>\n",
       "      <td>NE</td>\n",
       "      <td>564</td>\n",
       "      <td>557</td>\n",
       "      <td>28.9%</td>\n",
       "      <td>28.4%</td>\n",
       "      <td>1935</td>\n",
       "      <td>6/72</td>\n",
       "      <td>2007</td>\n",
       "    </tr>\n",
       "    <tr>\n",
       "      <td>854</td>\n",
       "      <td>C.Johnson</td>\n",
       "      <td>DET</td>\n",
       "      <td>570</td>\n",
       "      <td>577</td>\n",
       "      <td>31.9%</td>\n",
       "      <td>32.5%</td>\n",
       "      <td>1881</td>\n",
       "      <td>3/67</td>\n",
       "      <td>2011</td>\n",
       "    </tr>\n",
       "    <tr>\n",
       "      <td>855</td>\n",
       "      <td>J.Nelson</td>\n",
       "      <td>GB</td>\n",
       "      <td>517</td>\n",
       "      <td>525</td>\n",
       "      <td>52.5%</td>\n",
       "      <td>53.5%</td>\n",
       "      <td>1408</td>\n",
       "      <td>2/40</td>\n",
       "      <td>2011</td>\n",
       "    </tr>\n",
       "    <tr>\n",
       "      <td>1311</td>\n",
       "      <td>A.Brown</td>\n",
       "      <td>PIT</td>\n",
       "      <td>554</td>\n",
       "      <td>525</td>\n",
       "      <td>25.7%</td>\n",
       "      <td>23.7%</td>\n",
       "      <td>1992</td>\n",
       "      <td>5/97</td>\n",
       "      <td>2014</td>\n",
       "    </tr>\n",
       "    <tr>\n",
       "      <td>1314</td>\n",
       "      <td>R.Cobb</td>\n",
       "      <td>GB</td>\n",
       "      <td>479</td>\n",
       "      <td>501</td>\n",
       "      <td>35.7%</td>\n",
       "      <td>37.8%</td>\n",
       "      <td>1514</td>\n",
       "      <td>1/44</td>\n",
       "      <td>2014</td>\n",
       "    </tr>\n",
       "    <tr>\n",
       "      <td>2110</td>\n",
       "      <td>M.Thomas</td>\n",
       "      <td>NO</td>\n",
       "      <td>538</td>\n",
       "      <td>537</td>\n",
       "      <td>23.9%</td>\n",
       "      <td>23.8%</td>\n",
       "      <td>1993</td>\n",
       "      <td>3/46</td>\n",
       "      <td>2019</td>\n",
       "    </tr>\n",
       "  </tbody>\n",
       "</table>\n",
       "</div>"
      ],
      "text/plain": [
       "         Player Team  DYAR  YAR   DVOA    VOA  EYds   DPI  YEAR\n",
       "0       S.Smith  CAR   502  508  29.0%  29.6%  1720  2/44  2005\n",
       "279      R.Moss   NE   564  557  28.9%  28.4%  1935  6/72  2007\n",
       "854   C.Johnson  DET   570  577  31.9%  32.5%  1881  3/67  2011\n",
       "855    J.Nelson   GB   517  525  52.5%  53.5%  1408  2/40  2011\n",
       "1311    A.Brown  PIT   554  525  25.7%  23.7%  1992  5/97  2014\n",
       "1314     R.Cobb   GB   479  501  35.7%  37.8%  1514  1/44  2014\n",
       "2110   M.Thomas   NO   538  537  23.9%  23.8%  1993  3/46  2019"
      ]
     },
     "execution_count": 60,
     "metadata": {},
     "output_type": "execute_result"
    }
   ],
   "source": [
    "adv_stats[adv_stats['YAR'] >= 500]"
   ]
  },
  {
   "cell_type": "code",
   "execution_count": 61,
   "metadata": {},
   "outputs": [
    {
     "data": {
      "text/html": [
       "<div>\n",
       "<style scoped>\n",
       "    .dataframe tbody tr th:only-of-type {\n",
       "        vertical-align: middle;\n",
       "    }\n",
       "\n",
       "    .dataframe tbody tr th {\n",
       "        vertical-align: top;\n",
       "    }\n",
       "\n",
       "    .dataframe thead th {\n",
       "        text-align: right;\n",
       "    }\n",
       "</style>\n",
       "<table border=\"1\" class=\"dataframe\">\n",
       "  <thead>\n",
       "    <tr style=\"text-align: right;\">\n",
       "      <th></th>\n",
       "      <th>Player</th>\n",
       "      <th>Team</th>\n",
       "      <th>DYAR</th>\n",
       "      <th>YAR</th>\n",
       "      <th>DVOA</th>\n",
       "      <th>VOA</th>\n",
       "      <th>EYds</th>\n",
       "      <th>DPI</th>\n",
       "      <th>YEAR</th>\n",
       "    </tr>\n",
       "  </thead>\n",
       "  <tbody>\n",
       "    <tr>\n",
       "      <td>225</td>\n",
       "      <td>C.Chambers</td>\n",
       "      <td>MIA</td>\n",
       "      <td>-297</td>\n",
       "      <td>-312</td>\n",
       "      <td>-37.1%</td>\n",
       "      <td>-38.3%</td>\n",
       "      <td>551</td>\n",
       "      <td>0/0</td>\n",
       "      <td>2006</td>\n",
       "    </tr>\n",
       "  </tbody>\n",
       "</table>\n",
       "</div>"
      ],
      "text/plain": [
       "         Player Team  DYAR  YAR    DVOA     VOA  EYds  DPI  YEAR\n",
       "225  C.Chambers  MIA  -297 -312  -37.1%  -38.3%   551  0/0  2006"
      ]
     },
     "execution_count": 61,
     "metadata": {},
     "output_type": "execute_result"
    }
   ],
   "source": [
    "adv_stats[adv_stats['YAR'] < -200]"
   ]
  },
  {
   "cell_type": "markdown",
   "metadata": {},
   "source": [
    "#### DVOA (Defense-adjusted Value Over Average)\n",
    "DVOA displays a normal distribution (peak in the -10-0 bin), with outliers on both ends. On the upper end, there are receivers with seemingly small sample sizes (based on their EYds numbers), in Kelley Washington, Marvin Hall, and Greg Camarillo. On the lower end of the spectrum, Brandon Lloyd has the lowest DVOA, joined by Stanley Morgan. "
   ]
  },
  {
   "cell_type": "code",
   "execution_count": 62,
   "metadata": {},
   "outputs": [
    {
     "data": {
      "image/png": "[encoded data removed]",
      "text/plain": [
       "<Figure size 612x396 with 1 Axes>"
      ]
     },
     "metadata": {},
     "output_type": "display_data"
    }
   ],
   "source": [
    "eda_viz_pre.dvoa_distribution(savefig = True)"
   ]
  },
  {
   "cell_type": "code",
   "execution_count": 63,
   "metadata": {},
   "outputs": [
    {
     "data": {
      "text/html": [
       "<div>\n",
       "<style scoped>\n",
       "    .dataframe tbody tr th:only-of-type {\n",
       "        vertical-align: middle;\n",
       "    }\n",
       "\n",
       "    .dataframe tbody tr th {\n",
       "        vertical-align: top;\n",
       "    }\n",
       "\n",
       "    .dataframe thead th {\n",
       "        text-align: right;\n",
       "    }\n",
       "</style>\n",
       "<table border=\"1\" class=\"dataframe\">\n",
       "  <thead>\n",
       "    <tr style=\"text-align: right;\">\n",
       "      <th></th>\n",
       "      <th>Player</th>\n",
       "      <th>Team</th>\n",
       "      <th>DYAR</th>\n",
       "      <th>YAR</th>\n",
       "      <th>DVOA</th>\n",
       "      <th>VOA</th>\n",
       "      <th>EYds</th>\n",
       "      <th>DPI</th>\n",
       "      <th>YEAR</th>\n",
       "    </tr>\n",
       "  </thead>\n",
       "  <tbody>\n",
       "    <tr>\n",
       "      <td>372</td>\n",
       "      <td>G.Camarillo</td>\n",
       "      <td>MIA</td>\n",
       "      <td>72</td>\n",
       "      <td>76</td>\n",
       "      <td>81.6%</td>\n",
       "      <td>86.9%</td>\n",
       "      <td>168</td>\n",
       "      <td>0/0</td>\n",
       "      <td>2007</td>\n",
       "    </tr>\n",
       "    <tr>\n",
       "      <td>798</td>\n",
       "      <td>K.Washington</td>\n",
       "      <td>SD</td>\n",
       "      <td>96</td>\n",
       "      <td>97</td>\n",
       "      <td>80.7%</td>\n",
       "      <td>81.4%</td>\n",
       "      <td>226</td>\n",
       "      <td>0/0</td>\n",
       "      <td>2010</td>\n",
       "    </tr>\n",
       "    <tr>\n",
       "      <td>2197</td>\n",
       "      <td>M.Hall</td>\n",
       "      <td>DET</td>\n",
       "      <td>98</td>\n",
       "      <td>101</td>\n",
       "      <td>108.2%</td>\n",
       "      <td>112.1%</td>\n",
       "      <td>211</td>\n",
       "      <td>0/0</td>\n",
       "      <td>2019</td>\n",
       "    </tr>\n",
       "  </tbody>\n",
       "</table>\n",
       "</div>"
      ],
      "text/plain": [
       "            Player Team  DYAR  YAR    DVOA     VOA  EYds  DPI  YEAR\n",
       "372    G.Camarillo  MIA    72   76   81.6%   86.9%   168  0/0  2007\n",
       "798   K.Washington   SD    96   97   80.7%   81.4%   226  0/0  2010\n",
       "2197        M.Hall  DET    98  101  108.2%  112.1%   211  0/0  2019"
      ]
     },
     "execution_count": 63,
     "metadata": {},
     "output_type": "execute_result"
    }
   ],
   "source": [
    "adv_stats[pd.to_numeric(adv_stats['DVOA'].str.replace('%', '')) >= 80]"
   ]
  },
  {
   "cell_type": "code",
   "execution_count": 64,
   "metadata": {},
   "outputs": [
    {
     "data": {
      "text/html": [
       "<div>\n",
       "<style scoped>\n",
       "    .dataframe tbody tr th:only-of-type {\n",
       "        vertical-align: middle;\n",
       "    }\n",
       "\n",
       "    .dataframe tbody tr th {\n",
       "        vertical-align: top;\n",
       "    }\n",
       "\n",
       "    .dataframe thead th {\n",
       "        text-align: right;\n",
       "    }\n",
       "</style>\n",
       "<table border=\"1\" class=\"dataframe\">\n",
       "  <thead>\n",
       "    <tr style=\"text-align: right;\">\n",
       "      <th></th>\n",
       "      <th>Player</th>\n",
       "      <th>Team</th>\n",
       "      <th>DYAR</th>\n",
       "      <th>YAR</th>\n",
       "      <th>DVOA</th>\n",
       "      <th>VOA</th>\n",
       "      <th>EYds</th>\n",
       "      <th>DPI</th>\n",
       "      <th>YEAR</th>\n",
       "    </tr>\n",
       "  </thead>\n",
       "  <tbody>\n",
       "    <tr>\n",
       "      <td>423</td>\n",
       "      <td>B.Lloyd</td>\n",
       "      <td>WAS</td>\n",
       "      <td>-59</td>\n",
       "      <td>-54</td>\n",
       "      <td>-85.6%</td>\n",
       "      <td>-79.3%</td>\n",
       "      <td>-21</td>\n",
       "      <td>0/0</td>\n",
       "      <td>2007</td>\n",
       "    </tr>\n",
       "    <tr>\n",
       "      <td>2268</td>\n",
       "      <td>S.Morgan</td>\n",
       "      <td>CIN</td>\n",
       "      <td>-53</td>\n",
       "      <td>-55</td>\n",
       "      <td>-82.5%</td>\n",
       "      <td>-86.1%</td>\n",
       "      <td>-16</td>\n",
       "      <td>0/0</td>\n",
       "      <td>2019</td>\n",
       "    </tr>\n",
       "  </tbody>\n",
       "</table>\n",
       "</div>"
      ],
      "text/plain": [
       "        Player Team  DYAR  YAR    DVOA     VOA  EYds  DPI  YEAR\n",
       "423    B.Lloyd  WAS   -59  -54  -85.6%  -79.3%   -21  0/0  2007\n",
       "2268  S.Morgan  CIN   -53  -55  -82.5%  -86.1%   -16  0/0  2019"
      ]
     },
     "execution_count": 64,
     "metadata": {},
     "output_type": "execute_result"
    }
   ],
   "source": [
    "adv_stats[pd.to_numeric(adv_stats['DVOA'].str.replace('%', '')) < -80]"
   ]
  },
  {
   "cell_type": "markdown",
   "metadata": {},
   "source": [
    "#### VOA (Value Over Average)\n",
    "VOA follows the same distribution pattern as DVOA as expected (peak in the -20-0 bin), with slightly more spread, but with the same upper outliers as DVOA. However, in the lower outliers, in addition to Stanley Morgan, Donte Moncrief and Travis Benjamin also make an appearance, receivers with much larger names than Morgan. Brandon Lloyd is also not a lower outlier in this distribution."
   ]
  },
  {
   "cell_type": "code",
   "execution_count": 65,
   "metadata": {},
   "outputs": [
    {
     "data": {
      "image/png": "[encoded data removed]",
      "text/plain": [
       "<Figure size 612x396 with 1 Axes>"
      ]
     },
     "metadata": {},
     "output_type": "display_data"
    }
   ],
   "source": [
    "eda_viz_pre.voa_distribution(savefig = True)"
   ]
  },
  {
   "cell_type": "code",
   "execution_count": 66,
   "metadata": {},
   "outputs": [
    {
     "data": {
      "text/html": [
       "<div>\n",
       "<style scoped>\n",
       "    .dataframe tbody tr th:only-of-type {\n",
       "        vertical-align: middle;\n",
       "    }\n",
       "\n",
       "    .dataframe tbody tr th {\n",
       "        vertical-align: top;\n",
       "    }\n",
       "\n",
       "    .dataframe thead th {\n",
       "        text-align: right;\n",
       "    }\n",
       "</style>\n",
       "<table border=\"1\" class=\"dataframe\">\n",
       "  <thead>\n",
       "    <tr style=\"text-align: right;\">\n",
       "      <th></th>\n",
       "      <th>Player</th>\n",
       "      <th>Team</th>\n",
       "      <th>DYAR</th>\n",
       "      <th>YAR</th>\n",
       "      <th>DVOA</th>\n",
       "      <th>VOA</th>\n",
       "      <th>EYds</th>\n",
       "      <th>DPI</th>\n",
       "      <th>YEAR</th>\n",
       "    </tr>\n",
       "  </thead>\n",
       "  <tbody>\n",
       "    <tr>\n",
       "      <td>372</td>\n",
       "      <td>G.Camarillo</td>\n",
       "      <td>MIA</td>\n",
       "      <td>72</td>\n",
       "      <td>76</td>\n",
       "      <td>81.6%</td>\n",
       "      <td>86.9%</td>\n",
       "      <td>168</td>\n",
       "      <td>0/0</td>\n",
       "      <td>2007</td>\n",
       "    </tr>\n",
       "    <tr>\n",
       "      <td>798</td>\n",
       "      <td>K.Washington</td>\n",
       "      <td>SD</td>\n",
       "      <td>96</td>\n",
       "      <td>97</td>\n",
       "      <td>80.7%</td>\n",
       "      <td>81.4%</td>\n",
       "      <td>226</td>\n",
       "      <td>0/0</td>\n",
       "      <td>2010</td>\n",
       "    </tr>\n",
       "    <tr>\n",
       "      <td>2197</td>\n",
       "      <td>M.Hall</td>\n",
       "      <td>DET</td>\n",
       "      <td>98</td>\n",
       "      <td>101</td>\n",
       "      <td>108.2%</td>\n",
       "      <td>112.1%</td>\n",
       "      <td>211</td>\n",
       "      <td>0/0</td>\n",
       "      <td>2019</td>\n",
       "    </tr>\n",
       "  </tbody>\n",
       "</table>\n",
       "</div>"
      ],
      "text/plain": [
       "            Player Team  DYAR  YAR    DVOA     VOA  EYds  DPI  YEAR\n",
       "372    G.Camarillo  MIA    72   76   81.6%   86.9%   168  0/0  2007\n",
       "798   K.Washington   SD    96   97   80.7%   81.4%   226  0/0  2010\n",
       "2197        M.Hall  DET    98  101  108.2%  112.1%   211  0/0  2019"
      ]
     },
     "execution_count": 66,
     "metadata": {},
     "output_type": "execute_result"
    }
   ],
   "source": [
    "adv_stats[pd.to_numeric(adv_stats['VOA'].str.replace('%', '')) >= 80]"
   ]
  },
  {
   "cell_type": "code",
   "execution_count": 67,
   "metadata": {},
   "outputs": [
    {
     "data": {
      "text/html": [
       "<div>\n",
       "<style scoped>\n",
       "    .dataframe tbody tr th:only-of-type {\n",
       "        vertical-align: middle;\n",
       "    }\n",
       "\n",
       "    .dataframe tbody tr th {\n",
       "        vertical-align: top;\n",
       "    }\n",
       "\n",
       "    .dataframe thead th {\n",
       "        text-align: right;\n",
       "    }\n",
       "</style>\n",
       "<table border=\"1\" class=\"dataframe\">\n",
       "  <thead>\n",
       "    <tr style=\"text-align: right;\">\n",
       "      <th></th>\n",
       "      <th>Player</th>\n",
       "      <th>Team</th>\n",
       "      <th>DYAR</th>\n",
       "      <th>YAR</th>\n",
       "      <th>DVOA</th>\n",
       "      <th>VOA</th>\n",
       "      <th>EYds</th>\n",
       "      <th>DPI</th>\n",
       "      <th>YEAR</th>\n",
       "    </tr>\n",
       "  </thead>\n",
       "  <tbody>\n",
       "    <tr>\n",
       "      <td>2268</td>\n",
       "      <td>S.Morgan</td>\n",
       "      <td>CIN</td>\n",
       "      <td>-53</td>\n",
       "      <td>-55</td>\n",
       "      <td>-82.5%</td>\n",
       "      <td>-86.1%</td>\n",
       "      <td>-16</td>\n",
       "      <td>0/0</td>\n",
       "      <td>2019</td>\n",
       "    </tr>\n",
       "    <tr>\n",
       "      <td>2270</td>\n",
       "      <td>D.Moncrief</td>\n",
       "      <td>PIT</td>\n",
       "      <td>-71</td>\n",
       "      <td>-89</td>\n",
       "      <td>-76.3%</td>\n",
       "      <td>-91.9%</td>\n",
       "      <td>-14</td>\n",
       "      <td>0/0</td>\n",
       "      <td>2019</td>\n",
       "    </tr>\n",
       "    <tr>\n",
       "      <td>2272</td>\n",
       "      <td>T.Benjamin</td>\n",
       "      <td>LAC</td>\n",
       "      <td>-84</td>\n",
       "      <td>-87</td>\n",
       "      <td>-78.9%</td>\n",
       "      <td>-81.5%</td>\n",
       "      <td>-21</td>\n",
       "      <td>0/0</td>\n",
       "      <td>2019</td>\n",
       "    </tr>\n",
       "  </tbody>\n",
       "</table>\n",
       "</div>"
      ],
      "text/plain": [
       "          Player Team  DYAR  YAR    DVOA     VOA  EYds  DPI  YEAR\n",
       "2268    S.Morgan  CIN   -53  -55  -82.5%  -86.1%   -16  0/0  2019\n",
       "2270  D.Moncrief  PIT   -71  -89  -76.3%  -91.9%   -14  0/0  2019\n",
       "2272  T.Benjamin  LAC   -84  -87  -78.9%  -81.5%   -21  0/0  2019"
      ]
     },
     "execution_count": 67,
     "metadata": {},
     "output_type": "execute_result"
    }
   ],
   "source": [
    "adv_stats[pd.to_numeric(adv_stats['VOA'].str.replace('%', '')) < -80]"
   ]
  },
  {
   "cell_type": "markdown",
   "metadata": {},
   "source": [
    "#### Effective Yards\n",
    "EYds has an inverse distribution (peak in the 0-250 bin), with a very small amount of negative entries. In terms of outliers on the high end, elite receivers Antonio Brown and Calvin Johnson make an appearance."
   ]
  },
  {
   "cell_type": "code",
   "execution_count": 68,
   "metadata": {},
   "outputs": [
    {
     "data": {
      "image/png": "[encoded data removed]",
      "text/plain": [
       "<Figure size 612x396 with 1 Axes>"
      ]
     },
     "metadata": {},
     "output_type": "display_data"
    }
   ],
   "source": [
    "eda_viz_pre.eyds_distribution(savefig = True)"
   ]
  },
  {
   "cell_type": "code",
   "execution_count": 69,
   "metadata": {},
   "outputs": [
    {
     "data": {
      "text/html": [
       "<div>\n",
       "<style scoped>\n",
       "    .dataframe tbody tr th:only-of-type {\n",
       "        vertical-align: middle;\n",
       "    }\n",
       "\n",
       "    .dataframe tbody tr th {\n",
       "        vertical-align: top;\n",
       "    }\n",
       "\n",
       "    .dataframe thead th {\n",
       "        text-align: right;\n",
       "    }\n",
       "</style>\n",
       "<table border=\"1\" class=\"dataframe\">\n",
       "  <thead>\n",
       "    <tr style=\"text-align: right;\">\n",
       "      <th></th>\n",
       "      <th>Player</th>\n",
       "      <th>Team</th>\n",
       "      <th>DYAR</th>\n",
       "      <th>YAR</th>\n",
       "      <th>DVOA</th>\n",
       "      <th>VOA</th>\n",
       "      <th>EYds</th>\n",
       "      <th>DPI</th>\n",
       "      <th>YEAR</th>\n",
       "    </tr>\n",
       "  </thead>\n",
       "  <tbody>\n",
       "    <tr>\n",
       "      <td>1003</td>\n",
       "      <td>C.Johnson</td>\n",
       "      <td>DET</td>\n",
       "      <td>451</td>\n",
       "      <td>437</td>\n",
       "      <td>14.7%</td>\n",
       "      <td>13.8%</td>\n",
       "      <td>2008</td>\n",
       "      <td>5/102</td>\n",
       "      <td>2012</td>\n",
       "    </tr>\n",
       "    <tr>\n",
       "      <td>1470</td>\n",
       "      <td>A.Brown</td>\n",
       "      <td>PIT</td>\n",
       "      <td>517</td>\n",
       "      <td>490</td>\n",
       "      <td>19.7%</td>\n",
       "      <td>18.0%</td>\n",
       "      <td>2061</td>\n",
       "      <td>7/196</td>\n",
       "      <td>2015</td>\n",
       "    </tr>\n",
       "  </tbody>\n",
       "</table>\n",
       "</div>"
      ],
      "text/plain": [
       "         Player Team  DYAR  YAR   DVOA    VOA  EYds    DPI  YEAR\n",
       "1003  C.Johnson  DET   451  437  14.7%  13.8%  2008  5/102  2012\n",
       "1470    A.Brown  PIT   517  490  19.7%  18.0%  2061  7/196  2015"
      ]
     },
     "execution_count": 69,
     "metadata": {},
     "output_type": "execute_result"
    }
   ],
   "source": [
    "adv_stats[adv_stats['EYds'] >= 2000]"
   ]
  },
  {
   "cell_type": "code",
   "execution_count": 70,
   "metadata": {},
   "outputs": [
    {
     "data": {
      "text/html": [
       "<div>\n",
       "<style scoped>\n",
       "    .dataframe tbody tr th:only-of-type {\n",
       "        vertical-align: middle;\n",
       "    }\n",
       "\n",
       "    .dataframe tbody tr th {\n",
       "        vertical-align: top;\n",
       "    }\n",
       "\n",
       "    .dataframe thead th {\n",
       "        text-align: right;\n",
       "    }\n",
       "</style>\n",
       "<table border=\"1\" class=\"dataframe\">\n",
       "  <thead>\n",
       "    <tr style=\"text-align: right;\">\n",
       "      <th></th>\n",
       "      <th>Player</th>\n",
       "      <th>Team</th>\n",
       "      <th>DYAR</th>\n",
       "      <th>YAR</th>\n",
       "      <th>DVOA</th>\n",
       "      <th>VOA</th>\n",
       "      <th>EYds</th>\n",
       "      <th>DPI</th>\n",
       "      <th>YEAR</th>\n",
       "    </tr>\n",
       "  </thead>\n",
       "  <tbody>\n",
       "    <tr>\n",
       "      <td>423</td>\n",
       "      <td>B.Lloyd</td>\n",
       "      <td>WAS</td>\n",
       "      <td>-59</td>\n",
       "      <td>-54</td>\n",
       "      <td>-85.6%</td>\n",
       "      <td>-79.3%</td>\n",
       "      <td>-21</td>\n",
       "      <td>0/0</td>\n",
       "      <td>2007</td>\n",
       "    </tr>\n",
       "    <tr>\n",
       "      <td>989</td>\n",
       "      <td>C.Hall</td>\n",
       "      <td>PHI</td>\n",
       "      <td>-40</td>\n",
       "      <td>-36</td>\n",
       "      <td>-70.0%</td>\n",
       "      <td>-64.4%</td>\n",
       "      <td>-2</td>\n",
       "      <td>0/0</td>\n",
       "      <td>2011</td>\n",
       "    </tr>\n",
       "    <tr>\n",
       "      <td>994</td>\n",
       "      <td>C.Gates</td>\n",
       "      <td>MIA</td>\n",
       "      <td>-55</td>\n",
       "      <td>-57</td>\n",
       "      <td>-74.8%</td>\n",
       "      <td>-77.8%</td>\n",
       "      <td>-9</td>\n",
       "      <td>0/0</td>\n",
       "      <td>2011</td>\n",
       "    </tr>\n",
       "    <tr>\n",
       "      <td>1463</td>\n",
       "      <td>D.Archer</td>\n",
       "      <td>PIT</td>\n",
       "      <td>-45</td>\n",
       "      <td>-47</td>\n",
       "      <td>-74.0%</td>\n",
       "      <td>-75.8%</td>\n",
       "      <td>-7</td>\n",
       "      <td>0/0</td>\n",
       "      <td>2014</td>\n",
       "    </tr>\n",
       "    <tr>\n",
       "      <td>1469</td>\n",
       "      <td>D.Nelson</td>\n",
       "      <td>NYJ</td>\n",
       "      <td>-76</td>\n",
       "      <td>-71</td>\n",
       "      <td>-74.4%</td>\n",
       "      <td>-70.8%</td>\n",
       "      <td>-12</td>\n",
       "      <td>0/0</td>\n",
       "      <td>2014</td>\n",
       "    </tr>\n",
       "    <tr>\n",
       "      <td>1945</td>\n",
       "      <td>T.Austin</td>\n",
       "      <td>LARM</td>\n",
       "      <td>-99</td>\n",
       "      <td>-98</td>\n",
       "      <td>-68.2%</td>\n",
       "      <td>-67.9%</td>\n",
       "      <td>-1</td>\n",
       "      <td>0/0</td>\n",
       "      <td>2017</td>\n",
       "    </tr>\n",
       "    <tr>\n",
       "      <td>1947</td>\n",
       "      <td>B.Perriman</td>\n",
       "      <td>BAL</td>\n",
       "      <td>-158</td>\n",
       "      <td>-150</td>\n",
       "      <td>-71.8%</td>\n",
       "      <td>-68.6%</td>\n",
       "      <td>-16</td>\n",
       "      <td>0/0</td>\n",
       "      <td>2017</td>\n",
       "    </tr>\n",
       "    <tr>\n",
       "      <td>2268</td>\n",
       "      <td>S.Morgan</td>\n",
       "      <td>CIN</td>\n",
       "      <td>-53</td>\n",
       "      <td>-55</td>\n",
       "      <td>-82.5%</td>\n",
       "      <td>-86.1%</td>\n",
       "      <td>-16</td>\n",
       "      <td>0/0</td>\n",
       "      <td>2019</td>\n",
       "    </tr>\n",
       "    <tr>\n",
       "      <td>2270</td>\n",
       "      <td>D.Moncrief</td>\n",
       "      <td>PIT</td>\n",
       "      <td>-71</td>\n",
       "      <td>-89</td>\n",
       "      <td>-76.3%</td>\n",
       "      <td>-91.9%</td>\n",
       "      <td>-14</td>\n",
       "      <td>0/0</td>\n",
       "      <td>2019</td>\n",
       "    </tr>\n",
       "    <tr>\n",
       "      <td>2272</td>\n",
       "      <td>T.Benjamin</td>\n",
       "      <td>LAC</td>\n",
       "      <td>-84</td>\n",
       "      <td>-87</td>\n",
       "      <td>-78.9%</td>\n",
       "      <td>-81.5%</td>\n",
       "      <td>-21</td>\n",
       "      <td>0/0</td>\n",
       "      <td>2019</td>\n",
       "    </tr>\n",
       "    <tr>\n",
       "      <td>2274</td>\n",
       "      <td>P.Campbell</td>\n",
       "      <td>IND</td>\n",
       "      <td>-104</td>\n",
       "      <td>-88</td>\n",
       "      <td>-73.4%</td>\n",
       "      <td>-64.4%</td>\n",
       "      <td>-14</td>\n",
       "      <td>0/0</td>\n",
       "      <td>2019</td>\n",
       "    </tr>\n",
       "  </tbody>\n",
       "</table>\n",
       "</div>"
      ],
      "text/plain": [
       "          Player  Team  DYAR  YAR    DVOA     VOA  EYds  DPI  YEAR\n",
       "423      B.Lloyd   WAS   -59  -54  -85.6%  -79.3%   -21  0/0  2007\n",
       "989       C.Hall   PHI   -40  -36  -70.0%  -64.4%    -2  0/0  2011\n",
       "994      C.Gates   MIA   -55  -57  -74.8%  -77.8%    -9  0/0  2011\n",
       "1463    D.Archer   PIT   -45  -47  -74.0%  -75.8%    -7  0/0  2014\n",
       "1469    D.Nelson   NYJ   -76  -71  -74.4%  -70.8%   -12  0/0  2014\n",
       "1945    T.Austin  LARM   -99  -98  -68.2%  -67.9%    -1  0/0  2017\n",
       "1947  B.Perriman   BAL  -158 -150  -71.8%  -68.6%   -16  0/0  2017\n",
       "2268    S.Morgan   CIN   -53  -55  -82.5%  -86.1%   -16  0/0  2019\n",
       "2270  D.Moncrief   PIT   -71  -89  -76.3%  -91.9%   -14  0/0  2019\n",
       "2272  T.Benjamin   LAC   -84  -87  -78.9%  -81.5%   -21  0/0  2019\n",
       "2274  P.Campbell   IND  -104  -88  -73.4%  -64.4%   -14  0/0  2019"
      ]
     },
     "execution_count": 70,
     "metadata": {},
     "output_type": "execute_result"
    }
   ],
   "source": [
    "adv_stats[adv_stats['EYds'] < 0]"
   ]
  }
 ],
 "metadata": {
  "kernelspec": {
   "display_name": "Python 3",
   "language": "python",
   "name": "python3"
  },
  "language_info": {
   "codemirror_mode": {
    "name": "ipython",
    "version": 3
   },
   "file_extension": ".py",
   "mimetype": "text/x-python",
   "name": "python",
   "nbconvert_exporter": "python",
   "pygments_lexer": "ipython3",
   "version": "3.7.4"
  }
 },
 "nbformat": 4,
 "nbformat_minor": 2
}
