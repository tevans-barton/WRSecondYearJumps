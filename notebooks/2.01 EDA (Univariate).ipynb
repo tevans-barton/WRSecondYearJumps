{
 "cells": [
  {
   "cell_type": "markdown",
   "metadata": {},
   "source": [
    "<div style=\"text-align: right\"> Tommy Evans-Barton </div>\n",
    "<div style=\"text-align: right\"> WR Year 2 Jumps </div>\n",
    "\n",
    "# EDA of Wide Receiver Data (Univariate)\n",
    "\n",
    "The purpose of this notebook is to do a technical analysis of the **raw** data that will be used in the main report, along with some justifications for future cleaning approaches. Most of this work will be academic and mainly to perform due diligence, and only useful for deeper dives into the work of this project. Data courtesy of Pro Football Reference and Football Outsiders."
   ]
  },
  {
   "cell_type": "code",
   "execution_count": 1,
   "metadata": {},
   "outputs": [],
   "source": [
    "import os\n",
    "import sys\n",
    "import pandas as pd\n",
    "import numpy as np\n",
    "import json\n",
    "import matplotlib.pyplot as plt"
   ]
  },
  {
   "cell_type": "code",
   "execution_count": 2,
   "metadata": {},
   "outputs": [],
   "source": [
    "%load_ext autoreload\n",
    "%autoreload 2"
   ]
  },
  {
   "cell_type": "code",
   "execution_count": 3,
   "metadata": {},
   "outputs": [],
   "source": [
    "TOP_PATH = os.environ['PWD']"
   ]
  },
  {
   "cell_type": "code",
   "execution_count": 4,
   "metadata": {},
   "outputs": [],
   "source": [
    "sys.path.append(TOP_PATH + '/src')\n",
    "sys.path.append(TOP_PATH + '/src/viz')"
   ]
  },
  {
   "cell_type": "code",
   "execution_count": 5,
   "metadata": {},
   "outputs": [],
   "source": [
    "import eda_viz"
   ]
  },
  {
   "cell_type": "code",
   "execution_count": 78,
   "metadata": {},
   "outputs": [],
   "source": [
    "receivers = pd.read_csv(TOP_PATH + '/data/raw/RECEIVERS.csv')\n",
    "rec_stats = pd.read_csv(TOP_PATH + '/data/raw/REC_STATS.csv')\n",
    "adv_stats = pd.read_csv(TOP_PATH + '/data/raw/ADV_REC_STATS.csv')"
   ]
  },
  {
   "cell_type": "markdown",
   "metadata": {},
   "source": [
    "## Receivers Drafted Data\n",
    "This data is being used in order to isolate the receivers drafted in the first three rounds from 2010 to 2019, as well as identify which years are their first and second in the league."
   ]
  },
  {
   "cell_type": "code",
   "execution_count": 7,
   "metadata": {
    "scrolled": true
   },
   "outputs": [
    {
     "data": {
      "text/html": [
       "<div>\n",
       "<style scoped>\n",
       "    .dataframe tbody tr th:only-of-type {\n",
       "        vertical-align: middle;\n",
       "    }\n",
       "\n",
       "    .dataframe tbody tr th {\n",
       "        vertical-align: top;\n",
       "    }\n",
       "\n",
       "    .dataframe thead th {\n",
       "        text-align: right;\n",
       "    }\n",
       "</style>\n",
       "<table border=\"1\" class=\"dataframe\">\n",
       "  <thead>\n",
       "    <tr style=\"text-align: right;\">\n",
       "      <th></th>\n",
       "      <th>Rnd</th>\n",
       "      <th>Pick</th>\n",
       "      <th>Tm</th>\n",
       "      <th>Player</th>\n",
       "      <th>Pos</th>\n",
       "      <th>Age</th>\n",
       "      <th>YEAR</th>\n",
       "    </tr>\n",
       "  </thead>\n",
       "  <tbody>\n",
       "    <tr>\n",
       "      <td>0</td>\n",
       "      <td>1</td>\n",
       "      <td>22</td>\n",
       "      <td>DEN</td>\n",
       "      <td>Demaryius Thomas</td>\n",
       "      <td>WR</td>\n",
       "      <td>22</td>\n",
       "      <td>2010</td>\n",
       "    </tr>\n",
       "    <tr>\n",
       "      <td>1</td>\n",
       "      <td>1</td>\n",
       "      <td>24</td>\n",
       "      <td>DAL</td>\n",
       "      <td>Dez Bryant</td>\n",
       "      <td>WR</td>\n",
       "      <td>21</td>\n",
       "      <td>2010</td>\n",
       "    </tr>\n",
       "    <tr>\n",
       "      <td>2</td>\n",
       "      <td>2</td>\n",
       "      <td>36</td>\n",
       "      <td>KAN</td>\n",
       "      <td>Dexter McCluster</td>\n",
       "      <td>WR</td>\n",
       "      <td>21</td>\n",
       "      <td>2010</td>\n",
       "    </tr>\n",
       "    <tr>\n",
       "      <td>3</td>\n",
       "      <td>2</td>\n",
       "      <td>39</td>\n",
       "      <td>TAM</td>\n",
       "      <td>Arrelious Benn</td>\n",
       "      <td>WR</td>\n",
       "      <td>21</td>\n",
       "      <td>2010</td>\n",
       "    </tr>\n",
       "    <tr>\n",
       "      <td>4</td>\n",
       "      <td>2</td>\n",
       "      <td>60</td>\n",
       "      <td>SEA</td>\n",
       "      <td>Golden Tate</td>\n",
       "      <td>WR</td>\n",
       "      <td>22</td>\n",
       "      <td>2010</td>\n",
       "    </tr>\n",
       "  </tbody>\n",
       "</table>\n",
       "</div>"
      ],
      "text/plain": [
       "   Rnd  Pick   Tm            Player Pos  Age  YEAR\n",
       "0    1    22  DEN  Demaryius Thomas  WR   22  2010\n",
       "1    1    24  DAL        Dez Bryant  WR   21  2010\n",
       "2    2    36  KAN  Dexter McCluster  WR   21  2010\n",
       "3    2    39  TAM    Arrelious Benn  WR   21  2010\n",
       "4    2    60  SEA       Golden Tate  WR   22  2010"
      ]
     },
     "execution_count": 7,
     "metadata": {},
     "output_type": "execute_result"
    }
   ],
   "source": [
    "receivers.head()"
   ]
  },
  {
   "cell_type": "markdown",
   "metadata": {},
   "source": [
    "### Feature Types\n",
    "Initially, it seems that the typing of the receivers data is fairly reasonable, as all numeric data are integers and all other data are strings."
   ]
  },
  {
   "cell_type": "code",
   "execution_count": 8,
   "metadata": {
    "scrolled": false
   },
   "outputs": [
    {
     "data": {
      "text/plain": [
       "Rnd        int64\n",
       "Pick       int64\n",
       "Tm        object\n",
       "Player    object\n",
       "Pos       object\n",
       "Age        int64\n",
       "YEAR       int64\n",
       "dtype: object"
      ]
     },
     "execution_count": 8,
     "metadata": {},
     "output_type": "execute_result"
    }
   ],
   "source": [
    "receivers.dtypes"
   ]
  },
  {
   "cell_type": "markdown",
   "metadata": {},
   "source": [
    "### Missingness\n",
    "There seem to be no missing entries for this dataset, which is in line with initial assumptions."
   ]
  },
  {
   "cell_type": "code",
   "execution_count": 9,
   "metadata": {
    "scrolled": true
   },
   "outputs": [
    {
     "data": {
      "text/plain": [
       "Rnd       0.0\n",
       "Pick      0.0\n",
       "Tm        0.0\n",
       "Player    0.0\n",
       "Pos       0.0\n",
       "Age       0.0\n",
       "YEAR      0.0\n",
       "dtype: float64"
      ]
     },
     "execution_count": 9,
     "metadata": {},
     "output_type": "execute_result"
    }
   ],
   "source": [
    "receivers.isnull().mean()"
   ]
  },
  {
   "cell_type": "markdown",
   "metadata": {},
   "source": [
    "### Categoric Features"
   ]
  },
  {
   "cell_type": "markdown",
   "metadata": {},
   "source": [
    "#### Team\n",
    "\n",
    "This data seems to use a fairly standard 3 letter encoding of the teams, with all teams accounted for, including former franchises the St. Louis Rams and the San Diego Chargers, who will probably be combined into their L.A. counterparts."
   ]
  },
  {
   "cell_type": "code",
   "execution_count": 10,
   "metadata": {},
   "outputs": [
    {
     "data": {
      "text/plain": [
       "34"
      ]
     },
     "execution_count": 10,
     "metadata": {},
     "output_type": "execute_result"
    }
   ],
   "source": [
    "receivers['Tm'].nunique()"
   ]
  },
  {
   "cell_type": "code",
   "execution_count": 11,
   "metadata": {},
   "outputs": [
    {
     "data": {
      "text/plain": [
       "PIT    7\n",
       "TEN    7\n",
       "ARI    6\n",
       "DEN    5\n",
       "BUF    5\n",
       "HOU    5\n",
       "CAR    5\n",
       "SEA    5\n",
       "CIN    5\n",
       "PHI    4\n",
       "SFO    4\n",
       "STL    4\n",
       "JAX    4\n",
       "IND    4\n",
       "NYG    4\n",
       "KAN    4\n",
       "BAL    4\n",
       "TAM    3\n",
       "DAL    3\n",
       "CHI    3\n",
       "NOR    3\n",
       "WAS    3\n",
       "GNB    3\n",
       "NWE    3\n",
       "DET    3\n",
       "MIA    3\n",
       "NYJ    3\n",
       "ATL    2\n",
       "SDG    2\n",
       "MIN    2\n",
       "CLE    2\n",
       "LAR    1\n",
       "LAC    1\n",
       "OAK    1\n",
       "Name: Tm, dtype: int64"
      ]
     },
     "execution_count": 11,
     "metadata": {},
     "output_type": "execute_result"
    }
   ],
   "source": [
    "receivers['Tm'].value_counts()"
   ]
  },
  {
   "cell_type": "markdown",
   "metadata": {},
   "source": [
    "### Distribution of Numeric Features"
   ]
  },
  {
   "cell_type": "markdown",
   "metadata": {},
   "source": [
    "#### Rounds\n",
    "Over the three rounds, the number of receivers selected increases by round. However, there are more picks in the third round, due to compensatory selections, which will also affect the distribution of receivers by pick in the chart that follows this one."
   ]
  },
  {
   "cell_type": "code",
   "execution_count": 12,
   "metadata": {
    "scrolled": false
   },
   "outputs": [
    {
     "data": {
      "image/png": "[encoded data removed]",
      "text/plain": [
       "<Figure size 612x396 with 1 Axes>"
      ]
     },
     "metadata": {},
     "output_type": "display_data"
    }
   ],
   "source": [
    "eda_viz.round_distribution(savefig = True)"
   ]
  },
  {
   "cell_type": "markdown",
   "metadata": {},
   "source": [
    "#### Picks\n",
    "In terms of the distribution of receivers drafted by 10 picks, there is an odd dip in the middle of each round, i.e. around the 11th to 20th pick of each round with spikes at the beginning and end of rounds. However, while interesting in it's own right, this will not be have an effect on this analysis."
   ]
  },
  {
   "cell_type": "code",
   "execution_count": 13,
   "metadata": {},
   "outputs": [
    {
     "data": {
      "image/png": "[encoded data removed]",
      "text/plain": [
       "<Figure size 612x396 with 1 Axes>"
      ]
     },
     "metadata": {},
     "output_type": "display_data"
    }
   ],
   "source": [
    "eda_viz.pick_distribution(savefig = True)"
   ]
  },
  {
   "cell_type": "markdown",
   "metadata": {},
   "source": [
    "#### Age\n",
    "The distribution of the ages of the players is as expected: a fairly normal distribution with a peak at 22 years old, a fairly standard age to be finishing college at."
   ]
  },
  {
   "cell_type": "code",
   "execution_count": 14,
   "metadata": {},
   "outputs": [
    {
     "data": {
      "image/png": "[encoded data removed]",
      "text/plain": [
       "<Figure size 612x396 with 1 Axes>"
      ]
     },
     "metadata": {},
     "output_type": "display_data"
    }
   ],
   "source": [
    "eda_viz.age_distribution(savefig = True)"
   ]
  },
  {
   "cell_type": "markdown",
   "metadata": {},
   "source": [
    "## Receiver Stats Data\n",
    "These fairly standard statistics (courtesy of Pro Football Reference) for receivers will be used for the projections of second year jumps. They will need to be trimmed down to only the rookie and second year players for each year. (*Note:* a Glossary of this dataset's features is available in the reference section)"
   ]
  },
  {
   "cell_type": "code",
   "execution_count": 75,
   "metadata": {},
   "outputs": [
    {
     "data": {
      "text/html": [
       "<div>\n",
       "<style scoped>\n",
       "    .dataframe tbody tr th:only-of-type {\n",
       "        vertical-align: middle;\n",
       "    }\n",
       "\n",
       "    .dataframe tbody tr th {\n",
       "        vertical-align: top;\n",
       "    }\n",
       "\n",
       "    .dataframe thead th {\n",
       "        text-align: right;\n",
       "    }\n",
       "</style>\n",
       "<table border=\"1\" class=\"dataframe\">\n",
       "  <thead>\n",
       "    <tr style=\"text-align: right;\">\n",
       "      <th></th>\n",
       "      <th>Player</th>\n",
       "      <th>Tm</th>\n",
       "      <th>Age</th>\n",
       "      <th>Pos</th>\n",
       "      <th>G</th>\n",
       "      <th>GS</th>\n",
       "      <th>Tgt</th>\n",
       "      <th>Rec</th>\n",
       "      <th>Ctch%</th>\n",
       "      <th>Yds</th>\n",
       "      <th>Y/R</th>\n",
       "      <th>TD</th>\n",
       "      <th>1D</th>\n",
       "      <th>Lng</th>\n",
       "      <th>Y/Tgt</th>\n",
       "      <th>R/G</th>\n",
       "      <th>Y/G</th>\n",
       "      <th>Fmb</th>\n",
       "      <th>YEAR</th>\n",
       "    </tr>\n",
       "  </thead>\n",
       "  <tbody>\n",
       "    <tr>\n",
       "      <td>0</td>\n",
       "      <td>Roddy White*+</td>\n",
       "      <td>ATL</td>\n",
       "      <td>29</td>\n",
       "      <td>WR</td>\n",
       "      <td>16</td>\n",
       "      <td>16</td>\n",
       "      <td>179</td>\n",
       "      <td>115</td>\n",
       "      <td>64.2%</td>\n",
       "      <td>1389</td>\n",
       "      <td>12.1</td>\n",
       "      <td>10</td>\n",
       "      <td>73</td>\n",
       "      <td>46</td>\n",
       "      <td>7.8</td>\n",
       "      <td>7.2</td>\n",
       "      <td>86.8</td>\n",
       "      <td>1</td>\n",
       "      <td>2010</td>\n",
       "    </tr>\n",
       "    <tr>\n",
       "      <td>1</td>\n",
       "      <td>Reggie Wayne*+</td>\n",
       "      <td>IND</td>\n",
       "      <td>32</td>\n",
       "      <td>WR</td>\n",
       "      <td>16</td>\n",
       "      <td>16</td>\n",
       "      <td>175</td>\n",
       "      <td>111</td>\n",
       "      <td>63.4%</td>\n",
       "      <td>1355</td>\n",
       "      <td>12.2</td>\n",
       "      <td>6</td>\n",
       "      <td>72</td>\n",
       "      <td>50</td>\n",
       "      <td>7.7</td>\n",
       "      <td>6.9</td>\n",
       "      <td>84.7</td>\n",
       "      <td>1</td>\n",
       "      <td>2010</td>\n",
       "    </tr>\n",
       "    <tr>\n",
       "      <td>2</td>\n",
       "      <td>Santana Moss</td>\n",
       "      <td>WAS</td>\n",
       "      <td>31</td>\n",
       "      <td>WR</td>\n",
       "      <td>16</td>\n",
       "      <td>16</td>\n",
       "      <td>145</td>\n",
       "      <td>93</td>\n",
       "      <td>64.1%</td>\n",
       "      <td>1115</td>\n",
       "      <td>12.0</td>\n",
       "      <td>6</td>\n",
       "      <td>61</td>\n",
       "      <td>56</td>\n",
       "      <td>7.7</td>\n",
       "      <td>5.8</td>\n",
       "      <td>69.7</td>\n",
       "      <td>3</td>\n",
       "      <td>2010</td>\n",
       "    </tr>\n",
       "    <tr>\n",
       "      <td>3</td>\n",
       "      <td>Larry Fitzgerald*</td>\n",
       "      <td>ARI</td>\n",
       "      <td>27</td>\n",
       "      <td>WR</td>\n",
       "      <td>16</td>\n",
       "      <td>15</td>\n",
       "      <td>173</td>\n",
       "      <td>90</td>\n",
       "      <td>52.0%</td>\n",
       "      <td>1137</td>\n",
       "      <td>12.6</td>\n",
       "      <td>6</td>\n",
       "      <td>58</td>\n",
       "      <td>41</td>\n",
       "      <td>6.6</td>\n",
       "      <td>5.6</td>\n",
       "      <td>71.1</td>\n",
       "      <td>0</td>\n",
       "      <td>2010</td>\n",
       "    </tr>\n",
       "    <tr>\n",
       "      <td>4</td>\n",
       "      <td>Andre Johnson *</td>\n",
       "      <td>HOU</td>\n",
       "      <td>29</td>\n",
       "      <td>WR</td>\n",
       "      <td>13</td>\n",
       "      <td>13</td>\n",
       "      <td>138</td>\n",
       "      <td>86</td>\n",
       "      <td>62.3%</td>\n",
       "      <td>1216</td>\n",
       "      <td>14.1</td>\n",
       "      <td>8</td>\n",
       "      <td>59</td>\n",
       "      <td>60</td>\n",
       "      <td>8.8</td>\n",
       "      <td>6.6</td>\n",
       "      <td>93.5</td>\n",
       "      <td>1</td>\n",
       "      <td>2010</td>\n",
       "    </tr>\n",
       "  </tbody>\n",
       "</table>\n",
       "</div>"
      ],
      "text/plain": [
       "              Player   Tm  Age Pos   G  GS  Tgt  Rec  Ctch%   Yds   Y/R  TD  \\\n",
       "0      Roddy White*+  ATL   29  WR  16  16  179  115  64.2%  1389  12.1  10   \n",
       "1     Reggie Wayne*+  IND   32  WR  16  16  175  111  63.4%  1355  12.2   6   \n",
       "2       Santana Moss  WAS   31  WR  16  16  145   93  64.1%  1115  12.0   6   \n",
       "3  Larry Fitzgerald*  ARI   27  WR  16  15  173   90  52.0%  1137  12.6   6   \n",
       "4    Andre Johnson *  HOU   29  WR  13  13  138   86  62.3%  1216  14.1   8   \n",
       "\n",
       "   1D  Lng  Y/Tgt  R/G   Y/G  Fmb  YEAR  \n",
       "0  73   46    7.8  7.2  86.8    1  2010  \n",
       "1  72   50    7.7  6.9  84.7    1  2010  \n",
       "2  61   56    7.7  5.8  69.7    3  2010  \n",
       "3  58   41    6.6  5.6  71.1    0  2010  \n",
       "4  59   60    8.8  6.6  93.5    1  2010  "
      ]
     },
     "execution_count": 75,
     "metadata": {},
     "output_type": "execute_result"
    }
   ],
   "source": [
    "rec_stats.head()"
   ]
  },
  {
   "cell_type": "markdown",
   "metadata": {},
   "source": [
    "### Feature Types\n",
    "For the typing of our features, while the `Catch Percentage` column is a string and will need to be converted to a float, the rest of the features are in the correct format for analysis. Additionally, on viewing the `Player Name` column, there will need to be some slight cleaning of extra characters."
   ]
  },
  {
   "cell_type": "code",
   "execution_count": 79,
   "metadata": {},
   "outputs": [
    {
     "data": {
      "text/plain": [
       "Player     object\n",
       "Tm         object\n",
       "Age         int64\n",
       "Pos        object\n",
       "G           int64\n",
       "GS          int64\n",
       "Tgt       float64\n",
       "Rec         int64\n",
       "Ctch%      object\n",
       "Yds         int64\n",
       "Y/R       float64\n",
       "TD          int64\n",
       "1D          int64\n",
       "Lng         int64\n",
       "Y/Tgt     float64\n",
       "R/G       float64\n",
       "Y/G       float64\n",
       "Fmb         int64\n",
       "YEAR        int64\n",
       "dtype: object"
      ]
     },
     "execution_count": 79,
     "metadata": {},
     "output_type": "execute_result"
    }
   ],
   "source": [
    "rec_stats.dtypes"
   ]
  },
  {
   "cell_type": "markdown",
   "metadata": {},
   "source": [
    "### Missingness\n",
    "The only column that has a substantial amount of missing variables is the Position column, and since we will later be merging on a list of only receivers, it won't matter."
   ]
  },
  {
   "cell_type": "code",
   "execution_count": 83,
   "metadata": {
    "scrolled": true
   },
   "outputs": [
    {
     "data": {
      "text/plain": [
       "Player    0.000000\n",
       "Tm        0.000000\n",
       "Age       0.000000\n",
       "Pos       0.731476\n",
       "G         0.000000\n",
       "GS        0.000000\n",
       "Tgt       0.000889\n",
       "Rec       0.000000\n",
       "Ctch%     0.000000\n",
       "Yds       0.000000\n",
       "Y/R       0.000000\n",
       "TD        0.000000\n",
       "1D        0.000000\n",
       "Lng       0.000000\n",
       "Y/Tgt     0.000889\n",
       "R/G       0.000000\n",
       "Y/G       0.000000\n",
       "Fmb       0.000000\n",
       "YEAR      0.000000\n",
       "dtype: float64"
      ]
     },
     "execution_count": 83,
     "metadata": {},
     "output_type": "execute_result"
    }
   ],
   "source": [
    "rec_stats.isnull().mean()"
   ]
  },
  {
   "cell_type": "markdown",
   "metadata": {},
   "source": [
    "### Categorical Features"
   ]
  },
  {
   "cell_type": "markdown",
   "metadata": {},
   "source": [
    "#### Team\n",
    "This data seems to use a similar 3 character encoding of the teams as described previously. When the team encodings in this dataset are compared to the drafted receivers dataset, it can be seen that they are the same, and therefore won't need to be changed."
   ]
  },
  {
   "cell_type": "code",
   "execution_count": 18,
   "metadata": {},
   "outputs": [
    {
     "data": {
      "text/plain": [
       "34"
      ]
     },
     "execution_count": 18,
     "metadata": {},
     "output_type": "execute_result"
    }
   ],
   "source": [
    "rec_stats['Tm'].nunique()"
   ]
  },
  {
   "cell_type": "code",
   "execution_count": 19,
   "metadata": {},
   "outputs": [
    {
     "data": {
      "text/plain": [
       "NOR    33\n",
       "IND    32\n",
       "SEA    31\n",
       "GNB    31\n",
       "MIN    31\n",
       "KAN    30\n",
       "NYG    30\n",
       "DET    30\n",
       "PIT    30\n",
       "MIA    29\n",
       "NYJ    29\n",
       "CHI    29\n",
       "PHI    29\n",
       "JAX    29\n",
       "WAS    29\n",
       "BUF    28\n",
       "ARI    28\n",
       "CAR    28\n",
       "CIN    28\n",
       "TEN    27\n",
       "CLE    27\n",
       "DEN    27\n",
       "NWE    27\n",
       "HOU    27\n",
       "TAM    26\n",
       "SFO    26\n",
       "OAK    26\n",
       "BAL    24\n",
       "DAL    23\n",
       "ATL    23\n",
       "SDG    20\n",
       "STL    18\n",
       "LAR    14\n",
       "LAC     7\n",
       "Name: Tm, dtype: int64"
      ]
     },
     "execution_count": 19,
     "metadata": {},
     "output_type": "execute_result"
    }
   ],
   "source": [
    "rec_stats['Tm'].value_counts()"
   ]
  },
  {
   "cell_type": "code",
   "execution_count": 20,
   "metadata": {},
   "outputs": [
    {
     "data": {
      "text/plain": [
       "set()"
      ]
     },
     "execution_count": 20,
     "metadata": {},
     "output_type": "execute_result"
    }
   ],
   "source": [
    "set(receivers['Tm']) - set(rec_stats['Tm'])"
   ]
  },
  {
   "cell_type": "code",
   "execution_count": 21,
   "metadata": {},
   "outputs": [
    {
     "data": {
      "text/plain": [
       "set()"
      ]
     },
     "execution_count": 21,
     "metadata": {},
     "output_type": "execute_result"
    }
   ],
   "source": [
    "set(rec_stats['Tm']) - set(receivers['Tm'])"
   ]
  },
  {
   "cell_type": "markdown",
   "metadata": {},
   "source": [
    "#### Position\n",
    "Since every position in the receivers data is WR the nulls don't matter, and this column may just end up being dropped."
   ]
  },
  {
   "cell_type": "code",
   "execution_count": 84,
   "metadata": {},
   "outputs": [
    {
     "data": {
      "text/plain": [
       "NaN    2468\n",
       "WR      708\n",
       "wr      198\n",
       "Name: Pos, dtype: int64"
      ]
     },
     "execution_count": 84,
     "metadata": {},
     "output_type": "execute_result"
    }
   ],
   "source": [
    "rec_stats['Pos'].value_counts(dropna = False)"
   ]
  },
  {
   "cell_type": "markdown",
   "metadata": {},
   "source": [
    "### Distribution of Numeric Features"
   ]
  },
  {
   "cell_type": "markdown",
   "metadata": {},
   "source": [
    "#### Games\n",
    "Most players played in the majority of games, with none playing in 0-3 games, possibly due to an artifact of the source not recording information for those players who never played."
   ]
  },
  {
   "cell_type": "code",
   "execution_count": 23,
   "metadata": {},
   "outputs": [
    {
     "data": {
      "image/png": "[encoded data removed]",
      "text/plain": [
       "<Figure size 612x396 with 1 Axes>"
      ]
     },
     "metadata": {},
     "output_type": "display_data"
    }
   ],
   "source": [
    "eda_viz.game_distribution(savefig = True)"
   ]
  },
  {
   "cell_type": "markdown",
   "metadata": {},
   "source": [
    "#### Games Started\n",
    "Interestingly, while the Games feature is far more dense at the top of its range, the games started distribution seems to be a far more uniform distribution from 4 to 16. There is also an interesting outlier in the 0-1 bin, which upon further inspection is Colts receiver T.Y. Hilton. What is even more interesting is that despite only being credited with one start, he still put up 861 yards and 50 receptions. This high usage despite low start numbers may be due to the fact that Hilton mainly plays in the slot, which, while heavily used in the modern game, traditionally had not been viewed as a starting role until recently."
   ]
  },
  {
   "cell_type": "code",
   "execution_count": 24,
   "metadata": {
    "scrolled": false
   },
   "outputs": [
    {
     "data": {
      "image/png": "[encoded data removed]",
      "text/plain": [
       "<Figure size 612x396 with 1 Axes>"
      ]
     },
     "metadata": {},
     "output_type": "display_data"
    }
   ],
   "source": [
    "eda_viz.gs_distribution(savefig = True)"
   ]
  },
  {
   "cell_type": "code",
   "execution_count": 25,
   "metadata": {},
   "outputs": [
    {
     "data": {
      "text/html": [
       "<div>\n",
       "<style scoped>\n",
       "    .dataframe tbody tr th:only-of-type {\n",
       "        vertical-align: middle;\n",
       "    }\n",
       "\n",
       "    .dataframe tbody tr th {\n",
       "        vertical-align: top;\n",
       "    }\n",
       "\n",
       "    .dataframe thead th {\n",
       "        text-align: right;\n",
       "    }\n",
       "</style>\n",
       "<table border=\"1\" class=\"dataframe\">\n",
       "  <thead>\n",
       "    <tr style=\"text-align: right;\">\n",
       "      <th></th>\n",
       "      <th>Player</th>\n",
       "      <th>Tm</th>\n",
       "      <th>Age</th>\n",
       "      <th>Pos</th>\n",
       "      <th>G</th>\n",
       "      <th>GS</th>\n",
       "      <th>Tgt</th>\n",
       "      <th>Rec</th>\n",
       "      <th>Ctch%</th>\n",
       "      <th>Yds</th>\n",
       "      <th>Y/R</th>\n",
       "      <th>TD</th>\n",
       "      <th>1D</th>\n",
       "      <th>Lng</th>\n",
       "      <th>Y/Tgt</th>\n",
       "      <th>R/G</th>\n",
       "      <th>Y/G</th>\n",
       "      <th>Fmb</th>\n",
       "      <th>YEAR</th>\n",
       "    </tr>\n",
       "  </thead>\n",
       "  <tbody>\n",
       "    <tr>\n",
       "      <td>219</td>\n",
       "      <td>T.Y. Hilton</td>\n",
       "      <td>IND</td>\n",
       "      <td>23</td>\n",
       "      <td>wr</td>\n",
       "      <td>15</td>\n",
       "      <td>1</td>\n",
       "      <td>90</td>\n",
       "      <td>50</td>\n",
       "      <td>55.6%</td>\n",
       "      <td>861</td>\n",
       "      <td>17.2</td>\n",
       "      <td>7</td>\n",
       "      <td>30</td>\n",
       "      <td>61</td>\n",
       "      <td>9.6</td>\n",
       "      <td>3.3</td>\n",
       "      <td>57.4</td>\n",
       "      <td>1</td>\n",
       "      <td>2012</td>\n",
       "    </tr>\n",
       "  </tbody>\n",
       "</table>\n",
       "</div>"
      ],
      "text/plain": [
       "          Player   Tm  Age Pos   G  GS  Tgt  Rec  Ctch%  Yds   Y/R  TD  1D  \\\n",
       "219  T.Y. Hilton  IND   23  wr  15   1   90   50  55.6%  861  17.2   7  30   \n",
       "\n",
       "     Lng  Y/Tgt  R/G   Y/G  Fmb  YEAR  \n",
       "219   61    9.6  3.3  57.4    1  2012  "
      ]
     },
     "execution_count": 25,
     "metadata": {},
     "output_type": "execute_result"
    }
   ],
   "source": [
    "rec_stats[rec_stats['GS'] < 2]"
   ]
  },
  {
   "cell_type": "markdown",
   "metadata": {},
   "source": [
    "#### Targets\n",
    "Targets seems to be a fairly normal distribution with a right skew, which makes sense as the floor has a hard cap. This distribution has a peak at around 75, and also has a very large outlier in the 200 range. Upon further investigation, there are 2 receivers who have ever put up 200 receptions in a single season (Calvin Johnson and Julio Jones), both of whom put up historical seasons in these years."
   ]
  },
  {
   "cell_type": "code",
   "execution_count": 26,
   "metadata": {},
   "outputs": [
    {
     "data": {
      "image/png": "[encoded data removed]",
      "text/plain": [
       "<Figure size 612x396 with 1 Axes>"
      ]
     },
     "metadata": {},
     "output_type": "display_data"
    }
   ],
   "source": [
    "eda_viz.tgt_distribution(savefig = True)"
   ]
  },
  {
   "cell_type": "code",
   "execution_count": 27,
   "metadata": {},
   "outputs": [
    {
     "data": {
      "text/html": [
       "<div>\n",
       "<style scoped>\n",
       "    .dataframe tbody tr th:only-of-type {\n",
       "        vertical-align: middle;\n",
       "    }\n",
       "\n",
       "    .dataframe tbody tr th {\n",
       "        vertical-align: top;\n",
       "    }\n",
       "\n",
       "    .dataframe thead th {\n",
       "        text-align: right;\n",
       "    }\n",
       "</style>\n",
       "<table border=\"1\" class=\"dataframe\">\n",
       "  <thead>\n",
       "    <tr style=\"text-align: right;\">\n",
       "      <th></th>\n",
       "      <th>Player</th>\n",
       "      <th>Tm</th>\n",
       "      <th>Age</th>\n",
       "      <th>Pos</th>\n",
       "      <th>G</th>\n",
       "      <th>GS</th>\n",
       "      <th>Tgt</th>\n",
       "      <th>Rec</th>\n",
       "      <th>Ctch%</th>\n",
       "      <th>Yds</th>\n",
       "      <th>Y/R</th>\n",
       "      <th>TD</th>\n",
       "      <th>1D</th>\n",
       "      <th>Lng</th>\n",
       "      <th>Y/Tgt</th>\n",
       "      <th>R/G</th>\n",
       "      <th>Y/G</th>\n",
       "      <th>Fmb</th>\n",
       "      <th>YEAR</th>\n",
       "    </tr>\n",
       "  </thead>\n",
       "  <tbody>\n",
       "    <tr>\n",
       "      <td>172</td>\n",
       "      <td>Calvin Johnson *+</td>\n",
       "      <td>DET</td>\n",
       "      <td>27</td>\n",
       "      <td>WR</td>\n",
       "      <td>16</td>\n",
       "      <td>16</td>\n",
       "      <td>204</td>\n",
       "      <td>122</td>\n",
       "      <td>59.8%</td>\n",
       "      <td>1964</td>\n",
       "      <td>16.1</td>\n",
       "      <td>5</td>\n",
       "      <td>92</td>\n",
       "      <td>53</td>\n",
       "      <td>9.6</td>\n",
       "      <td>7.6</td>\n",
       "      <td>122.8</td>\n",
       "      <td>3</td>\n",
       "      <td>2012</td>\n",
       "    </tr>\n",
       "    <tr>\n",
       "      <td>436</td>\n",
       "      <td>Julio Jones *+</td>\n",
       "      <td>ATL</td>\n",
       "      <td>26</td>\n",
       "      <td>WR</td>\n",
       "      <td>16</td>\n",
       "      <td>16</td>\n",
       "      <td>203</td>\n",
       "      <td>136</td>\n",
       "      <td>67.0%</td>\n",
       "      <td>1871</td>\n",
       "      <td>13.8</td>\n",
       "      <td>8</td>\n",
       "      <td>93</td>\n",
       "      <td>70</td>\n",
       "      <td>9.2</td>\n",
       "      <td>8.5</td>\n",
       "      <td>116.9</td>\n",
       "      <td>3</td>\n",
       "      <td>2015</td>\n",
       "    </tr>\n",
       "  </tbody>\n",
       "</table>\n",
       "</div>"
      ],
      "text/plain": [
       "                Player   Tm  Age Pos   G  GS  Tgt  Rec  Ctch%   Yds   Y/R  TD  \\\n",
       "172  Calvin Johnson *+  DET   27  WR  16  16  204  122  59.8%  1964  16.1   5   \n",
       "436     Julio Jones *+  ATL   26  WR  16  16  203  136  67.0%  1871  13.8   8   \n",
       "\n",
       "     1D  Lng  Y/Tgt  R/G    Y/G  Fmb  YEAR  \n",
       "172  92   53    9.6  7.6  122.8    3  2012  \n",
       "436  93   70    9.2  8.5  116.9    3  2015  "
      ]
     },
     "execution_count": 27,
     "metadata": {},
     "output_type": "execute_result"
    }
   ],
   "source": [
    "rec_stats[rec_stats['Tgt'] >= 200]"
   ]
  },
  {
   "cell_type": "markdown",
   "metadata": {},
   "source": [
    "#### Receptions\n",
    "The Receptions distribution has a very similar shape to the Targets (with a peak around 50 receptions) which intuitively makes some sense. There is one rather large outlier, and upon inspection that is Michael Thomas, who broke the record for receptions in a season in 2019."
   ]
  },
  {
   "cell_type": "code",
   "execution_count": 28,
   "metadata": {},
   "outputs": [
    {
     "data": {
      "image/png": "[encoded data removed]",
      "text/plain": [
       "<Figure size 612x396 with 1 Axes>"
      ]
     },
     "metadata": {},
     "output_type": "display_data"
    }
   ],
   "source": [
    "eda_viz.rec_distribution(savefig = True)"
   ]
  },
  {
   "cell_type": "code",
   "execution_count": 29,
   "metadata": {},
   "outputs": [
    {
     "data": {
      "text/html": [
       "<div>\n",
       "<style scoped>\n",
       "    .dataframe tbody tr th:only-of-type {\n",
       "        vertical-align: middle;\n",
       "    }\n",
       "\n",
       "    .dataframe tbody tr th {\n",
       "        vertical-align: top;\n",
       "    }\n",
       "\n",
       "    .dataframe thead th {\n",
       "        text-align: right;\n",
       "    }\n",
       "</style>\n",
       "<table border=\"1\" class=\"dataframe\">\n",
       "  <thead>\n",
       "    <tr style=\"text-align: right;\">\n",
       "      <th></th>\n",
       "      <th>Player</th>\n",
       "      <th>Tm</th>\n",
       "      <th>Age</th>\n",
       "      <th>Pos</th>\n",
       "      <th>G</th>\n",
       "      <th>GS</th>\n",
       "      <th>Tgt</th>\n",
       "      <th>Rec</th>\n",
       "      <th>Ctch%</th>\n",
       "      <th>Yds</th>\n",
       "      <th>Y/R</th>\n",
       "      <th>TD</th>\n",
       "      <th>1D</th>\n",
       "      <th>Lng</th>\n",
       "      <th>Y/Tgt</th>\n",
       "      <th>R/G</th>\n",
       "      <th>Y/G</th>\n",
       "      <th>Fmb</th>\n",
       "      <th>YEAR</th>\n",
       "    </tr>\n",
       "  </thead>\n",
       "  <tbody>\n",
       "    <tr>\n",
       "      <td>812</td>\n",
       "      <td>Michael Thomas*+</td>\n",
       "      <td>NOR</td>\n",
       "      <td>26</td>\n",
       "      <td>WR</td>\n",
       "      <td>16</td>\n",
       "      <td>15</td>\n",
       "      <td>185</td>\n",
       "      <td>149</td>\n",
       "      <td>80.5%</td>\n",
       "      <td>1725</td>\n",
       "      <td>11.6</td>\n",
       "      <td>9</td>\n",
       "      <td>91</td>\n",
       "      <td>49</td>\n",
       "      <td>9.3</td>\n",
       "      <td>9.3</td>\n",
       "      <td>107.8</td>\n",
       "      <td>1</td>\n",
       "      <td>2019</td>\n",
       "    </tr>\n",
       "  </tbody>\n",
       "</table>\n",
       "</div>"
      ],
      "text/plain": [
       "               Player   Tm  Age Pos   G  GS  Tgt  Rec  Ctch%   Yds   Y/R  TD  \\\n",
       "812  Michael Thomas*+  NOR   26  WR  16  15  185  149  80.5%  1725  11.6   9   \n",
       "\n",
       "     1D  Lng  Y/Tgt  R/G    Y/G  Fmb  YEAR  \n",
       "812  91   49    9.3  9.3  107.8    1  2019  "
      ]
     },
     "execution_count": 29,
     "metadata": {},
     "output_type": "execute_result"
    }
   ],
   "source": [
    "rec_stats[rec_stats['Rec'] >= 140]"
   ]
  },
  {
   "cell_type": "markdown",
   "metadata": {},
   "source": [
    "#### Catch Rate\n",
    "The Catch Rate of each receiver has a fairly tight normal distribution, with a peak around 60%. There is also one large outlier, Lee Smith, who had a catch rate of 100%, but on only 4 targets. This outlier may lead us to creating a floor for a required number of targets in order to qualify for catch rate."
   ]
  },
  {
   "cell_type": "code",
   "execution_count": 30,
   "metadata": {},
   "outputs": [
    {
     "data": {
      "image/png": "[encoded data removed]",
      "text/plain": [
       "<Figure size 612x396 with 1 Axes>"
      ]
     },
     "metadata": {},
     "output_type": "display_data"
    }
   ],
   "source": [
    "eda_viz.ctr_distribution(savefig = True)"
   ]
  },
  {
   "cell_type": "code",
   "execution_count": 31,
   "metadata": {},
   "outputs": [
    {
     "data": {
      "text/html": [
       "<div>\n",
       "<style scoped>\n",
       "    .dataframe tbody tr th:only-of-type {\n",
       "        vertical-align: middle;\n",
       "    }\n",
       "\n",
       "    .dataframe tbody tr th {\n",
       "        vertical-align: top;\n",
       "    }\n",
       "\n",
       "    .dataframe thead th {\n",
       "        text-align: right;\n",
       "    }\n",
       "</style>\n",
       "<table border=\"1\" class=\"dataframe\">\n",
       "  <thead>\n",
       "    <tr style=\"text-align: right;\">\n",
       "      <th></th>\n",
       "      <th>Player</th>\n",
       "      <th>Tm</th>\n",
       "      <th>Age</th>\n",
       "      <th>Pos</th>\n",
       "      <th>G</th>\n",
       "      <th>GS</th>\n",
       "      <th>Tgt</th>\n",
       "      <th>Rec</th>\n",
       "      <th>Ctch%</th>\n",
       "      <th>Yds</th>\n",
       "      <th>Y/R</th>\n",
       "      <th>TD</th>\n",
       "      <th>1D</th>\n",
       "      <th>Lng</th>\n",
       "      <th>Y/Tgt</th>\n",
       "      <th>R/G</th>\n",
       "      <th>Y/G</th>\n",
       "      <th>Fmb</th>\n",
       "      <th>YEAR</th>\n",
       "    </tr>\n",
       "  </thead>\n",
       "  <tbody>\n",
       "    <tr>\n",
       "      <td>255</td>\n",
       "      <td>Lee Smith</td>\n",
       "      <td>BUF</td>\n",
       "      <td>25</td>\n",
       "      <td>wr</td>\n",
       "      <td>16</td>\n",
       "      <td>7</td>\n",
       "      <td>4</td>\n",
       "      <td>4</td>\n",
       "      <td>100.0%</td>\n",
       "      <td>13</td>\n",
       "      <td>3.3</td>\n",
       "      <td>2</td>\n",
       "      <td>3</td>\n",
       "      <td>5</td>\n",
       "      <td>3.3</td>\n",
       "      <td>0.3</td>\n",
       "      <td>0.8</td>\n",
       "      <td>0</td>\n",
       "      <td>2012</td>\n",
       "    </tr>\n",
       "  </tbody>\n",
       "</table>\n",
       "</div>"
      ],
      "text/plain": [
       "        Player   Tm  Age Pos   G  GS  Tgt  Rec   Ctch%  Yds  Y/R  TD  1D  Lng  \\\n",
       "255  Lee Smith  BUF   25  wr  16   7    4    4  100.0%   13  3.3   2   3    5   \n",
       "\n",
       "     Y/Tgt  R/G  Y/G  Fmb  YEAR  \n",
       "255    3.3  0.3  0.8    0  2012  "
      ]
     },
     "execution_count": 31,
     "metadata": {},
     "output_type": "execute_result"
    }
   ],
   "source": [
    "rec_stats[pd.to_numeric(rec_stats['Ctch%'].str.replace('%', '')) >= 90]"
   ]
  },
  {
   "cell_type": "markdown",
   "metadata": {},
   "source": [
    "#### Yards\n",
    "The Yards distribution again follows the patterns of the Receptions and Targets distributions (this makes sense that they would be related), with a peak at around 500. There are a few outliers (Calvin Johnson's and Julio Jones's seasons that were mentioned previously, as well as a very prolific Antonio Brown season), but none that need to be corrected or that will dramatically affect an analysis."
   ]
  },
  {
   "cell_type": "code",
   "execution_count": 32,
   "metadata": {},
   "outputs": [
    {
     "data": {
      "image/png": "[encoded data removed]",
      "text/plain": [
       "<Figure size 612x396 with 1 Axes>"
      ]
     },
     "metadata": {},
     "output_type": "display_data"
    }
   ],
   "source": [
    "eda_viz.yards_distribution(savefig = True)"
   ]
  },
  {
   "cell_type": "code",
   "execution_count": 33,
   "metadata": {},
   "outputs": [
    {
     "data": {
      "text/html": [
       "<div>\n",
       "<style scoped>\n",
       "    .dataframe tbody tr th:only-of-type {\n",
       "        vertical-align: middle;\n",
       "    }\n",
       "\n",
       "    .dataframe tbody tr th {\n",
       "        vertical-align: top;\n",
       "    }\n",
       "\n",
       "    .dataframe thead th {\n",
       "        text-align: right;\n",
       "    }\n",
       "</style>\n",
       "<table border=\"1\" class=\"dataframe\">\n",
       "  <thead>\n",
       "    <tr style=\"text-align: right;\">\n",
       "      <th></th>\n",
       "      <th>Player</th>\n",
       "      <th>Tm</th>\n",
       "      <th>Age</th>\n",
       "      <th>Pos</th>\n",
       "      <th>G</th>\n",
       "      <th>GS</th>\n",
       "      <th>Tgt</th>\n",
       "      <th>Rec</th>\n",
       "      <th>Ctch%</th>\n",
       "      <th>Yds</th>\n",
       "      <th>Y/R</th>\n",
       "      <th>TD</th>\n",
       "      <th>1D</th>\n",
       "      <th>Lng</th>\n",
       "      <th>Y/Tgt</th>\n",
       "      <th>R/G</th>\n",
       "      <th>Y/G</th>\n",
       "      <th>Fmb</th>\n",
       "      <th>YEAR</th>\n",
       "    </tr>\n",
       "  </thead>\n",
       "  <tbody>\n",
       "    <tr>\n",
       "      <td>172</td>\n",
       "      <td>Calvin Johnson *+</td>\n",
       "      <td>DET</td>\n",
       "      <td>27</td>\n",
       "      <td>WR</td>\n",
       "      <td>16</td>\n",
       "      <td>16</td>\n",
       "      <td>204</td>\n",
       "      <td>122</td>\n",
       "      <td>59.8%</td>\n",
       "      <td>1964</td>\n",
       "      <td>16.1</td>\n",
       "      <td>5</td>\n",
       "      <td>92</td>\n",
       "      <td>53</td>\n",
       "      <td>9.6</td>\n",
       "      <td>7.6</td>\n",
       "      <td>122.8</td>\n",
       "      <td>3</td>\n",
       "      <td>2012</td>\n",
       "    </tr>\n",
       "    <tr>\n",
       "      <td>435</td>\n",
       "      <td>Antonio Brown *+</td>\n",
       "      <td>PIT</td>\n",
       "      <td>27</td>\n",
       "      <td>WR</td>\n",
       "      <td>16</td>\n",
       "      <td>16</td>\n",
       "      <td>193</td>\n",
       "      <td>136</td>\n",
       "      <td>70.5%</td>\n",
       "      <td>1834</td>\n",
       "      <td>13.5</td>\n",
       "      <td>10</td>\n",
       "      <td>84</td>\n",
       "      <td>59</td>\n",
       "      <td>9.5</td>\n",
       "      <td>8.5</td>\n",
       "      <td>114.6</td>\n",
       "      <td>3</td>\n",
       "      <td>2015</td>\n",
       "    </tr>\n",
       "    <tr>\n",
       "      <td>436</td>\n",
       "      <td>Julio Jones *+</td>\n",
       "      <td>ATL</td>\n",
       "      <td>26</td>\n",
       "      <td>WR</td>\n",
       "      <td>16</td>\n",
       "      <td>16</td>\n",
       "      <td>203</td>\n",
       "      <td>136</td>\n",
       "      <td>67.0%</td>\n",
       "      <td>1871</td>\n",
       "      <td>13.8</td>\n",
       "      <td>8</td>\n",
       "      <td>93</td>\n",
       "      <td>70</td>\n",
       "      <td>9.2</td>\n",
       "      <td>8.5</td>\n",
       "      <td>116.9</td>\n",
       "      <td>3</td>\n",
       "      <td>2015</td>\n",
       "    </tr>\n",
       "  </tbody>\n",
       "</table>\n",
       "</div>"
      ],
      "text/plain": [
       "                Player   Tm  Age Pos   G  GS  Tgt  Rec  Ctch%   Yds   Y/R  TD  \\\n",
       "172  Calvin Johnson *+  DET   27  WR  16  16  204  122  59.8%  1964  16.1   5   \n",
       "435   Antonio Brown *+  PIT   27  WR  16  16  193  136  70.5%  1834  13.5  10   \n",
       "436     Julio Jones *+  ATL   26  WR  16  16  203  136  67.0%  1871  13.8   8   \n",
       "\n",
       "     1D  Lng  Y/Tgt  R/G    Y/G  Fmb  YEAR  \n",
       "172  92   53    9.6  7.6  122.8    3  2012  \n",
       "435  84   59    9.5  8.5  114.6    3  2015  \n",
       "436  93   70    9.2  8.5  116.9    3  2015  "
      ]
     },
     "execution_count": 33,
     "metadata": {},
     "output_type": "execute_result"
    }
   ],
   "source": [
    "rec_stats[rec_stats['Yds'] >= 1800]"
   ]
  },
  {
   "cell_type": "markdown",
   "metadata": {},
   "source": [
    "#### Yards per Reception\n",
    "Yards per Reception displays a fairly tight normal distribution with a peak in the 12-13 range, and outliers on both ends of the spectrum. On the upper end, there's one part-time starter (Joe Morgan), who had very low target numbers, as well as two deep threats in Ladarius Green and Desean Jackson. Jackson is the more notable player, as he put up over 1000 yards to Green's 300. His role in an offense is often as a deep threat, which accounts for his high yards per reception. On the lower end, there are two players with very low usage numbers. Overall these numbers may indicate that there should be a lower limit on the amount of receptions to qualify for this metric."
   ]
  },
  {
   "cell_type": "code",
   "execution_count": 34,
   "metadata": {},
   "outputs": [
    {
     "data": {
      "image/png": "[encoded data removed]",
      "text/plain": [
       "<Figure size 612x396 with 1 Axes>"
      ]
     },
     "metadata": {},
     "output_type": "display_data"
    }
   ],
   "source": [
    "eda_viz.ypr_distribution(savefig = True)"
   ]
  },
  {
   "cell_type": "code",
   "execution_count": 35,
   "metadata": {},
   "outputs": [
    {
     "data": {
      "text/html": [
       "<div>\n",
       "<style scoped>\n",
       "    .dataframe tbody tr th:only-of-type {\n",
       "        vertical-align: middle;\n",
       "    }\n",
       "\n",
       "    .dataframe tbody tr th {\n",
       "        vertical-align: top;\n",
       "    }\n",
       "\n",
       "    .dataframe thead th {\n",
       "        text-align: right;\n",
       "    }\n",
       "</style>\n",
       "<table border=\"1\" class=\"dataframe\">\n",
       "  <thead>\n",
       "    <tr style=\"text-align: right;\">\n",
       "      <th></th>\n",
       "      <th>Player</th>\n",
       "      <th>Tm</th>\n",
       "      <th>Age</th>\n",
       "      <th>Pos</th>\n",
       "      <th>G</th>\n",
       "      <th>GS</th>\n",
       "      <th>Tgt</th>\n",
       "      <th>Rec</th>\n",
       "      <th>Ctch%</th>\n",
       "      <th>Yds</th>\n",
       "      <th>Y/R</th>\n",
       "      <th>TD</th>\n",
       "      <th>1D</th>\n",
       "      <th>Lng</th>\n",
       "      <th>Y/Tgt</th>\n",
       "      <th>R/G</th>\n",
       "      <th>Y/G</th>\n",
       "      <th>Fmb</th>\n",
       "      <th>YEAR</th>\n",
       "    </tr>\n",
       "  </thead>\n",
       "  <tbody>\n",
       "    <tr>\n",
       "      <td>44</td>\n",
       "      <td>DeSean Jackson*</td>\n",
       "      <td>PHI</td>\n",
       "      <td>24</td>\n",
       "      <td>WR</td>\n",
       "      <td>14</td>\n",
       "      <td>14</td>\n",
       "      <td>95</td>\n",
       "      <td>47</td>\n",
       "      <td>49.5%</td>\n",
       "      <td>1056</td>\n",
       "      <td>22.5</td>\n",
       "      <td>6</td>\n",
       "      <td>32</td>\n",
       "      <td>91</td>\n",
       "      <td>11.1</td>\n",
       "      <td>3.4</td>\n",
       "      <td>75.4</td>\n",
       "      <td>4</td>\n",
       "      <td>2010</td>\n",
       "    </tr>\n",
       "    <tr>\n",
       "      <td>254</td>\n",
       "      <td>Joe Morgan</td>\n",
       "      <td>NOR</td>\n",
       "      <td>24</td>\n",
       "      <td>wr</td>\n",
       "      <td>14</td>\n",
       "      <td>5</td>\n",
       "      <td>21</td>\n",
       "      <td>10</td>\n",
       "      <td>47.6%</td>\n",
       "      <td>379</td>\n",
       "      <td>37.9</td>\n",
       "      <td>3</td>\n",
       "      <td>9</td>\n",
       "      <td>80</td>\n",
       "      <td>18.0</td>\n",
       "      <td>0.7</td>\n",
       "      <td>27.1</td>\n",
       "      <td>0</td>\n",
       "      <td>2012</td>\n",
       "    </tr>\n",
       "    <tr>\n",
       "      <td>344</td>\n",
       "      <td>Ladarius Green</td>\n",
       "      <td>SDG</td>\n",
       "      <td>23</td>\n",
       "      <td>WR</td>\n",
       "      <td>16</td>\n",
       "      <td>10</td>\n",
       "      <td>30</td>\n",
       "      <td>17</td>\n",
       "      <td>56.7%</td>\n",
       "      <td>376</td>\n",
       "      <td>22.1</td>\n",
       "      <td>3</td>\n",
       "      <td>15</td>\n",
       "      <td>60</td>\n",
       "      <td>12.5</td>\n",
       "      <td>1.1</td>\n",
       "      <td>23.5</td>\n",
       "      <td>0</td>\n",
       "      <td>2013</td>\n",
       "    </tr>\n",
       "  </tbody>\n",
       "</table>\n",
       "</div>"
      ],
      "text/plain": [
       "              Player   Tm  Age Pos   G  GS  Tgt  Rec  Ctch%   Yds   Y/R  TD  \\\n",
       "44   DeSean Jackson*  PHI   24  WR  14  14   95   47  49.5%  1056  22.5   6   \n",
       "254       Joe Morgan  NOR   24  wr  14   5   21   10  47.6%   379  37.9   3   \n",
       "344   Ladarius Green  SDG   23  WR  16  10   30   17  56.7%   376  22.1   3   \n",
       "\n",
       "     1D  Lng  Y/Tgt  R/G   Y/G  Fmb  YEAR  \n",
       "44   32   91   11.1  3.4  75.4    4  2010  \n",
       "254   9   80   18.0  0.7  27.1    0  2012  \n",
       "344  15   60   12.5  1.1  23.5    0  2013  "
      ]
     },
     "execution_count": 35,
     "metadata": {},
     "output_type": "execute_result"
    }
   ],
   "source": [
    "rec_stats[rec_stats['Y/R'] >= 22]"
   ]
  },
  {
   "cell_type": "code",
   "execution_count": 36,
   "metadata": {},
   "outputs": [
    {
     "data": {
      "text/html": [
       "<div>\n",
       "<style scoped>\n",
       "    .dataframe tbody tr th:only-of-type {\n",
       "        vertical-align: middle;\n",
       "    }\n",
       "\n",
       "    .dataframe tbody tr th {\n",
       "        vertical-align: top;\n",
       "    }\n",
       "\n",
       "    .dataframe thead th {\n",
       "        text-align: right;\n",
       "    }\n",
       "</style>\n",
       "<table border=\"1\" class=\"dataframe\">\n",
       "  <thead>\n",
       "    <tr style=\"text-align: right;\">\n",
       "      <th></th>\n",
       "      <th>Player</th>\n",
       "      <th>Tm</th>\n",
       "      <th>Age</th>\n",
       "      <th>Pos</th>\n",
       "      <th>G</th>\n",
       "      <th>GS</th>\n",
       "      <th>Tgt</th>\n",
       "      <th>Rec</th>\n",
       "      <th>Ctch%</th>\n",
       "      <th>Yds</th>\n",
       "      <th>Y/R</th>\n",
       "      <th>TD</th>\n",
       "      <th>1D</th>\n",
       "      <th>Lng</th>\n",
       "      <th>Y/Tgt</th>\n",
       "      <th>R/G</th>\n",
       "      <th>Y/G</th>\n",
       "      <th>Fmb</th>\n",
       "      <th>YEAR</th>\n",
       "    </tr>\n",
       "  </thead>\n",
       "  <tbody>\n",
       "    <tr>\n",
       "      <td>255</td>\n",
       "      <td>Lee Smith</td>\n",
       "      <td>BUF</td>\n",
       "      <td>25</td>\n",
       "      <td>wr</td>\n",
       "      <td>16</td>\n",
       "      <td>7</td>\n",
       "      <td>4</td>\n",
       "      <td>4</td>\n",
       "      <td>100.0%</td>\n",
       "      <td>13</td>\n",
       "      <td>3.3</td>\n",
       "      <td>2</td>\n",
       "      <td>3</td>\n",
       "      <td>5</td>\n",
       "      <td>3.3</td>\n",
       "      <td>0.3</td>\n",
       "      <td>0.8</td>\n",
       "      <td>0</td>\n",
       "      <td>2012</td>\n",
       "    </tr>\n",
       "    <tr>\n",
       "      <td>711</td>\n",
       "      <td>Tavon Austin</td>\n",
       "      <td>LAR</td>\n",
       "      <td>27</td>\n",
       "      <td>WR</td>\n",
       "      <td>16</td>\n",
       "      <td>9</td>\n",
       "      <td>22</td>\n",
       "      <td>13</td>\n",
       "      <td>59.1%</td>\n",
       "      <td>47</td>\n",
       "      <td>3.6</td>\n",
       "      <td>0</td>\n",
       "      <td>2</td>\n",
       "      <td>13</td>\n",
       "      <td>2.1</td>\n",
       "      <td>0.8</td>\n",
       "      <td>2.9</td>\n",
       "      <td>5</td>\n",
       "      <td>2017</td>\n",
       "    </tr>\n",
       "  </tbody>\n",
       "</table>\n",
       "</div>"
      ],
      "text/plain": [
       "           Player   Tm  Age Pos   G  GS  Tgt  Rec   Ctch%  Yds  Y/R  TD  1D  \\\n",
       "255     Lee Smith  BUF   25  wr  16   7    4    4  100.0%   13  3.3   2   3   \n",
       "711  Tavon Austin  LAR   27  WR  16   9   22   13   59.1%   47  3.6   0   2   \n",
       "\n",
       "     Lng  Y/Tgt  R/G  Y/G  Fmb  YEAR  \n",
       "255    5    3.3  0.3  0.8    0  2012  \n",
       "711   13    2.1  0.8  2.9    5  2017  "
      ]
     },
     "execution_count": 36,
     "metadata": {},
     "output_type": "execute_result"
    }
   ],
   "source": [
    "rec_stats[rec_stats['Y/R'] < 4]"
   ]
  },
  {
   "cell_type": "markdown",
   "metadata": {},
   "source": [
    "#### Touchdowns\n",
    "Touchdowns has a heavy right skew, again due to the lower cap, with a peak at 2. The right tail makes sense, as there are very few stars putting up large touchdown numbers. One interesting note is that the number of players with 0 touchdowns is much lower than expected."
   ]
  },
  {
   "cell_type": "code",
   "execution_count": 37,
   "metadata": {},
   "outputs": [
    {
     "data": {
      "image/png": "[encoded data removed]",
      "text/plain": [
       "<Figure size 612x396 with 1 Axes>"
      ]
     },
     "metadata": {},
     "output_type": "display_data"
    }
   ],
   "source": [
    "eda_viz.td_distribution(savefig = True)"
   ]
  },
  {
   "cell_type": "markdown",
   "metadata": {},
   "source": [
    "#### First Downs\n",
    "First Downs again demonstrates a right skewed normal distribution (peak at around 30), with similar reasoning to the other right skews. When looking at the outliers on the high side, each came from historical wide receiver seasons (Calvin Johnson, Julio Jones, Michael Thomas)."
   ]
  },
  {
   "cell_type": "code",
   "execution_count": 38,
   "metadata": {},
   "outputs": [
    {
     "data": {
      "image/png": "[encoded data removed]",
      "text/plain": [
       "<Figure size 612x396 with 1 Axes>"
      ]
     },
     "metadata": {},
     "output_type": "display_data"
    }
   ],
   "source": [
    "eda_viz.fd_distribution(savefig = True)"
   ]
  },
  {
   "cell_type": "code",
   "execution_count": 39,
   "metadata": {},
   "outputs": [
    {
     "data": {
      "text/html": [
       "<div>\n",
       "<style scoped>\n",
       "    .dataframe tbody tr th:only-of-type {\n",
       "        vertical-align: middle;\n",
       "    }\n",
       "\n",
       "    .dataframe tbody tr th {\n",
       "        vertical-align: top;\n",
       "    }\n",
       "\n",
       "    .dataframe thead th {\n",
       "        text-align: right;\n",
       "    }\n",
       "</style>\n",
       "<table border=\"1\" class=\"dataframe\">\n",
       "  <thead>\n",
       "    <tr style=\"text-align: right;\">\n",
       "      <th></th>\n",
       "      <th>Player</th>\n",
       "      <th>Tm</th>\n",
       "      <th>Age</th>\n",
       "      <th>Pos</th>\n",
       "      <th>G</th>\n",
       "      <th>GS</th>\n",
       "      <th>Tgt</th>\n",
       "      <th>Rec</th>\n",
       "      <th>Ctch%</th>\n",
       "      <th>Yds</th>\n",
       "      <th>Y/R</th>\n",
       "      <th>TD</th>\n",
       "      <th>1D</th>\n",
       "      <th>Lng</th>\n",
       "      <th>Y/Tgt</th>\n",
       "      <th>R/G</th>\n",
       "      <th>Y/G</th>\n",
       "      <th>Fmb</th>\n",
       "      <th>YEAR</th>\n",
       "    </tr>\n",
       "  </thead>\n",
       "  <tbody>\n",
       "    <tr>\n",
       "      <td>172</td>\n",
       "      <td>Calvin Johnson *+</td>\n",
       "      <td>DET</td>\n",
       "      <td>27</td>\n",
       "      <td>WR</td>\n",
       "      <td>16</td>\n",
       "      <td>16</td>\n",
       "      <td>204</td>\n",
       "      <td>122</td>\n",
       "      <td>59.8%</td>\n",
       "      <td>1964</td>\n",
       "      <td>16.1</td>\n",
       "      <td>5</td>\n",
       "      <td>92</td>\n",
       "      <td>53</td>\n",
       "      <td>9.6</td>\n",
       "      <td>7.6</td>\n",
       "      <td>122.8</td>\n",
       "      <td>3</td>\n",
       "      <td>2012</td>\n",
       "    </tr>\n",
       "    <tr>\n",
       "      <td>436</td>\n",
       "      <td>Julio Jones *+</td>\n",
       "      <td>ATL</td>\n",
       "      <td>26</td>\n",
       "      <td>WR</td>\n",
       "      <td>16</td>\n",
       "      <td>16</td>\n",
       "      <td>203</td>\n",
       "      <td>136</td>\n",
       "      <td>67.0%</td>\n",
       "      <td>1871</td>\n",
       "      <td>13.8</td>\n",
       "      <td>8</td>\n",
       "      <td>93</td>\n",
       "      <td>70</td>\n",
       "      <td>9.2</td>\n",
       "      <td>8.5</td>\n",
       "      <td>116.9</td>\n",
       "      <td>3</td>\n",
       "      <td>2015</td>\n",
       "    </tr>\n",
       "    <tr>\n",
       "      <td>812</td>\n",
       "      <td>Michael Thomas*+</td>\n",
       "      <td>NOR</td>\n",
       "      <td>26</td>\n",
       "      <td>WR</td>\n",
       "      <td>16</td>\n",
       "      <td>15</td>\n",
       "      <td>185</td>\n",
       "      <td>149</td>\n",
       "      <td>80.5%</td>\n",
       "      <td>1725</td>\n",
       "      <td>11.6</td>\n",
       "      <td>9</td>\n",
       "      <td>91</td>\n",
       "      <td>49</td>\n",
       "      <td>9.3</td>\n",
       "      <td>9.3</td>\n",
       "      <td>107.8</td>\n",
       "      <td>1</td>\n",
       "      <td>2019</td>\n",
       "    </tr>\n",
       "  </tbody>\n",
       "</table>\n",
       "</div>"
      ],
      "text/plain": [
       "                Player   Tm  Age Pos   G  GS  Tgt  Rec  Ctch%   Yds   Y/R  TD  \\\n",
       "172  Calvin Johnson *+  DET   27  WR  16  16  204  122  59.8%  1964  16.1   5   \n",
       "436     Julio Jones *+  ATL   26  WR  16  16  203  136  67.0%  1871  13.8   8   \n",
       "812   Michael Thomas*+  NOR   26  WR  16  15  185  149  80.5%  1725  11.6   9   \n",
       "\n",
       "     1D  Lng  Y/Tgt  R/G    Y/G  Fmb  YEAR  \n",
       "172  92   53    9.6  7.6  122.8    3  2012  \n",
       "436  93   70    9.2  8.5  116.9    3  2015  \n",
       "812  91   49    9.3  9.3  107.8    1  2019  "
      ]
     },
     "execution_count": 39,
     "metadata": {},
     "output_type": "execute_result"
    }
   ],
   "source": [
    "rec_stats[rec_stats['1D'] >= 90]"
   ]
  },
  {
   "cell_type": "markdown",
   "metadata": {},
   "source": [
    "#### Long\n",
    "The Long distribution is a normal one, with a peak around 50, and some low outliers, both being Lee Smith, who we previously noted had high Catch Rate numbers due to low volume."
   ]
  },
  {
   "cell_type": "code",
   "execution_count": 40,
   "metadata": {},
   "outputs": [
    {
     "data": {
      "image/png": "[encoded data removed]",
      "text/plain": [
       "<Figure size 612x396 with 1 Axes>"
      ]
     },
     "metadata": {},
     "output_type": "display_data"
    }
   ],
   "source": [
    "eda_viz.long_distribution(savefig = True)"
   ]
  },
  {
   "cell_type": "code",
   "execution_count": 41,
   "metadata": {},
   "outputs": [
    {
     "data": {
      "text/html": [
       "<div>\n",
       "<style scoped>\n",
       "    .dataframe tbody tr th:only-of-type {\n",
       "        vertical-align: middle;\n",
       "    }\n",
       "\n",
       "    .dataframe tbody tr th {\n",
       "        vertical-align: top;\n",
       "    }\n",
       "\n",
       "    .dataframe thead th {\n",
       "        text-align: right;\n",
       "    }\n",
       "</style>\n",
       "<table border=\"1\" class=\"dataframe\">\n",
       "  <thead>\n",
       "    <tr style=\"text-align: right;\">\n",
       "      <th></th>\n",
       "      <th>Player</th>\n",
       "      <th>Tm</th>\n",
       "      <th>Age</th>\n",
       "      <th>Pos</th>\n",
       "      <th>G</th>\n",
       "      <th>GS</th>\n",
       "      <th>Tgt</th>\n",
       "      <th>Rec</th>\n",
       "      <th>Ctch%</th>\n",
       "      <th>Yds</th>\n",
       "      <th>Y/R</th>\n",
       "      <th>TD</th>\n",
       "      <th>1D</th>\n",
       "      <th>Lng</th>\n",
       "      <th>Y/Tgt</th>\n",
       "      <th>R/G</th>\n",
       "      <th>Y/G</th>\n",
       "      <th>Fmb</th>\n",
       "      <th>YEAR</th>\n",
       "    </tr>\n",
       "  </thead>\n",
       "  <tbody>\n",
       "    <tr>\n",
       "      <td>255</td>\n",
       "      <td>Lee Smith</td>\n",
       "      <td>BUF</td>\n",
       "      <td>25</td>\n",
       "      <td>wr</td>\n",
       "      <td>16</td>\n",
       "      <td>7</td>\n",
       "      <td>4</td>\n",
       "      <td>4</td>\n",
       "      <td>100.0%</td>\n",
       "      <td>13</td>\n",
       "      <td>3.3</td>\n",
       "      <td>2</td>\n",
       "      <td>3</td>\n",
       "      <td>5</td>\n",
       "      <td>3.3</td>\n",
       "      <td>0.3</td>\n",
       "      <td>0.8</td>\n",
       "      <td>0</td>\n",
       "      <td>2012</td>\n",
       "    </tr>\n",
       "    <tr>\n",
       "      <td>905</td>\n",
       "      <td>Lee Smith</td>\n",
       "      <td>BUF</td>\n",
       "      <td>32</td>\n",
       "      <td>wr</td>\n",
       "      <td>16</td>\n",
       "      <td>5</td>\n",
       "      <td>5</td>\n",
       "      <td>4</td>\n",
       "      <td>80.0%</td>\n",
       "      <td>31</td>\n",
       "      <td>7.8</td>\n",
       "      <td>1</td>\n",
       "      <td>2</td>\n",
       "      <td>9</td>\n",
       "      <td>6.2</td>\n",
       "      <td>0.3</td>\n",
       "      <td>1.9</td>\n",
       "      <td>0</td>\n",
       "      <td>2019</td>\n",
       "    </tr>\n",
       "  </tbody>\n",
       "</table>\n",
       "</div>"
      ],
      "text/plain": [
       "        Player   Tm  Age Pos   G  GS  Tgt  Rec   Ctch%  Yds  Y/R  TD  1D  Lng  \\\n",
       "255  Lee Smith  BUF   25  wr  16   7    4    4  100.0%   13  3.3   2   3    5   \n",
       "905  Lee Smith  BUF   32  wr  16   5    5    4   80.0%   31  7.8   1   2    9   \n",
       "\n",
       "     Y/Tgt  R/G  Y/G  Fmb  YEAR  \n",
       "255    3.3  0.3  0.8    0  2012  \n",
       "905    6.2  0.3  1.9    0  2019  "
      ]
     },
     "execution_count": 41,
     "metadata": {},
     "output_type": "execute_result"
    }
   ],
   "source": [
    "rec_stats[rec_stats['Lng'] < 10]"
   ]
  },
  {
   "cell_type": "markdown",
   "metadata": {},
   "source": [
    "#### Yards per Target\n",
    "Yards per Target displays a tight normal distribution centered around 8, with two fairly distinct outliers in Joe Morgan on the high side and Tavon Austin on the high side. Both of these players had very low target numbers however, which accounts for these interesting outliers, indicating that there should probably be a lower limit on targets in order to qualify for this stat."
   ]
  },
  {
   "cell_type": "code",
   "execution_count": 42,
   "metadata": {
    "scrolled": false
   },
   "outputs": [
    {
     "data": {
      "image/png": "[encoded data removed]",
      "text/plain": [
       "<Figure size 612x396 with 1 Axes>"
      ]
     },
     "metadata": {},
     "output_type": "display_data"
    }
   ],
   "source": [
    "eda_viz.ypt_distribution(savefig = True)"
   ]
  },
  {
   "cell_type": "code",
   "execution_count": 43,
   "metadata": {},
   "outputs": [
    {
     "data": {
      "text/html": [
       "<div>\n",
       "<style scoped>\n",
       "    .dataframe tbody tr th:only-of-type {\n",
       "        vertical-align: middle;\n",
       "    }\n",
       "\n",
       "    .dataframe tbody tr th {\n",
       "        vertical-align: top;\n",
       "    }\n",
       "\n",
       "    .dataframe thead th {\n",
       "        text-align: right;\n",
       "    }\n",
       "</style>\n",
       "<table border=\"1\" class=\"dataframe\">\n",
       "  <thead>\n",
       "    <tr style=\"text-align: right;\">\n",
       "      <th></th>\n",
       "      <th>Player</th>\n",
       "      <th>Tm</th>\n",
       "      <th>Age</th>\n",
       "      <th>Pos</th>\n",
       "      <th>G</th>\n",
       "      <th>GS</th>\n",
       "      <th>Tgt</th>\n",
       "      <th>Rec</th>\n",
       "      <th>Ctch%</th>\n",
       "      <th>Yds</th>\n",
       "      <th>Y/R</th>\n",
       "      <th>TD</th>\n",
       "      <th>1D</th>\n",
       "      <th>Lng</th>\n",
       "      <th>Y/Tgt</th>\n",
       "      <th>R/G</th>\n",
       "      <th>Y/G</th>\n",
       "      <th>Fmb</th>\n",
       "      <th>YEAR</th>\n",
       "    </tr>\n",
       "  </thead>\n",
       "  <tbody>\n",
       "    <tr>\n",
       "      <td>254</td>\n",
       "      <td>Joe Morgan</td>\n",
       "      <td>NOR</td>\n",
       "      <td>24</td>\n",
       "      <td>wr</td>\n",
       "      <td>14</td>\n",
       "      <td>5</td>\n",
       "      <td>21</td>\n",
       "      <td>10</td>\n",
       "      <td>47.6%</td>\n",
       "      <td>379</td>\n",
       "      <td>37.9</td>\n",
       "      <td>3</td>\n",
       "      <td>9</td>\n",
       "      <td>80</td>\n",
       "      <td>18.0</td>\n",
       "      <td>0.7</td>\n",
       "      <td>27.1</td>\n",
       "      <td>0</td>\n",
       "      <td>2012</td>\n",
       "    </tr>\n",
       "  </tbody>\n",
       "</table>\n",
       "</div>"
      ],
      "text/plain": [
       "         Player   Tm  Age Pos   G  GS  Tgt  Rec  Ctch%  Yds   Y/R  TD  1D  \\\n",
       "254  Joe Morgan  NOR   24  wr  14   5   21   10  47.6%  379  37.9   3   9   \n",
       "\n",
       "     Lng  Y/Tgt  R/G   Y/G  Fmb  YEAR  \n",
       "254   80   18.0  0.7  27.1    0  2012  "
      ]
     },
     "execution_count": 43,
     "metadata": {},
     "output_type": "execute_result"
    }
   ],
   "source": [
    "rec_stats[rec_stats['Y/Tgt'] >= 17]"
   ]
  },
  {
   "cell_type": "code",
   "execution_count": 44,
   "metadata": {},
   "outputs": [
    {
     "data": {
      "text/html": [
       "<div>\n",
       "<style scoped>\n",
       "    .dataframe tbody tr th:only-of-type {\n",
       "        vertical-align: middle;\n",
       "    }\n",
       "\n",
       "    .dataframe tbody tr th {\n",
       "        vertical-align: top;\n",
       "    }\n",
       "\n",
       "    .dataframe thead th {\n",
       "        text-align: right;\n",
       "    }\n",
       "</style>\n",
       "<table border=\"1\" class=\"dataframe\">\n",
       "  <thead>\n",
       "    <tr style=\"text-align: right;\">\n",
       "      <th></th>\n",
       "      <th>Player</th>\n",
       "      <th>Tm</th>\n",
       "      <th>Age</th>\n",
       "      <th>Pos</th>\n",
       "      <th>G</th>\n",
       "      <th>GS</th>\n",
       "      <th>Tgt</th>\n",
       "      <th>Rec</th>\n",
       "      <th>Ctch%</th>\n",
       "      <th>Yds</th>\n",
       "      <th>Y/R</th>\n",
       "      <th>TD</th>\n",
       "      <th>1D</th>\n",
       "      <th>Lng</th>\n",
       "      <th>Y/Tgt</th>\n",
       "      <th>R/G</th>\n",
       "      <th>Y/G</th>\n",
       "      <th>Fmb</th>\n",
       "      <th>YEAR</th>\n",
       "    </tr>\n",
       "  </thead>\n",
       "  <tbody>\n",
       "    <tr>\n",
       "      <td>711</td>\n",
       "      <td>Tavon Austin</td>\n",
       "      <td>LAR</td>\n",
       "      <td>27</td>\n",
       "      <td>WR</td>\n",
       "      <td>16</td>\n",
       "      <td>9</td>\n",
       "      <td>22</td>\n",
       "      <td>13</td>\n",
       "      <td>59.1%</td>\n",
       "      <td>47</td>\n",
       "      <td>3.6</td>\n",
       "      <td>0</td>\n",
       "      <td>2</td>\n",
       "      <td>13</td>\n",
       "      <td>2.1</td>\n",
       "      <td>0.8</td>\n",
       "      <td>2.9</td>\n",
       "      <td>5</td>\n",
       "      <td>2017</td>\n",
       "    </tr>\n",
       "  </tbody>\n",
       "</table>\n",
       "</div>"
      ],
      "text/plain": [
       "           Player   Tm  Age Pos   G  GS  Tgt  Rec  Ctch%  Yds  Y/R  TD  1D  \\\n",
       "711  Tavon Austin  LAR   27  WR  16   9   22   13  59.1%   47  3.6   0   2   \n",
       "\n",
       "     Lng  Y/Tgt  R/G  Y/G  Fmb  YEAR  \n",
       "711   13    2.1  0.8  2.9    5  2017  "
      ]
     },
     "execution_count": 44,
     "metadata": {},
     "output_type": "execute_result"
    }
   ],
   "source": [
    "rec_stats[rec_stats['Y/Tgt'] < 3]"
   ]
  },
  {
   "cell_type": "markdown",
   "metadata": {},
   "source": [
    "#### Receptions per Game\n",
    "Receptions per Game displays a right skew like most stats in this dataset (peak at 3), albeit less dramatic than others. The high outliers are all from elite receivers."
   ]
  },
  {
   "cell_type": "code",
   "execution_count": 45,
   "metadata": {
    "scrolled": false
   },
   "outputs": [
    {
     "data": {
      "image/png": "[encoded data removed]",
      "text/plain": [
       "<Figure size 612x396 with 1 Axes>"
      ]
     },
     "metadata": {},
     "output_type": "display_data"
    }
   ],
   "source": [
    "eda_viz.rpg_distribution(savefig = True)"
   ]
  },
  {
   "cell_type": "code",
   "execution_count": 46,
   "metadata": {},
   "outputs": [
    {
     "data": {
      "text/html": [
       "<div>\n",
       "<style scoped>\n",
       "    .dataframe tbody tr th:only-of-type {\n",
       "        vertical-align: middle;\n",
       "    }\n",
       "\n",
       "    .dataframe tbody tr th {\n",
       "        vertical-align: top;\n",
       "    }\n",
       "\n",
       "    .dataframe thead th {\n",
       "        text-align: right;\n",
       "    }\n",
       "</style>\n",
       "<table border=\"1\" class=\"dataframe\">\n",
       "  <thead>\n",
       "    <tr style=\"text-align: right;\">\n",
       "      <th></th>\n",
       "      <th>Player</th>\n",
       "      <th>Tm</th>\n",
       "      <th>Age</th>\n",
       "      <th>Pos</th>\n",
       "      <th>G</th>\n",
       "      <th>GS</th>\n",
       "      <th>Tgt</th>\n",
       "      <th>Rec</th>\n",
       "      <th>Ctch%</th>\n",
       "      <th>Yds</th>\n",
       "      <th>Y/R</th>\n",
       "      <th>TD</th>\n",
       "      <th>1D</th>\n",
       "      <th>Lng</th>\n",
       "      <th>Y/Tgt</th>\n",
       "      <th>R/G</th>\n",
       "      <th>Y/G</th>\n",
       "      <th>Fmb</th>\n",
       "      <th>YEAR</th>\n",
       "    </tr>\n",
       "  </thead>\n",
       "  <tbody>\n",
       "    <tr>\n",
       "      <td>314</td>\n",
       "      <td>Julio Jones</td>\n",
       "      <td>ATL</td>\n",
       "      <td>24</td>\n",
       "      <td>wr</td>\n",
       "      <td>5</td>\n",
       "      <td>5</td>\n",
       "      <td>59</td>\n",
       "      <td>41</td>\n",
       "      <td>69.5%</td>\n",
       "      <td>580</td>\n",
       "      <td>14.1</td>\n",
       "      <td>2</td>\n",
       "      <td>25</td>\n",
       "      <td>81</td>\n",
       "      <td>9.8</td>\n",
       "      <td>8.2</td>\n",
       "      <td>116.0</td>\n",
       "      <td>2</td>\n",
       "      <td>2013</td>\n",
       "    </tr>\n",
       "    <tr>\n",
       "      <td>347</td>\n",
       "      <td>Antonio Brown *+</td>\n",
       "      <td>PIT</td>\n",
       "      <td>26</td>\n",
       "      <td>WR</td>\n",
       "      <td>16</td>\n",
       "      <td>16</td>\n",
       "      <td>181</td>\n",
       "      <td>129</td>\n",
       "      <td>71.3%</td>\n",
       "      <td>1698</td>\n",
       "      <td>13.2</td>\n",
       "      <td>13</td>\n",
       "      <td>87</td>\n",
       "      <td>63</td>\n",
       "      <td>9.4</td>\n",
       "      <td>8.1</td>\n",
       "      <td>106.1</td>\n",
       "      <td>2</td>\n",
       "      <td>2014</td>\n",
       "    </tr>\n",
       "    <tr>\n",
       "      <td>435</td>\n",
       "      <td>Antonio Brown *+</td>\n",
       "      <td>PIT</td>\n",
       "      <td>27</td>\n",
       "      <td>WR</td>\n",
       "      <td>16</td>\n",
       "      <td>16</td>\n",
       "      <td>193</td>\n",
       "      <td>136</td>\n",
       "      <td>70.5%</td>\n",
       "      <td>1834</td>\n",
       "      <td>13.5</td>\n",
       "      <td>10</td>\n",
       "      <td>84</td>\n",
       "      <td>59</td>\n",
       "      <td>9.5</td>\n",
       "      <td>8.5</td>\n",
       "      <td>114.6</td>\n",
       "      <td>3</td>\n",
       "      <td>2015</td>\n",
       "    </tr>\n",
       "    <tr>\n",
       "      <td>436</td>\n",
       "      <td>Julio Jones *+</td>\n",
       "      <td>ATL</td>\n",
       "      <td>26</td>\n",
       "      <td>WR</td>\n",
       "      <td>16</td>\n",
       "      <td>16</td>\n",
       "      <td>203</td>\n",
       "      <td>136</td>\n",
       "      <td>67.0%</td>\n",
       "      <td>1871</td>\n",
       "      <td>13.8</td>\n",
       "      <td>8</td>\n",
       "      <td>93</td>\n",
       "      <td>70</td>\n",
       "      <td>9.2</td>\n",
       "      <td>8.5</td>\n",
       "      <td>116.9</td>\n",
       "      <td>3</td>\n",
       "      <td>2015</td>\n",
       "    </tr>\n",
       "    <tr>\n",
       "      <td>463</td>\n",
       "      <td>Keenan Allen</td>\n",
       "      <td>SDG</td>\n",
       "      <td>23</td>\n",
       "      <td>WR</td>\n",
       "      <td>8</td>\n",
       "      <td>8</td>\n",
       "      <td>89</td>\n",
       "      <td>67</td>\n",
       "      <td>75.3%</td>\n",
       "      <td>725</td>\n",
       "      <td>10.8</td>\n",
       "      <td>4</td>\n",
       "      <td>34</td>\n",
       "      <td>38</td>\n",
       "      <td>8.1</td>\n",
       "      <td>8.4</td>\n",
       "      <td>90.6</td>\n",
       "      <td>1</td>\n",
       "      <td>2015</td>\n",
       "    </tr>\n",
       "    <tr>\n",
       "      <td>812</td>\n",
       "      <td>Michael Thomas*+</td>\n",
       "      <td>NOR</td>\n",
       "      <td>26</td>\n",
       "      <td>WR</td>\n",
       "      <td>16</td>\n",
       "      <td>15</td>\n",
       "      <td>185</td>\n",
       "      <td>149</td>\n",
       "      <td>80.5%</td>\n",
       "      <td>1725</td>\n",
       "      <td>11.6</td>\n",
       "      <td>9</td>\n",
       "      <td>91</td>\n",
       "      <td>49</td>\n",
       "      <td>9.3</td>\n",
       "      <td>9.3</td>\n",
       "      <td>107.8</td>\n",
       "      <td>1</td>\n",
       "      <td>2019</td>\n",
       "    </tr>\n",
       "  </tbody>\n",
       "</table>\n",
       "</div>"
      ],
      "text/plain": [
       "               Player   Tm  Age Pos   G  GS  Tgt  Rec  Ctch%   Yds   Y/R  TD  \\\n",
       "314       Julio Jones  ATL   24  wr   5   5   59   41  69.5%   580  14.1   2   \n",
       "347  Antonio Brown *+  PIT   26  WR  16  16  181  129  71.3%  1698  13.2  13   \n",
       "435  Antonio Brown *+  PIT   27  WR  16  16  193  136  70.5%  1834  13.5  10   \n",
       "436    Julio Jones *+  ATL   26  WR  16  16  203  136  67.0%  1871  13.8   8   \n",
       "463      Keenan Allen  SDG   23  WR   8   8   89   67  75.3%   725  10.8   4   \n",
       "812  Michael Thomas*+  NOR   26  WR  16  15  185  149  80.5%  1725  11.6   9   \n",
       "\n",
       "     1D  Lng  Y/Tgt  R/G    Y/G  Fmb  YEAR  \n",
       "314  25   81    9.8  8.2  116.0    2  2013  \n",
       "347  87   63    9.4  8.1  106.1    2  2014  \n",
       "435  84   59    9.5  8.5  114.6    3  2015  \n",
       "436  93   70    9.2  8.5  116.9    3  2015  \n",
       "463  34   38    8.1  8.4   90.6    1  2015  \n",
       "812  91   49    9.3  9.3  107.8    1  2019  "
      ]
     },
     "execution_count": 46,
     "metadata": {},
     "output_type": "execute_result"
    }
   ],
   "source": [
    "rec_stats[rec_stats['R/G'] >= 8]"
   ]
  },
  {
   "cell_type": "markdown",
   "metadata": {},
   "source": [
    "#### Receiving Yards per Game\n",
    "Receiving Yards per Game displays a right skew as well (peak at around 45), with a high outlier for a historic receiving season (Calvin Johnson)."
   ]
  },
  {
   "cell_type": "code",
   "execution_count": 47,
   "metadata": {},
   "outputs": [
    {
     "data": {
      "image/png": "[encoded data removed]",
      "text/plain": [
       "<Figure size 612x396 with 1 Axes>"
      ]
     },
     "metadata": {},
     "output_type": "display_data"
    }
   ],
   "source": [
    "eda_viz.ypg_distribution(savefig = True)"
   ]
  },
  {
   "cell_type": "code",
   "execution_count": 48,
   "metadata": {},
   "outputs": [
    {
     "data": {
      "text/html": [
       "<div>\n",
       "<style scoped>\n",
       "    .dataframe tbody tr th:only-of-type {\n",
       "        vertical-align: middle;\n",
       "    }\n",
       "\n",
       "    .dataframe tbody tr th {\n",
       "        vertical-align: top;\n",
       "    }\n",
       "\n",
       "    .dataframe thead th {\n",
       "        text-align: right;\n",
       "    }\n",
       "</style>\n",
       "<table border=\"1\" class=\"dataframe\">\n",
       "  <thead>\n",
       "    <tr style=\"text-align: right;\">\n",
       "      <th></th>\n",
       "      <th>Player</th>\n",
       "      <th>Tm</th>\n",
       "      <th>Age</th>\n",
       "      <th>Pos</th>\n",
       "      <th>G</th>\n",
       "      <th>GS</th>\n",
       "      <th>Tgt</th>\n",
       "      <th>Rec</th>\n",
       "      <th>Ctch%</th>\n",
       "      <th>Yds</th>\n",
       "      <th>Y/R</th>\n",
       "      <th>TD</th>\n",
       "      <th>1D</th>\n",
       "      <th>Lng</th>\n",
       "      <th>Y/Tgt</th>\n",
       "      <th>R/G</th>\n",
       "      <th>Y/G</th>\n",
       "      <th>Fmb</th>\n",
       "      <th>YEAR</th>\n",
       "    </tr>\n",
       "  </thead>\n",
       "  <tbody>\n",
       "    <tr>\n",
       "      <td>172</td>\n",
       "      <td>Calvin Johnson *+</td>\n",
       "      <td>DET</td>\n",
       "      <td>27</td>\n",
       "      <td>WR</td>\n",
       "      <td>16</td>\n",
       "      <td>16</td>\n",
       "      <td>204</td>\n",
       "      <td>122</td>\n",
       "      <td>59.8%</td>\n",
       "      <td>1964</td>\n",
       "      <td>16.1</td>\n",
       "      <td>5</td>\n",
       "      <td>92</td>\n",
       "      <td>53</td>\n",
       "      <td>9.6</td>\n",
       "      <td>7.6</td>\n",
       "      <td>122.8</td>\n",
       "      <td>3</td>\n",
       "      <td>2012</td>\n",
       "    </tr>\n",
       "  </tbody>\n",
       "</table>\n",
       "</div>"
      ],
      "text/plain": [
       "                Player   Tm  Age Pos   G  GS  Tgt  Rec  Ctch%   Yds   Y/R  TD  \\\n",
       "172  Calvin Johnson *+  DET   27  WR  16  16  204  122  59.8%  1964  16.1   5   \n",
       "\n",
       "     1D  Lng  Y/Tgt  R/G    Y/G  Fmb  YEAR  \n",
       "172  92   53    9.6  7.6  122.8    3  2012  "
      ]
     },
     "execution_count": 48,
     "metadata": {},
     "output_type": "execute_result"
    }
   ],
   "source": [
    "rec_stats[rec_stats['Y/G'] >= 120]"
   ]
  },
  {
   "cell_type": "markdown",
   "metadata": {},
   "source": [
    "#### Fumbles\n",
    "Fumbles display a inverse relationship, which is expected. However, there are several players with very high fumble numbers. Upon investigation however, many of the fumbles recorded were on special teams plays (e.g. punt returns). Therefore, including this statistic in this analysis will overly punish players asked to play special teams, and it might be cut from this dataset, as most players have negligible fumble counts anyways."
   ]
  },
  {
   "cell_type": "code",
   "execution_count": 49,
   "metadata": {},
   "outputs": [
    {
     "data": {
      "image/png": "[encoded data removed]",
      "text/plain": [
       "<Figure size 612x396 with 1 Axes>"
      ]
     },
     "metadata": {},
     "output_type": "display_data"
    }
   ],
   "source": [
    "eda_viz.fmb_distribution(savefig = True)"
   ]
  },
  {
   "cell_type": "code",
   "execution_count": 50,
   "metadata": {},
   "outputs": [
    {
     "data": {
      "text/html": [
       "<div>\n",
       "<style scoped>\n",
       "    .dataframe tbody tr th:only-of-type {\n",
       "        vertical-align: middle;\n",
       "    }\n",
       "\n",
       "    .dataframe tbody tr th {\n",
       "        vertical-align: top;\n",
       "    }\n",
       "\n",
       "    .dataframe thead th {\n",
       "        text-align: right;\n",
       "    }\n",
       "</style>\n",
       "<table border=\"1\" class=\"dataframe\">\n",
       "  <thead>\n",
       "    <tr style=\"text-align: right;\">\n",
       "      <th></th>\n",
       "      <th>Player</th>\n",
       "      <th>Tm</th>\n",
       "      <th>Age</th>\n",
       "      <th>Pos</th>\n",
       "      <th>G</th>\n",
       "      <th>GS</th>\n",
       "      <th>Tgt</th>\n",
       "      <th>Rec</th>\n",
       "      <th>Ctch%</th>\n",
       "      <th>Yds</th>\n",
       "      <th>Y/R</th>\n",
       "      <th>TD</th>\n",
       "      <th>1D</th>\n",
       "      <th>Lng</th>\n",
       "      <th>Y/Tgt</th>\n",
       "      <th>R/G</th>\n",
       "      <th>Y/G</th>\n",
       "      <th>Fmb</th>\n",
       "      <th>YEAR</th>\n",
       "    </tr>\n",
       "  </thead>\n",
       "  <tbody>\n",
       "    <tr>\n",
       "      <td>77</td>\n",
       "      <td>Josh Cribbs</td>\n",
       "      <td>CLE</td>\n",
       "      <td>27</td>\n",
       "      <td>WR</td>\n",
       "      <td>15</td>\n",
       "      <td>5</td>\n",
       "      <td>39</td>\n",
       "      <td>23</td>\n",
       "      <td>59.0%</td>\n",
       "      <td>292</td>\n",
       "      <td>12.7</td>\n",
       "      <td>1</td>\n",
       "      <td>11</td>\n",
       "      <td>65</td>\n",
       "      <td>7.5</td>\n",
       "      <td>1.5</td>\n",
       "      <td>19.5</td>\n",
       "      <td>7</td>\n",
       "      <td>2010</td>\n",
       "    </tr>\n",
       "    <tr>\n",
       "      <td>259</td>\n",
       "      <td>Julian Edelman</td>\n",
       "      <td>NWE</td>\n",
       "      <td>27</td>\n",
       "      <td>WR</td>\n",
       "      <td>16</td>\n",
       "      <td>11</td>\n",
       "      <td>151</td>\n",
       "      <td>105</td>\n",
       "      <td>69.5%</td>\n",
       "      <td>1056</td>\n",
       "      <td>10.1</td>\n",
       "      <td>6</td>\n",
       "      <td>54</td>\n",
       "      <td>44</td>\n",
       "      <td>7.0</td>\n",
       "      <td>6.6</td>\n",
       "      <td>66.0</td>\n",
       "      <td>6</td>\n",
       "      <td>2013</td>\n",
       "    </tr>\n",
       "    <tr>\n",
       "      <td>360</td>\n",
       "      <td>Jarvis Landry</td>\n",
       "      <td>MIA</td>\n",
       "      <td>22</td>\n",
       "      <td>WR</td>\n",
       "      <td>16</td>\n",
       "      <td>11</td>\n",
       "      <td>112</td>\n",
       "      <td>84</td>\n",
       "      <td>75.0%</td>\n",
       "      <td>758</td>\n",
       "      <td>9.0</td>\n",
       "      <td>5</td>\n",
       "      <td>50</td>\n",
       "      <td>25</td>\n",
       "      <td>6.8</td>\n",
       "      <td>5.3</td>\n",
       "      <td>47.4</td>\n",
       "      <td>7</td>\n",
       "      <td>2014</td>\n",
       "    </tr>\n",
       "    <tr>\n",
       "      <td>645</td>\n",
       "      <td>Jamison Crowder</td>\n",
       "      <td>WAS</td>\n",
       "      <td>24</td>\n",
       "      <td>WR</td>\n",
       "      <td>15</td>\n",
       "      <td>6</td>\n",
       "      <td>103</td>\n",
       "      <td>66</td>\n",
       "      <td>64.1%</td>\n",
       "      <td>789</td>\n",
       "      <td>12.0</td>\n",
       "      <td>3</td>\n",
       "      <td>38</td>\n",
       "      <td>41</td>\n",
       "      <td>7.7</td>\n",
       "      <td>4.4</td>\n",
       "      <td>52.6</td>\n",
       "      <td>6</td>\n",
       "      <td>2017</td>\n",
       "    </tr>\n",
       "  </tbody>\n",
       "</table>\n",
       "</div>"
      ],
      "text/plain": [
       "              Player   Tm  Age Pos   G  GS  Tgt  Rec  Ctch%   Yds   Y/R  TD  \\\n",
       "77       Josh Cribbs  CLE   27  WR  15   5   39   23  59.0%   292  12.7   1   \n",
       "259   Julian Edelman  NWE   27  WR  16  11  151  105  69.5%  1056  10.1   6   \n",
       "360    Jarvis Landry  MIA   22  WR  16  11  112   84  75.0%   758   9.0   5   \n",
       "645  Jamison Crowder  WAS   24  WR  15   6  103   66  64.1%   789  12.0   3   \n",
       "\n",
       "     1D  Lng  Y/Tgt  R/G   Y/G  Fmb  YEAR  \n",
       "77   11   65    7.5  1.5  19.5    7  2010  \n",
       "259  54   44    7.0  6.6  66.0    6  2013  \n",
       "360  50   25    6.8  5.3  47.4    7  2014  \n",
       "645  38   41    7.7  4.4  52.6    6  2017  "
      ]
     },
     "execution_count": 50,
     "metadata": {},
     "output_type": "execute_result"
    }
   ],
   "source": [
    "rec_stats[rec_stats['Fmb'] >= 6]"
   ]
  },
  {
   "cell_type": "markdown",
   "metadata": {},
   "source": [
    "## Advanced Receiver Stats Data\n",
    "These advanced statistics (courtesy of Football Outsiders) for receivers will be used for the projections of second year jumps. They will need to be trimmed down to only the rookie and second year players for each year. (Note: a Glossary of this dataset's features is available in the reference section)"
   ]
  },
  {
   "cell_type": "code",
   "execution_count": 51,
   "metadata": {},
   "outputs": [
    {
     "data": {
      "text/html": [
       "<div>\n",
       "<style scoped>\n",
       "    .dataframe tbody tr th:only-of-type {\n",
       "        vertical-align: middle;\n",
       "    }\n",
       "\n",
       "    .dataframe tbody tr th {\n",
       "        vertical-align: top;\n",
       "    }\n",
       "\n",
       "    .dataframe thead th {\n",
       "        text-align: right;\n",
       "    }\n",
       "</style>\n",
       "<table border=\"1\" class=\"dataframe\">\n",
       "  <thead>\n",
       "    <tr style=\"text-align: right;\">\n",
       "      <th></th>\n",
       "      <th>Player</th>\n",
       "      <th>Team</th>\n",
       "      <th>DYAR</th>\n",
       "      <th>YAR</th>\n",
       "      <th>DVOA</th>\n",
       "      <th>VOA</th>\n",
       "      <th>EYds</th>\n",
       "      <th>DPI</th>\n",
       "      <th>YEAR</th>\n",
       "    </tr>\n",
       "  </thead>\n",
       "  <tbody>\n",
       "    <tr>\n",
       "      <td>0</td>\n",
       "      <td>M.Wallace</td>\n",
       "      <td>PIT</td>\n",
       "      <td>458</td>\n",
       "      <td>445</td>\n",
       "      <td>49.0%</td>\n",
       "      <td>47.2%</td>\n",
       "      <td>1280</td>\n",
       "      <td>1/38</td>\n",
       "      <td>2010</td>\n",
       "    </tr>\n",
       "    <tr>\n",
       "      <td>1</td>\n",
       "      <td>B.Lloyd</td>\n",
       "      <td>DEN</td>\n",
       "      <td>415</td>\n",
       "      <td>402</td>\n",
       "      <td>20.1%</td>\n",
       "      <td>19.1%</td>\n",
       "      <td>1642</td>\n",
       "      <td>8/139</td>\n",
       "      <td>2010</td>\n",
       "    </tr>\n",
       "    <tr>\n",
       "      <td>2</td>\n",
       "      <td>G.Jennings</td>\n",
       "      <td>GB</td>\n",
       "      <td>328</td>\n",
       "      <td>327</td>\n",
       "      <td>19.4%</td>\n",
       "      <td>19.4%</td>\n",
       "      <td>1315</td>\n",
       "      <td>2/16</td>\n",
       "      <td>2010</td>\n",
       "    </tr>\n",
       "    <tr>\n",
       "      <td>3</td>\n",
       "      <td>R.White</td>\n",
       "      <td>ATL</td>\n",
       "      <td>303</td>\n",
       "      <td>299</td>\n",
       "      <td>8.9%</td>\n",
       "      <td>8.7%</td>\n",
       "      <td>1590</td>\n",
       "      <td>2/27</td>\n",
       "      <td>2010</td>\n",
       "    </tr>\n",
       "    <tr>\n",
       "      <td>4</td>\n",
       "      <td>A.Johnson</td>\n",
       "      <td>HOU</td>\n",
       "      <td>281</td>\n",
       "      <td>242</td>\n",
       "      <td>12.9%</td>\n",
       "      <td>9.3%</td>\n",
       "      <td>1309</td>\n",
       "      <td>3/32</td>\n",
       "      <td>2010</td>\n",
       "    </tr>\n",
       "  </tbody>\n",
       "</table>\n",
       "</div>"
      ],
      "text/plain": [
       "       Player Team  DYAR  YAR   DVOA    VOA  EYds    DPI  YEAR\n",
       "0   M.Wallace  PIT   458  445  49.0%  47.2%  1280   1/38  2010\n",
       "1     B.Lloyd  DEN   415  402  20.1%  19.1%  1642  8/139  2010\n",
       "2  G.Jennings   GB   328  327  19.4%  19.4%  1315   2/16  2010\n",
       "3     R.White  ATL   303  299   8.9%   8.7%  1590   2/27  2010\n",
       "4   A.Johnson  HOU   281  242  12.9%   9.3%  1309   3/32  2010"
      ]
     },
     "execution_count": 51,
     "metadata": {},
     "output_type": "execute_result"
    }
   ],
   "source": [
    "adv_stats.head()"
   ]
  },
  {
   "cell_type": "markdown",
   "metadata": {},
   "source": [
    "### Feature Types\n",
    "The typing is fairly reasonable, however both `DVOA` as well as `VOA` will need to be changed to floats. `DPI`, which is formatted in *number of penalties/yards*, will most likely need to be split up into two different columns. Additionally the `Player` column is formatted VERY differently from the other two datasets, going with a *firstinitial.lastname* format. This will most likely require the other datasets to be changed to this format, and instead of merging purely on name, merging on name and team."
   ]
  },
  {
   "cell_type": "code",
   "execution_count": 52,
   "metadata": {
    "scrolled": true
   },
   "outputs": [
    {
     "data": {
      "text/plain": [
       "Player    object\n",
       "Team      object\n",
       "DYAR       int64\n",
       "YAR        int64\n",
       "DVOA      object\n",
       "VOA       object\n",
       "EYds       int64\n",
       "DPI       object\n",
       "YEAR       int64\n",
       "dtype: object"
      ]
     },
     "execution_count": 52,
     "metadata": {},
     "output_type": "execute_result"
    }
   ],
   "source": [
    "adv_stats.dtypes"
   ]
  },
  {
   "cell_type": "markdown",
   "metadata": {},
   "source": [
    "### Missingness\n",
    "There seem to be no missing entries for this dataset, which is in line with initial assumptions."
   ]
  },
  {
   "cell_type": "code",
   "execution_count": 53,
   "metadata": {},
   "outputs": [
    {
     "data": {
      "text/plain": [
       "Player    0.0\n",
       "Team      0.0\n",
       "DYAR      0.0\n",
       "YAR       0.0\n",
       "DVOA      0.0\n",
       "VOA       0.0\n",
       "EYds      0.0\n",
       "DPI       0.0\n",
       "YEAR      0.0\n",
       "dtype: float64"
      ]
     },
     "execution_count": 53,
     "metadata": {},
     "output_type": "execute_result"
    }
   ],
   "source": [
    "adv_stats.isnull().mean()"
   ]
  },
  {
   "cell_type": "markdown",
   "metadata": {},
   "source": [
    "### Distribution of Categorical Features"
   ]
  },
  {
   "cell_type": "markdown",
   "metadata": {},
   "source": [
    "#### Team\n",
    "Team has a slightly different encoding than the other datasets, as well as being slightly inconsistent. When specifically comparing the encodings between this dataset and the previous two, it can be seen that some edits to the encodings will be required for certain teams."
   ]
  },
  {
   "cell_type": "code",
   "execution_count": 54,
   "metadata": {},
   "outputs": [
    {
     "data": {
      "text/plain": [
       "38"
      ]
     },
     "execution_count": 54,
     "metadata": {},
     "output_type": "execute_result"
    }
   ],
   "source": [
    "adv_stats['Team'].nunique()"
   ]
  },
  {
   "cell_type": "code",
   "execution_count": 55,
   "metadata": {},
   "outputs": [
    {
     "data": {
      "text/plain": [
       "CLE     55\n",
       "KC      53\n",
       "PIT     52\n",
       "WAS     52\n",
       "NYJ     51\n",
       "CIN     51\n",
       "MIN     50\n",
       "GB      50\n",
       "SF      50\n",
       "NYG     49\n",
       "CHI     49\n",
       "ARI     49\n",
       "OAK     49\n",
       "TEN     48\n",
       "BUF     48\n",
       "NO      47\n",
       "MIA     47\n",
       "DEN     46\n",
       "ATL     46\n",
       "HOU     46\n",
       "PHI     46\n",
       "BAL     46\n",
       "IND     45\n",
       "SEA     45\n",
       "TB      45\n",
       "JAC     44\n",
       "DAL     44\n",
       "DET     43\n",
       "CAR     42\n",
       "NE      42\n",
       "2TM     36\n",
       "STL     33\n",
       "SD      32\n",
       "LARM    10\n",
       "LAR      8\n",
       "JAX      8\n",
       "LAC      8\n",
       "LACH     4\n",
       "Name: Team, dtype: int64"
      ]
     },
     "execution_count": 55,
     "metadata": {},
     "output_type": "execute_result"
    }
   ],
   "source": [
    "adv_stats['Team'].value_counts()"
   ]
  },
  {
   "cell_type": "code",
   "execution_count": 56,
   "metadata": {},
   "outputs": [
    {
     "data": {
      "text/plain": [
       "{'GNB', 'KAN', 'NOR', 'NWE', 'SDG', 'SFO', 'TAM'}"
      ]
     },
     "execution_count": 56,
     "metadata": {},
     "output_type": "execute_result"
    }
   ],
   "source": [
    "set(receivers['Tm']) - set(adv_stats['Team'])"
   ]
  },
  {
   "cell_type": "code",
   "execution_count": 57,
   "metadata": {},
   "outputs": [
    {
     "data": {
      "text/plain": [
       "{'2TM', 'GB', 'JAC', 'KC', 'LACH', 'LARM', 'NE', 'NO', 'SD', 'SF', 'TB'}"
      ]
     },
     "execution_count": 57,
     "metadata": {},
     "output_type": "execute_result"
    }
   ],
   "source": [
    "set(adv_stats['Team']) - set(receivers['Tm'])"
   ]
  },
  {
   "cell_type": "markdown",
   "metadata": {},
   "source": [
    "### Distribution of Numeric Features"
   ]
  },
  {
   "cell_type": "markdown",
   "metadata": {},
   "source": [
    "#### DYAR (Defense-adjusted Yards Above Replacement)\n",
    "DYAR has a fairly normal distribution with a peak in the 0-100 bin. It has a few outliers at the high end, with star players such as Calvin Johnson, Jordy Nelson, Antonio Brown, and Michael Thomas, and one outlier on the low end in Tavon Austin."
   ]
  },
  {
   "cell_type": "code",
   "execution_count": 58,
   "metadata": {},
   "outputs": [
    {
     "data": {
      "image/png": "[encoded data removed]",
      "text/plain": [
       "<Figure size 612x396 with 1 Axes>"
      ]
     },
     "metadata": {},
     "output_type": "display_data"
    }
   ],
   "source": [
    "eda_viz.dyar_distribution(savefig = True)"
   ]
  },
  {
   "cell_type": "code",
   "execution_count": 59,
   "metadata": {},
   "outputs": [
    {
     "data": {
      "text/html": [
       "<div>\n",
       "<style scoped>\n",
       "    .dataframe tbody tr th:only-of-type {\n",
       "        vertical-align: middle;\n",
       "    }\n",
       "\n",
       "    .dataframe tbody tr th {\n",
       "        vertical-align: top;\n",
       "    }\n",
       "\n",
       "    .dataframe thead th {\n",
       "        text-align: right;\n",
       "    }\n",
       "</style>\n",
       "<table border=\"1\" class=\"dataframe\">\n",
       "  <thead>\n",
       "    <tr style=\"text-align: right;\">\n",
       "      <th></th>\n",
       "      <th>Player</th>\n",
       "      <th>Team</th>\n",
       "      <th>DYAR</th>\n",
       "      <th>YAR</th>\n",
       "      <th>DVOA</th>\n",
       "      <th>VOA</th>\n",
       "      <th>EYds</th>\n",
       "      <th>DPI</th>\n",
       "      <th>YEAR</th>\n",
       "    </tr>\n",
       "  </thead>\n",
       "  <tbody>\n",
       "    <tr>\n",
       "      <td>146</td>\n",
       "      <td>C.Johnson</td>\n",
       "      <td>DET</td>\n",
       "      <td>570</td>\n",
       "      <td>577</td>\n",
       "      <td>31.9%</td>\n",
       "      <td>32.5%</td>\n",
       "      <td>1881</td>\n",
       "      <td>3/67</td>\n",
       "      <td>2011</td>\n",
       "    </tr>\n",
       "    <tr>\n",
       "      <td>147</td>\n",
       "      <td>J.Nelson</td>\n",
       "      <td>GB</td>\n",
       "      <td>517</td>\n",
       "      <td>525</td>\n",
       "      <td>52.5%</td>\n",
       "      <td>53.5%</td>\n",
       "      <td>1408</td>\n",
       "      <td>2/40</td>\n",
       "      <td>2011</td>\n",
       "    </tr>\n",
       "    <tr>\n",
       "      <td>603</td>\n",
       "      <td>A.Brown</td>\n",
       "      <td>PIT</td>\n",
       "      <td>554</td>\n",
       "      <td>525</td>\n",
       "      <td>25.7%</td>\n",
       "      <td>23.7%</td>\n",
       "      <td>1992</td>\n",
       "      <td>5/97</td>\n",
       "      <td>2014</td>\n",
       "    </tr>\n",
       "    <tr>\n",
       "      <td>762</td>\n",
       "      <td>A.Brown</td>\n",
       "      <td>PIT</td>\n",
       "      <td>517</td>\n",
       "      <td>490</td>\n",
       "      <td>19.7%</td>\n",
       "      <td>18.0%</td>\n",
       "      <td>2061</td>\n",
       "      <td>7/196</td>\n",
       "      <td>2015</td>\n",
       "    </tr>\n",
       "    <tr>\n",
       "      <td>1402</td>\n",
       "      <td>M.Thomas</td>\n",
       "      <td>NO</td>\n",
       "      <td>538</td>\n",
       "      <td>537</td>\n",
       "      <td>23.9%</td>\n",
       "      <td>23.8%</td>\n",
       "      <td>1993</td>\n",
       "      <td>3/46</td>\n",
       "      <td>2019</td>\n",
       "    </tr>\n",
       "  </tbody>\n",
       "</table>\n",
       "</div>"
      ],
      "text/plain": [
       "         Player Team  DYAR  YAR   DVOA    VOA  EYds    DPI  YEAR\n",
       "146   C.Johnson  DET   570  577  31.9%  32.5%  1881   3/67  2011\n",
       "147    J.Nelson   GB   517  525  52.5%  53.5%  1408   2/40  2011\n",
       "603     A.Brown  PIT   554  525  25.7%  23.7%  1992   5/97  2014\n",
       "762     A.Brown  PIT   517  490  19.7%  18.0%  2061  7/196  2015\n",
       "1402   M.Thomas   NO   538  537  23.9%  23.8%  1993   3/46  2019"
      ]
     },
     "execution_count": 59,
     "metadata": {},
     "output_type": "execute_result"
    }
   ],
   "source": [
    "adv_stats[adv_stats['DYAR'] >= 500]"
   ]
  },
  {
   "cell_type": "code",
   "execution_count": 60,
   "metadata": {},
   "outputs": [
    {
     "data": {
      "text/html": [
       "<div>\n",
       "<style scoped>\n",
       "    .dataframe tbody tr th:only-of-type {\n",
       "        vertical-align: middle;\n",
       "    }\n",
       "\n",
       "    .dataframe tbody tr th {\n",
       "        vertical-align: top;\n",
       "    }\n",
       "\n",
       "    .dataframe thead th {\n",
       "        text-align: right;\n",
       "    }\n",
       "</style>\n",
       "<table border=\"1\" class=\"dataframe\">\n",
       "  <thead>\n",
       "    <tr style=\"text-align: right;\">\n",
       "      <th></th>\n",
       "      <th>Player</th>\n",
       "      <th>Team</th>\n",
       "      <th>DYAR</th>\n",
       "      <th>YAR</th>\n",
       "      <th>DVOA</th>\n",
       "      <th>VOA</th>\n",
       "      <th>EYds</th>\n",
       "      <th>DPI</th>\n",
       "      <th>YEAR</th>\n",
       "    </tr>\n",
       "  </thead>\n",
       "  <tbody>\n",
       "    <tr>\n",
       "      <td>1018</td>\n",
       "      <td>T.Austin</td>\n",
       "      <td>LARM</td>\n",
       "      <td>-219</td>\n",
       "      <td>-199</td>\n",
       "      <td>-39.1%</td>\n",
       "      <td>-36.6%</td>\n",
       "      <td>352</td>\n",
       "      <td>2/43</td>\n",
       "      <td>2016</td>\n",
       "    </tr>\n",
       "  </tbody>\n",
       "</table>\n",
       "</div>"
      ],
      "text/plain": [
       "        Player  Team  DYAR  YAR    DVOA     VOA  EYds   DPI  YEAR\n",
       "1018  T.Austin  LARM  -219 -199  -39.1%  -36.6%   352  2/43  2016"
      ]
     },
     "execution_count": 60,
     "metadata": {},
     "output_type": "execute_result"
    }
   ],
   "source": [
    "adv_stats[adv_stats['DYAR'] < -200]"
   ]
  },
  {
   "cell_type": "markdown",
   "metadata": {},
   "source": [
    "#### YAR (Yards Above Replacement)\n",
    "YAR has a similarly shaped distribution as DYAR (with a peak again in the 0-100 bin), which is to be expected as it is essentially the same statistic, except not accounting for the defenses played. Something interesting to note, however, is that Tavon Austin does not appear as an extremely low outlier, as he most likely played fairly poorly, but his performance was even worse when taking into account his opponents. Additionally, Randall Cobb appears as a high outlier where he didn't in terms of DYAR, and an Antonio Brown season does not when he did in terms of DYAR."
   ]
  },
  {
   "cell_type": "code",
   "execution_count": 61,
   "metadata": {},
   "outputs": [
    {
     "data": {
      "image/png": "[encoded data removed]",
      "text/plain": [
       "<Figure size 612x396 with 1 Axes>"
      ]
     },
     "metadata": {},
     "output_type": "display_data"
    }
   ],
   "source": [
    "eda_viz.yar_distribution(savefig = True)"
   ]
  },
  {
   "cell_type": "code",
   "execution_count": 62,
   "metadata": {},
   "outputs": [
    {
     "data": {
      "text/html": [
       "<div>\n",
       "<style scoped>\n",
       "    .dataframe tbody tr th:only-of-type {\n",
       "        vertical-align: middle;\n",
       "    }\n",
       "\n",
       "    .dataframe tbody tr th {\n",
       "        vertical-align: top;\n",
       "    }\n",
       "\n",
       "    .dataframe thead th {\n",
       "        text-align: right;\n",
       "    }\n",
       "</style>\n",
       "<table border=\"1\" class=\"dataframe\">\n",
       "  <thead>\n",
       "    <tr style=\"text-align: right;\">\n",
       "      <th></th>\n",
       "      <th>Player</th>\n",
       "      <th>Team</th>\n",
       "      <th>DYAR</th>\n",
       "      <th>YAR</th>\n",
       "      <th>DVOA</th>\n",
       "      <th>VOA</th>\n",
       "      <th>EYds</th>\n",
       "      <th>DPI</th>\n",
       "      <th>YEAR</th>\n",
       "    </tr>\n",
       "  </thead>\n",
       "  <tbody>\n",
       "    <tr>\n",
       "      <td>146</td>\n",
       "      <td>C.Johnson</td>\n",
       "      <td>DET</td>\n",
       "      <td>570</td>\n",
       "      <td>577</td>\n",
       "      <td>31.9%</td>\n",
       "      <td>32.5%</td>\n",
       "      <td>1881</td>\n",
       "      <td>3/67</td>\n",
       "      <td>2011</td>\n",
       "    </tr>\n",
       "    <tr>\n",
       "      <td>147</td>\n",
       "      <td>J.Nelson</td>\n",
       "      <td>GB</td>\n",
       "      <td>517</td>\n",
       "      <td>525</td>\n",
       "      <td>52.5%</td>\n",
       "      <td>53.5%</td>\n",
       "      <td>1408</td>\n",
       "      <td>2/40</td>\n",
       "      <td>2011</td>\n",
       "    </tr>\n",
       "    <tr>\n",
       "      <td>603</td>\n",
       "      <td>A.Brown</td>\n",
       "      <td>PIT</td>\n",
       "      <td>554</td>\n",
       "      <td>525</td>\n",
       "      <td>25.7%</td>\n",
       "      <td>23.7%</td>\n",
       "      <td>1992</td>\n",
       "      <td>5/97</td>\n",
       "      <td>2014</td>\n",
       "    </tr>\n",
       "    <tr>\n",
       "      <td>606</td>\n",
       "      <td>R.Cobb</td>\n",
       "      <td>GB</td>\n",
       "      <td>479</td>\n",
       "      <td>501</td>\n",
       "      <td>35.7%</td>\n",
       "      <td>37.8%</td>\n",
       "      <td>1514</td>\n",
       "      <td>1/44</td>\n",
       "      <td>2014</td>\n",
       "    </tr>\n",
       "    <tr>\n",
       "      <td>1402</td>\n",
       "      <td>M.Thomas</td>\n",
       "      <td>NO</td>\n",
       "      <td>538</td>\n",
       "      <td>537</td>\n",
       "      <td>23.9%</td>\n",
       "      <td>23.8%</td>\n",
       "      <td>1993</td>\n",
       "      <td>3/46</td>\n",
       "      <td>2019</td>\n",
       "    </tr>\n",
       "  </tbody>\n",
       "</table>\n",
       "</div>"
      ],
      "text/plain": [
       "         Player Team  DYAR  YAR   DVOA    VOA  EYds   DPI  YEAR\n",
       "146   C.Johnson  DET   570  577  31.9%  32.5%  1881  3/67  2011\n",
       "147    J.Nelson   GB   517  525  52.5%  53.5%  1408  2/40  2011\n",
       "603     A.Brown  PIT   554  525  25.7%  23.7%  1992  5/97  2014\n",
       "606      R.Cobb   GB   479  501  35.7%  37.8%  1514  1/44  2014\n",
       "1402   M.Thomas   NO   538  537  23.9%  23.8%  1993  3/46  2019"
      ]
     },
     "execution_count": 62,
     "metadata": {},
     "output_type": "execute_result"
    }
   ],
   "source": [
    "adv_stats[adv_stats['YAR'] >= 500]"
   ]
  },
  {
   "cell_type": "markdown",
   "metadata": {},
   "source": [
    "#### DVOA (Defense-adjusted Value Over Average)\n",
    "DVOA displays a normal distribution (peak in the -10-0 bin), with outliers on both ends. On the upper end, there are receivers with seemingly small sample sizes (based on their EYds numbers), in Kelley Washington and Marvin Hall. On the lower end of the spectrum, Stanley Morgan has the lowest DVOA, but not by as big of a gap. "
   ]
  },
  {
   "cell_type": "code",
   "execution_count": 63,
   "metadata": {},
   "outputs": [
    {
     "data": {
      "image/png": "[encoded data removed]",
      "text/plain": [
       "<Figure size 612x396 with 1 Axes>"
      ]
     },
     "metadata": {},
     "output_type": "display_data"
    }
   ],
   "source": [
    "eda_viz.dvoa_distribution(savefig = True)"
   ]
  },
  {
   "cell_type": "code",
   "execution_count": 64,
   "metadata": {},
   "outputs": [
    {
     "data": {
      "text/html": [
       "<div>\n",
       "<style scoped>\n",
       "    .dataframe tbody tr th:only-of-type {\n",
       "        vertical-align: middle;\n",
       "    }\n",
       "\n",
       "    .dataframe tbody tr th {\n",
       "        vertical-align: top;\n",
       "    }\n",
       "\n",
       "    .dataframe thead th {\n",
       "        text-align: right;\n",
       "    }\n",
       "</style>\n",
       "<table border=\"1\" class=\"dataframe\">\n",
       "  <thead>\n",
       "    <tr style=\"text-align: right;\">\n",
       "      <th></th>\n",
       "      <th>Player</th>\n",
       "      <th>Team</th>\n",
       "      <th>DYAR</th>\n",
       "      <th>YAR</th>\n",
       "      <th>DVOA</th>\n",
       "      <th>VOA</th>\n",
       "      <th>EYds</th>\n",
       "      <th>DPI</th>\n",
       "      <th>YEAR</th>\n",
       "    </tr>\n",
       "  </thead>\n",
       "  <tbody>\n",
       "    <tr>\n",
       "      <td>90</td>\n",
       "      <td>K.Washington</td>\n",
       "      <td>SD</td>\n",
       "      <td>96</td>\n",
       "      <td>97</td>\n",
       "      <td>80.7%</td>\n",
       "      <td>81.4%</td>\n",
       "      <td>226</td>\n",
       "      <td>0/0</td>\n",
       "      <td>2010</td>\n",
       "    </tr>\n",
       "    <tr>\n",
       "      <td>1489</td>\n",
       "      <td>M.Hall</td>\n",
       "      <td>DET</td>\n",
       "      <td>98</td>\n",
       "      <td>101</td>\n",
       "      <td>108.2%</td>\n",
       "      <td>112.1%</td>\n",
       "      <td>211</td>\n",
       "      <td>0/0</td>\n",
       "      <td>2019</td>\n",
       "    </tr>\n",
       "  </tbody>\n",
       "</table>\n",
       "</div>"
      ],
      "text/plain": [
       "            Player Team  DYAR  YAR    DVOA     VOA  EYds  DPI  YEAR\n",
       "90    K.Washington   SD    96   97   80.7%   81.4%   226  0/0  2010\n",
       "1489        M.Hall  DET    98  101  108.2%  112.1%   211  0/0  2019"
      ]
     },
     "execution_count": 64,
     "metadata": {},
     "output_type": "execute_result"
    }
   ],
   "source": [
    "adv_stats[pd.to_numeric(adv_stats['DVOA'].str.replace('%', '')) >= 80]"
   ]
  },
  {
   "cell_type": "code",
   "execution_count": 65,
   "metadata": {},
   "outputs": [
    {
     "data": {
      "text/html": [
       "<div>\n",
       "<style scoped>\n",
       "    .dataframe tbody tr th:only-of-type {\n",
       "        vertical-align: middle;\n",
       "    }\n",
       "\n",
       "    .dataframe tbody tr th {\n",
       "        vertical-align: top;\n",
       "    }\n",
       "\n",
       "    .dataframe thead th {\n",
       "        text-align: right;\n",
       "    }\n",
       "</style>\n",
       "<table border=\"1\" class=\"dataframe\">\n",
       "  <thead>\n",
       "    <tr style=\"text-align: right;\">\n",
       "      <th></th>\n",
       "      <th>Player</th>\n",
       "      <th>Team</th>\n",
       "      <th>DYAR</th>\n",
       "      <th>YAR</th>\n",
       "      <th>DVOA</th>\n",
       "      <th>VOA</th>\n",
       "      <th>EYds</th>\n",
       "      <th>DPI</th>\n",
       "      <th>YEAR</th>\n",
       "    </tr>\n",
       "  </thead>\n",
       "  <tbody>\n",
       "    <tr>\n",
       "      <td>1560</td>\n",
       "      <td>S.Morgan</td>\n",
       "      <td>CIN</td>\n",
       "      <td>-53</td>\n",
       "      <td>-55</td>\n",
       "      <td>-82.5%</td>\n",
       "      <td>-86.1%</td>\n",
       "      <td>-16</td>\n",
       "      <td>0/0</td>\n",
       "      <td>2019</td>\n",
       "    </tr>\n",
       "  </tbody>\n",
       "</table>\n",
       "</div>"
      ],
      "text/plain": [
       "        Player Team  DYAR  YAR    DVOA     VOA  EYds  DPI  YEAR\n",
       "1560  S.Morgan  CIN   -53  -55  -82.5%  -86.1%   -16  0/0  2019"
      ]
     },
     "execution_count": 65,
     "metadata": {},
     "output_type": "execute_result"
    }
   ],
   "source": [
    "adv_stats[pd.to_numeric(adv_stats['DVOA'].str.replace('%', '')) < -80]"
   ]
  },
  {
   "cell_type": "markdown",
   "metadata": {},
   "source": [
    "#### VOA (Value Over Average)\n",
    "VOA follows the same distribution pattern as DVOA as expected (peak in the -20-0 bin), with slightly more spread, but with the same upper outliers as DVOA. However, the lower outliers, in addition to Stanley Morgan, Donte Moncrief and Travis Benjamin also make an appearance, receivers with much larger names than Morgan."
   ]
  },
  {
   "cell_type": "code",
   "execution_count": 66,
   "metadata": {},
   "outputs": [
    {
     "data": {
      "image/png": "[encoded data removed]",
      "text/plain": [
       "<Figure size 612x396 with 1 Axes>"
      ]
     },
     "metadata": {},
     "output_type": "display_data"
    }
   ],
   "source": [
    "eda_viz.voa_distribution(savefig = True)"
   ]
  },
  {
   "cell_type": "code",
   "execution_count": 67,
   "metadata": {},
   "outputs": [
    {
     "data": {
      "text/html": [
       "<div>\n",
       "<style scoped>\n",
       "    .dataframe tbody tr th:only-of-type {\n",
       "        vertical-align: middle;\n",
       "    }\n",
       "\n",
       "    .dataframe tbody tr th {\n",
       "        vertical-align: top;\n",
       "    }\n",
       "\n",
       "    .dataframe thead th {\n",
       "        text-align: right;\n",
       "    }\n",
       "</style>\n",
       "<table border=\"1\" class=\"dataframe\">\n",
       "  <thead>\n",
       "    <tr style=\"text-align: right;\">\n",
       "      <th></th>\n",
       "      <th>Player</th>\n",
       "      <th>Team</th>\n",
       "      <th>DYAR</th>\n",
       "      <th>YAR</th>\n",
       "      <th>DVOA</th>\n",
       "      <th>VOA</th>\n",
       "      <th>EYds</th>\n",
       "      <th>DPI</th>\n",
       "      <th>YEAR</th>\n",
       "    </tr>\n",
       "  </thead>\n",
       "  <tbody>\n",
       "    <tr>\n",
       "      <td>90</td>\n",
       "      <td>K.Washington</td>\n",
       "      <td>SD</td>\n",
       "      <td>96</td>\n",
       "      <td>97</td>\n",
       "      <td>80.7%</td>\n",
       "      <td>81.4%</td>\n",
       "      <td>226</td>\n",
       "      <td>0/0</td>\n",
       "      <td>2010</td>\n",
       "    </tr>\n",
       "    <tr>\n",
       "      <td>1489</td>\n",
       "      <td>M.Hall</td>\n",
       "      <td>DET</td>\n",
       "      <td>98</td>\n",
       "      <td>101</td>\n",
       "      <td>108.2%</td>\n",
       "      <td>112.1%</td>\n",
       "      <td>211</td>\n",
       "      <td>0/0</td>\n",
       "      <td>2019</td>\n",
       "    </tr>\n",
       "  </tbody>\n",
       "</table>\n",
       "</div>"
      ],
      "text/plain": [
       "            Player Team  DYAR  YAR    DVOA     VOA  EYds  DPI  YEAR\n",
       "90    K.Washington   SD    96   97   80.7%   81.4%   226  0/0  2010\n",
       "1489        M.Hall  DET    98  101  108.2%  112.1%   211  0/0  2019"
      ]
     },
     "execution_count": 67,
     "metadata": {},
     "output_type": "execute_result"
    }
   ],
   "source": [
    "adv_stats[pd.to_numeric(adv_stats['VOA'].str.replace('%', '')) >= 80]"
   ]
  },
  {
   "cell_type": "code",
   "execution_count": 68,
   "metadata": {},
   "outputs": [
    {
     "data": {
      "text/html": [
       "<div>\n",
       "<style scoped>\n",
       "    .dataframe tbody tr th:only-of-type {\n",
       "        vertical-align: middle;\n",
       "    }\n",
       "\n",
       "    .dataframe tbody tr th {\n",
       "        vertical-align: top;\n",
       "    }\n",
       "\n",
       "    .dataframe thead th {\n",
       "        text-align: right;\n",
       "    }\n",
       "</style>\n",
       "<table border=\"1\" class=\"dataframe\">\n",
       "  <thead>\n",
       "    <tr style=\"text-align: right;\">\n",
       "      <th></th>\n",
       "      <th>Player</th>\n",
       "      <th>Team</th>\n",
       "      <th>DYAR</th>\n",
       "      <th>YAR</th>\n",
       "      <th>DVOA</th>\n",
       "      <th>VOA</th>\n",
       "      <th>EYds</th>\n",
       "      <th>DPI</th>\n",
       "      <th>YEAR</th>\n",
       "    </tr>\n",
       "  </thead>\n",
       "  <tbody>\n",
       "    <tr>\n",
       "      <td>1560</td>\n",
       "      <td>S.Morgan</td>\n",
       "      <td>CIN</td>\n",
       "      <td>-53</td>\n",
       "      <td>-55</td>\n",
       "      <td>-82.5%</td>\n",
       "      <td>-86.1%</td>\n",
       "      <td>-16</td>\n",
       "      <td>0/0</td>\n",
       "      <td>2019</td>\n",
       "    </tr>\n",
       "    <tr>\n",
       "      <td>1562</td>\n",
       "      <td>D.Moncrief</td>\n",
       "      <td>PIT</td>\n",
       "      <td>-71</td>\n",
       "      <td>-89</td>\n",
       "      <td>-76.3%</td>\n",
       "      <td>-91.9%</td>\n",
       "      <td>-14</td>\n",
       "      <td>0/0</td>\n",
       "      <td>2019</td>\n",
       "    </tr>\n",
       "    <tr>\n",
       "      <td>1564</td>\n",
       "      <td>T.Benjamin</td>\n",
       "      <td>LAC</td>\n",
       "      <td>-84</td>\n",
       "      <td>-87</td>\n",
       "      <td>-78.9%</td>\n",
       "      <td>-81.5%</td>\n",
       "      <td>-21</td>\n",
       "      <td>0/0</td>\n",
       "      <td>2019</td>\n",
       "    </tr>\n",
       "  </tbody>\n",
       "</table>\n",
       "</div>"
      ],
      "text/plain": [
       "          Player Team  DYAR  YAR    DVOA     VOA  EYds  DPI  YEAR\n",
       "1560    S.Morgan  CIN   -53  -55  -82.5%  -86.1%   -16  0/0  2019\n",
       "1562  D.Moncrief  PIT   -71  -89  -76.3%  -91.9%   -14  0/0  2019\n",
       "1564  T.Benjamin  LAC   -84  -87  -78.9%  -81.5%   -21  0/0  2019"
      ]
     },
     "execution_count": 68,
     "metadata": {},
     "output_type": "execute_result"
    }
   ],
   "source": [
    "adv_stats[pd.to_numeric(adv_stats['VOA'].str.replace('%', '')) < -80]"
   ]
  },
  {
   "cell_type": "markdown",
   "metadata": {},
   "source": [
    "#### Effective Yards\n",
    "EYds has an inverse distribution (peak in the 0-250 bin), with a very small amount of negative entries. In terms of outliers on the high end, elite receivers Antonio Brown and Calvin Johnson make an appearance."
   ]
  },
  {
   "cell_type": "code",
   "execution_count": 69,
   "metadata": {},
   "outputs": [
    {
     "data": {
      "image/png": "[encoded data removed]",
      "text/plain": [
       "<Figure size 612x396 with 1 Axes>"
      ]
     },
     "metadata": {},
     "output_type": "display_data"
    }
   ],
   "source": [
    "eda_viz.eyds_distribution(savefig = True)"
   ]
  },
  {
   "cell_type": "code",
   "execution_count": 70,
   "metadata": {},
   "outputs": [
    {
     "data": {
      "text/html": [
       "<div>\n",
       "<style scoped>\n",
       "    .dataframe tbody tr th:only-of-type {\n",
       "        vertical-align: middle;\n",
       "    }\n",
       "\n",
       "    .dataframe tbody tr th {\n",
       "        vertical-align: top;\n",
       "    }\n",
       "\n",
       "    .dataframe thead th {\n",
       "        text-align: right;\n",
       "    }\n",
       "</style>\n",
       "<table border=\"1\" class=\"dataframe\">\n",
       "  <thead>\n",
       "    <tr style=\"text-align: right;\">\n",
       "      <th></th>\n",
       "      <th>Player</th>\n",
       "      <th>Team</th>\n",
       "      <th>DYAR</th>\n",
       "      <th>YAR</th>\n",
       "      <th>DVOA</th>\n",
       "      <th>VOA</th>\n",
       "      <th>EYds</th>\n",
       "      <th>DPI</th>\n",
       "      <th>YEAR</th>\n",
       "    </tr>\n",
       "  </thead>\n",
       "  <tbody>\n",
       "    <tr>\n",
       "      <td>295</td>\n",
       "      <td>C.Johnson</td>\n",
       "      <td>DET</td>\n",
       "      <td>451</td>\n",
       "      <td>437</td>\n",
       "      <td>14.7%</td>\n",
       "      <td>13.8%</td>\n",
       "      <td>2008</td>\n",
       "      <td>5/102</td>\n",
       "      <td>2012</td>\n",
       "    </tr>\n",
       "    <tr>\n",
       "      <td>762</td>\n",
       "      <td>A.Brown</td>\n",
       "      <td>PIT</td>\n",
       "      <td>517</td>\n",
       "      <td>490</td>\n",
       "      <td>19.7%</td>\n",
       "      <td>18.0%</td>\n",
       "      <td>2061</td>\n",
       "      <td>7/196</td>\n",
       "      <td>2015</td>\n",
       "    </tr>\n",
       "  </tbody>\n",
       "</table>\n",
       "</div>"
      ],
      "text/plain": [
       "        Player Team  DYAR  YAR   DVOA    VOA  EYds    DPI  YEAR\n",
       "295  C.Johnson  DET   451  437  14.7%  13.8%  2008  5/102  2012\n",
       "762    A.Brown  PIT   517  490  19.7%  18.0%  2061  7/196  2015"
      ]
     },
     "execution_count": 70,
     "metadata": {},
     "output_type": "execute_result"
    }
   ],
   "source": [
    "adv_stats[adv_stats['EYds'] >= 2000]"
   ]
  },
  {
   "cell_type": "code",
   "execution_count": 71,
   "metadata": {},
   "outputs": [
    {
     "data": {
      "text/html": [
       "<div>\n",
       "<style scoped>\n",
       "    .dataframe tbody tr th:only-of-type {\n",
       "        vertical-align: middle;\n",
       "    }\n",
       "\n",
       "    .dataframe tbody tr th {\n",
       "        vertical-align: top;\n",
       "    }\n",
       "\n",
       "    .dataframe thead th {\n",
       "        text-align: right;\n",
       "    }\n",
       "</style>\n",
       "<table border=\"1\" class=\"dataframe\">\n",
       "  <thead>\n",
       "    <tr style=\"text-align: right;\">\n",
       "      <th></th>\n",
       "      <th>Player</th>\n",
       "      <th>Team</th>\n",
       "      <th>DYAR</th>\n",
       "      <th>YAR</th>\n",
       "      <th>DVOA</th>\n",
       "      <th>VOA</th>\n",
       "      <th>EYds</th>\n",
       "      <th>DPI</th>\n",
       "      <th>YEAR</th>\n",
       "    </tr>\n",
       "  </thead>\n",
       "  <tbody>\n",
       "    <tr>\n",
       "      <td>281</td>\n",
       "      <td>C.Hall</td>\n",
       "      <td>PHI</td>\n",
       "      <td>-40</td>\n",
       "      <td>-36</td>\n",
       "      <td>-70.0%</td>\n",
       "      <td>-64.4%</td>\n",
       "      <td>-2</td>\n",
       "      <td>0/0</td>\n",
       "      <td>2011</td>\n",
       "    </tr>\n",
       "    <tr>\n",
       "      <td>286</td>\n",
       "      <td>C.Gates</td>\n",
       "      <td>MIA</td>\n",
       "      <td>-55</td>\n",
       "      <td>-57</td>\n",
       "      <td>-74.8%</td>\n",
       "      <td>-77.8%</td>\n",
       "      <td>-9</td>\n",
       "      <td>0/0</td>\n",
       "      <td>2011</td>\n",
       "    </tr>\n",
       "    <tr>\n",
       "      <td>755</td>\n",
       "      <td>D.Archer</td>\n",
       "      <td>PIT</td>\n",
       "      <td>-45</td>\n",
       "      <td>-47</td>\n",
       "      <td>-74.0%</td>\n",
       "      <td>-75.8%</td>\n",
       "      <td>-7</td>\n",
       "      <td>0/0</td>\n",
       "      <td>2014</td>\n",
       "    </tr>\n",
       "    <tr>\n",
       "      <td>761</td>\n",
       "      <td>D.Nelson</td>\n",
       "      <td>NYJ</td>\n",
       "      <td>-76</td>\n",
       "      <td>-71</td>\n",
       "      <td>-74.4%</td>\n",
       "      <td>-70.8%</td>\n",
       "      <td>-12</td>\n",
       "      <td>0/0</td>\n",
       "      <td>2014</td>\n",
       "    </tr>\n",
       "    <tr>\n",
       "      <td>1237</td>\n",
       "      <td>T.Austin</td>\n",
       "      <td>LARM</td>\n",
       "      <td>-99</td>\n",
       "      <td>-98</td>\n",
       "      <td>-68.2%</td>\n",
       "      <td>-67.9%</td>\n",
       "      <td>-1</td>\n",
       "      <td>0/0</td>\n",
       "      <td>2017</td>\n",
       "    </tr>\n",
       "    <tr>\n",
       "      <td>1239</td>\n",
       "      <td>B.Perriman</td>\n",
       "      <td>BAL</td>\n",
       "      <td>-158</td>\n",
       "      <td>-150</td>\n",
       "      <td>-71.8%</td>\n",
       "      <td>-68.6%</td>\n",
       "      <td>-16</td>\n",
       "      <td>0/0</td>\n",
       "      <td>2017</td>\n",
       "    </tr>\n",
       "    <tr>\n",
       "      <td>1560</td>\n",
       "      <td>S.Morgan</td>\n",
       "      <td>CIN</td>\n",
       "      <td>-53</td>\n",
       "      <td>-55</td>\n",
       "      <td>-82.5%</td>\n",
       "      <td>-86.1%</td>\n",
       "      <td>-16</td>\n",
       "      <td>0/0</td>\n",
       "      <td>2019</td>\n",
       "    </tr>\n",
       "    <tr>\n",
       "      <td>1562</td>\n",
       "      <td>D.Moncrief</td>\n",
       "      <td>PIT</td>\n",
       "      <td>-71</td>\n",
       "      <td>-89</td>\n",
       "      <td>-76.3%</td>\n",
       "      <td>-91.9%</td>\n",
       "      <td>-14</td>\n",
       "      <td>0/0</td>\n",
       "      <td>2019</td>\n",
       "    </tr>\n",
       "    <tr>\n",
       "      <td>1564</td>\n",
       "      <td>T.Benjamin</td>\n",
       "      <td>LAC</td>\n",
       "      <td>-84</td>\n",
       "      <td>-87</td>\n",
       "      <td>-78.9%</td>\n",
       "      <td>-81.5%</td>\n",
       "      <td>-21</td>\n",
       "      <td>0/0</td>\n",
       "      <td>2019</td>\n",
       "    </tr>\n",
       "    <tr>\n",
       "      <td>1566</td>\n",
       "      <td>P.Campbell</td>\n",
       "      <td>IND</td>\n",
       "      <td>-104</td>\n",
       "      <td>-88</td>\n",
       "      <td>-73.4%</td>\n",
       "      <td>-64.4%</td>\n",
       "      <td>-14</td>\n",
       "      <td>0/0</td>\n",
       "      <td>2019</td>\n",
       "    </tr>\n",
       "  </tbody>\n",
       "</table>\n",
       "</div>"
      ],
      "text/plain": [
       "          Player  Team  DYAR  YAR    DVOA     VOA  EYds  DPI  YEAR\n",
       "281       C.Hall   PHI   -40  -36  -70.0%  -64.4%    -2  0/0  2011\n",
       "286      C.Gates   MIA   -55  -57  -74.8%  -77.8%    -9  0/0  2011\n",
       "755     D.Archer   PIT   -45  -47  -74.0%  -75.8%    -7  0/0  2014\n",
       "761     D.Nelson   NYJ   -76  -71  -74.4%  -70.8%   -12  0/0  2014\n",
       "1237    T.Austin  LARM   -99  -98  -68.2%  -67.9%    -1  0/0  2017\n",
       "1239  B.Perriman   BAL  -158 -150  -71.8%  -68.6%   -16  0/0  2017\n",
       "1560    S.Morgan   CIN   -53  -55  -82.5%  -86.1%   -16  0/0  2019\n",
       "1562  D.Moncrief   PIT   -71  -89  -76.3%  -91.9%   -14  0/0  2019\n",
       "1564  T.Benjamin   LAC   -84  -87  -78.9%  -81.5%   -21  0/0  2019\n",
       "1566  P.Campbell   IND  -104  -88  -73.4%  -64.4%   -14  0/0  2019"
      ]
     },
     "execution_count": 71,
     "metadata": {},
     "output_type": "execute_result"
    }
   ],
   "source": [
    "adv_stats[adv_stats['EYds'] < 0]"
   ]
  }
 ],
 "metadata": {
  "kernelspec": {
   "display_name": "Python 3",
   "language": "python",
   "name": "python3"
  },
  "language_info": {
   "codemirror_mode": {
    "name": "ipython",
    "version": 3
   },
   "file_extension": ".py",
   "mimetype": "text/x-python",
   "name": "python",
   "nbconvert_exporter": "python",
   "pygments_lexer": "ipython3",
   "version": "3.7.4"
  }
 },
 "nbformat": 4,
 "nbformat_minor": 2
}
