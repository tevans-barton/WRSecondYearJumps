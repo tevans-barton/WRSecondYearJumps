{
 "cells": [
  {
   "cell_type": "markdown",
   "metadata": {},
   "source": [
    "<div style=\"text-align: right\"> Tommy Evans-Barton </div>\n",
    "<div style=\"text-align: right\"> WR Year 2 Jumps </div>\n",
    "\n",
    "# Data Cleaning Notebook\n",
    "\n",
    "The purpose of this notebook is to give an explanation of both the logic and steps taken in the data cleaning process in preparation for the final analysis. Most of this work will be academic and mainly to explain how the raw data becomes the final data for the analysis (this cleaning does not necessarily need to be understood in order to understand the analysis)."
   ]
  },
  {
   "cell_type": "code",
   "execution_count": null,
   "metadata": {},
   "outputs": [],
   "source": [
    "import os\n",
    "import sys\n",
    "import pandas as pd\n",
    "import numpy as np\n",
    "import json\n",
    "import matplotlib.pyplot as plt"
   ]
  },
  {
   "cell_type": "code",
   "execution_count": null,
   "metadata": {},
   "outputs": [],
   "source": [
    "%load_ext autoreload\n",
    "%autoreload 2"
   ]
  },
  {
   "cell_type": "code",
   "execution_count": null,
   "metadata": {},
   "outputs": [],
   "source": [
    "TOP_PATH = os.environ['PWD']"
   ]
  },
  {
   "cell_type": "code",
   "execution_count": null,
   "metadata": {},
   "outputs": [],
   "source": [
    "sys.path.append(TOP_PATH + '/src')\n",
    "sys.path.append(TOP_PATH + '/src/viz')"
   ]
  },
  {
   "cell_type": "code",
   "execution_count": null,
   "metadata": {},
   "outputs": [],
   "source": [
    "import processing"
   ]
  },
  {
   "cell_type": "code",
   "execution_count": null,
   "metadata": {},
   "outputs": [],
   "source": [
    "receivers = pd.read_csv(TOP_PATH + '/data/raw/RECEIVERS.csv')\n",
    "rec_stats = pd.read_csv(TOP_PATH + '/data/raw/REC_STATS.csv')\n",
    "adv_stats = pd.read_csv(TOP_PATH + '/data/raw/ADV_REC_STATS.csv')"
   ]
  },
  {
   "cell_type": "markdown",
   "metadata": {},
   "source": [
    "## Cleaning Receiver Data\n",
    "- **Removed Position Column**: This column was not necessary as all players were wide receivers\n",
    "- **Altered Player Column**: This column needed to be edited to match the format of the advanced stats name column, as its format is less granular\n",
    "- **Created a First Year and Second Year Column**: Removed the generic YEAR column and replaced it with a First Year and Second Year column for merging in receivers stats later"
   ]
  },
  {
   "cell_type": "code",
   "execution_count": null,
   "metadata": {},
   "outputs": [],
   "source": [
    "receivers"
   ]
  },
  {
   "cell_type": "code",
   "execution_count": null,
   "metadata": {},
   "outputs": [],
   "source": [
    "processing.clean_receivers()"
   ]
  },
  {
   "cell_type": "markdown",
   "metadata": {},
   "source": [
    "## Cleaning Basic Statistics Data\n",
    "\n",
    "- **Removed Position Column**: This column was not necessary as all players were wide receivers\n",
    "- **Removed Fumbles Column**: As found in the EDA, these fumbles were very present for players playing special teams, so it was removed in order to isolate receiving talent.\n",
    "- **Altered Player Column**: This column needed to be edited to match the format of the advanced stats name column, as its format is less granular\n",
    "- **Altered Catch Rate Column**: Turned this column into a numeric column for analysis\n",
    "- **Created a Rec Pts Column**: Created a column to account for receiver production based only on yards and touchdowns, modeled after fantasy football scoring; 6 points for a touchdown, 1 point for every 10 receiving yards\n",
    "\n",
    "***Note***: While it was considered whether or not certain 'per target' stats should have minimum target requirements on them, it was felt that this would greatly affect the data, as these entries would be disproportionately the first and second year players that are being investigated."
   ]
  },
  {
   "cell_type": "code",
   "execution_count": null,
   "metadata": {},
   "outputs": [],
   "source": [
    "rec_stats"
   ]
  },
  {
   "cell_type": "code",
   "execution_count": null,
   "metadata": {},
   "outputs": [],
   "source": [
    "processing.clean_stats()"
   ]
  },
  {
   "cell_type": "markdown",
   "metadata": {},
   "source": [
    "## Cleaning Advanced Statistics Data\n",
    "- **Altered Player Column**: Made the format consistent with the first two datasets\n",
    "- **Altered Team Column**: Mapped some alternative team encodings to the more traditional versions, and replaced 2TM designations with none entries for simpler analysis\n",
    "- **Altered DVOA and VOA Columns**: Reformatted these entries into numeric values\n",
    "- **Split DPI Column**: Split the DPI column into DPI Penalties and DPI Yards in order to have this information in numeric form"
   ]
  },
  {
   "cell_type": "code",
   "execution_count": null,
   "metadata": {},
   "outputs": [],
   "source": [
    "adv_stats"
   ]
  },
  {
   "cell_type": "code",
   "execution_count": null,
   "metadata": {},
   "outputs": [],
   "source": [
    "processing.clean_adv_stats()"
   ]
  },
  {
   "cell_type": "markdown",
   "metadata": {},
   "source": [
    "## Combining the Data\n",
    "- **Merged the Receivers with the Receiving Stats Data for First Year**: Merged (left merge) on Player, Team, and First Year in order to get a player's statistics for their first year, which will act as half of the features for predicting second year production \n",
    "- **Merged the Receivers with a Subset Receiving Stats Data for Second Year**: Merged (left merge) on Player, Team, and Second Year with the Rec Pts column, in order to add the column that will act as the target for the predictive model\n",
    "- **Dropped Entries Where Receivers had Insufficient Data**: If receivers didn't have stats in order to make the Rec Pts column for their second year despite that season having been played (i.e. players not drafted in 2019), they were removed, as they would have no targets to use for the model\n",
    "- **Created a Rec Pts Jump Column**: A column to chart the leap in Rec Pts from first year to second year\n",
    "- **Merged in the Advanced Receiving Stats for First Year**: Merged in the advanced receiver stats for each player's first season for the other half of the features for the model. 7 players did not have advanced stats for their first season, but they are being kept in the dataset for now\n",
    "- **Dropped Redundant Columns and Reordered the Remaining Ones**: Got rid of duplicate columns and reordered them to make the dataset easier to read"
   ]
  },
  {
   "cell_type": "code",
   "execution_count": null,
   "metadata": {
    "scrolled": false
   },
   "outputs": [],
   "source": [
    "processing.merge_data()"
   ]
  }
 ],
 "metadata": {
  "kernelspec": {
   "display_name": "Python 3",
   "language": "python",
   "name": "python3"
  },
  "language_info": {
   "codemirror_mode": {
    "name": "ipython",
    "version": 3
   },
   "file_extension": ".py",
   "mimetype": "text/x-python",
   "name": "python",
   "nbconvert_exporter": "python",
   "pygments_lexer": "ipython3",
   "version": "3.7.4"
  }
 },
 "nbformat": 4,
 "nbformat_minor": 2
}
