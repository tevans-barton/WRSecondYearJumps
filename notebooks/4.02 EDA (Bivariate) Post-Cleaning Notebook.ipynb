{
 "cells": [
  {
   "cell_type": "markdown",
   "metadata": {},
   "source": [
    "<div style=\"text-align: right\"> Tommy Evans-Barton </div>\n",
    "<div style=\"text-align: right\"> WR Year 2 Jumps </div>\n",
    "\n",
    "# EDA (Bivariate) Post-Cleaning Notebook\n",
    "\n",
    "This notebook will be analyzing the data after it's transformation and cleaning in order to better inform the model that will be built in the analysis, specifically conducting bivariate analyses of the relations between the model features and target (Rec Pts/G Second Season). It is important to have a good understanding of the data being fed into a model before building said model."
   ]
  },
  {
   "cell_type": "code",
   "execution_count": 1,
   "metadata": {},
   "outputs": [],
   "source": [
    "import os\n",
    "import sys\n",
    "import pandas as pd\n",
    "import numpy as np\n",
    "import json\n",
    "import matplotlib.pyplot as plt\n",
    "import seaborn as sns\n",
    "import scipy.stats"
   ]
  },
  {
   "cell_type": "code",
   "execution_count": 2,
   "metadata": {},
   "outputs": [],
   "source": [
    "%load_ext autoreload\n",
    "%autoreload 2"
   ]
  },
  {
   "cell_type": "code",
   "execution_count": 3,
   "metadata": {},
   "outputs": [],
   "source": [
    "TOP_PATH = os.environ['PWD']"
   ]
  },
  {
   "cell_type": "code",
   "execution_count": 4,
   "metadata": {},
   "outputs": [],
   "source": [
    "sys.path.append(TOP_PATH + '/src')\n",
    "sys.path.append(TOP_PATH + '/src/viz')"
   ]
  },
  {
   "cell_type": "code",
   "execution_count": 5,
   "metadata": {},
   "outputs": [],
   "source": [
    "import eda_viz_post"
   ]
  },
  {
   "cell_type": "code",
   "execution_count": 6,
   "metadata": {},
   "outputs": [],
   "source": [
    "df = pd.read_csv(TOP_PATH + '/data/final/FINAL_DATA.csv')\n",
    "df_model = df[df['First Year'] < 2019].reset_index(drop = True)\n",
    "df_predict = df[df['First Year'] == 2019].reset_index(drop = True)"
   ]
  },
  {
   "cell_type": "code",
   "execution_count": 7,
   "metadata": {},
   "outputs": [
    {
     "data": {
      "text/plain": [
       "Index(['Rnd', 'Pick', 'Team', 'Player', 'First Year', 'Age Draft', 'G', 'GS',\n",
       "       'Tgt', 'WR Tgt Share', 'Rec', 'WR Rec Share', 'Catch Rate', 'Yds',\n",
       "       'WR Yds Share', 'Y/R', 'TD', 'WR TD Share', '1D', 'Lng', 'Y/Tgt', 'R/G',\n",
       "       'Y/G', 'DYAR', 'YAR', 'DVOA', 'VOA', 'EYds', 'DPI Pens', 'DPI Yds',\n",
       "       'Projected Tgt Share', 'Projected Tgt', 'Projected Rec Share',\n",
       "       'Projected Rec', 'Projected Yds Share', 'Projected Yds',\n",
       "       'Projected TD Share', 'Projected TD', 'Rec Pts First Season',\n",
       "       'Rec Pts/G First Season', 'Rec Pts Second Season',\n",
       "       'Rec Pts/G Second Season'],\n",
       "      dtype='object')"
      ]
     },
     "execution_count": 7,
     "metadata": {},
     "output_type": "execute_result"
    }
   ],
   "source": [
    "df_model.columns"
   ]
  },
  {
   "cell_type": "markdown",
   "metadata": {},
   "source": [
    "## Rnd vs. Rec Pts/G Second Season"
   ]
  },
  {
   "cell_type": "code",
   "execution_count": null,
   "metadata": {},
   "outputs": [],
   "source": []
  }
 ],
 "metadata": {
  "kernelspec": {
   "display_name": "Python 3",
   "language": "python",
   "name": "python3"
  },
  "language_info": {
   "codemirror_mode": {
    "name": "ipython",
    "version": 3
   },
   "file_extension": ".py",
   "mimetype": "text/x-python",
   "name": "python",
   "nbconvert_exporter": "python",
   "pygments_lexer": "ipython3",
   "version": "3.7.4"
  }
 },
 "nbformat": 4,
 "nbformat_minor": 2
}
